{
 "cells": [
  {
   "cell_type": "markdown",
   "metadata": {},
   "source": [
    "枚举:不可变，各个枚举值允许相同但是另一个会被当做别名，各个标签也不允许相同"
   ]
  },
  {
   "cell_type": "code",
   "execution_count": 2,
   "metadata": {},
   "outputs": [
    {
     "name": "stdout",
     "output_type": "stream",
     "text": [
      "<enum 'VIP'>\n",
      "<class 'str'>\n",
      "<class 'int'>\n",
      "YELLOW:1\n",
      "VIP.GREEN\n"
     ]
    }
   ],
   "source": [
    "from enum import Enum\n",
    "\n",
    "class VIP(Enum):\n",
    "    YELLOW = 1\n",
    "    GREEN = 2\n",
    "    BLACK = 3\n",
    "    RED = 4\n",
    "\n",
    "print(type(VIP.YELLOW))\n",
    "print(type(VIP.YELLOW.name))\n",
    "print(type(VIP.YELLOW.value))\n",
    "print(VIP.YELLOW.name+\":\"+str(VIP.YELLOW.value))\n",
    "print(VIP['GREEN'])"
   ]
  },
  {
   "cell_type": "markdown",
   "metadata": {},
   "source": [
    "枚举类型、枚举的名字、枚举的值\n",
    "枚举类型可遍历"
   ]
  },
  {
   "cell_type": "code",
   "execution_count": 3,
   "metadata": {},
   "outputs": [
    {
     "name": "stdout",
     "output_type": "stream",
     "text": [
      "VIP.YELLOW\n",
      "VIP.GREEN\n",
      "VIP.BLACK\n",
      "VIP.RED\n"
     ]
    }
   ],
   "source": [
    "for v in VIP:\n",
    "    print(v)"
   ]
  },
  {
   "cell_type": "markdown",
   "metadata": {},
   "source": [
    "枚举之间不能比较大小，可以比较等值"
   ]
  },
  {
   "cell_type": "code",
   "execution_count": 4,
   "metadata": {},
   "outputs": [
    {
     "data": {
      "text/plain": [
       "False"
      ]
     },
     "execution_count": 4,
     "metadata": {},
     "output_type": "execute_result"
    }
   ],
   "source": [
    "# result = VIP.YELLOW > VIP.BLACK\n",
    "result = VIP.YELLOW == VIP.BLACK\n",
    "result"
   ]
  },
  {
   "cell_type": "markdown",
   "metadata": {},
   "source": [
    "枚举类，增强了可读性。"
   ]
  },
  {
   "cell_type": "code",
   "execution_count": 5,
   "metadata": {},
   "outputs": [],
   "source": [
    "a = 0\n",
    "if a==1:\n",
    "    print()\n",
    "# 对比：\n",
    "if a==VIP.YELLOW:\n",
    "    print()"
   ]
  },
  {
   "cell_type": "code",
   "execution_count": 6,
   "metadata": {},
   "outputs": [
    {
     "name": "stdout",
     "output_type": "stream",
     "text": [
      "VIP.YELLOW\n"
     ]
    }
   ],
   "source": [
    "a = 1\n",
    "print(VIP(a)) # 打印结果为枚举类型，即方便访问"
   ]
  },
  {
   "cell_type": "code",
   "execution_count": 10,
   "metadata": {},
   "outputs": [],
   "source": [
    "from enum import Enum\n",
    "from enum import IntEnum,unique\n",
    "\n",
    "@unique\n",
    "class VIP(Enum):\n",
    "    YELLOW = 1\n",
    "#     BB = 1 #会报错重复值\n",
    "    GREEN = 'str'\n",
    "    BLACK = 3\n",
    "    RED = 4"
   ]
  }
 ],
 "metadata": {
  "kernelspec": {
   "display_name": "Python 3",
   "language": "python",
   "name": "python3"
  },
  "language_info": {
   "codemirror_mode": {
    "name": "ipython",
    "version": 3
   },
   "file_extension": ".py",
   "mimetype": "text/x-python",
   "name": "python",
   "nbconvert_exporter": "python",
   "pygments_lexer": "ipython3",
   "version": "3.7.3"
  }
 },
 "nbformat": 4,
 "nbformat_minor": 2
}
