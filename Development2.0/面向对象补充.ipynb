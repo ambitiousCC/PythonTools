{
 "cells": [
  {
   "cell_type": "markdown",
   "metadata": {},
   "source": [
    "实例展示"
   ]
  },
  {
   "cell_type": "code",
   "execution_count": 55,
   "metadata": {},
   "outputs": [],
   "source": [
    "class Student():\n",
    "    # 一个班级所有的学生的总数\n",
    "    sum = 0\n",
    "    # 编写变量\n",
    "    name = '崔秦' # 全体变量？\n",
    "    age = 0\n",
    "    \n",
    "    def __init__(self,name,age):\n",
    "        # 构造函数\n",
    "        # 使用self.保存实例变量\n",
    "        self.name = name\n",
    "        self.age = age\n",
    "        print(name,age)\n",
    "        # 在构造方法中调用实例类变量的二方法\n",
    "        print('当前学生总数为：'+str(Student.age))\n",
    "        print('当前学生总数为：'+str(self.__class__.age))\n",
    "#         print('student')\n",
    "        # 不能强制返回字符串类型\n",
    "    \n",
    "    # self:固定参数特征，必须加入\n",
    "    # 实例方法是与实例相关联，第一个参数是self\n",
    "    def print_file(self):\n",
    "        print('name:', self.name)\n",
    "        print('age:', str(self.age))\n",
    "        \n",
    "    # 装饰器 不使用self\n",
    "    # 类方法：关于类本身，与对象无关时优先使用\n",
    "    @classmethod\n",
    "    def plus_sum(cls):\n",
    "        cls.sum += 1\n",
    "        print(cls.sum)\n",
    "    \n",
    "    # 静态方法\n",
    "    @staticmethod\n",
    "    def add(x,y):\n",
    "        print(name) # 直接调用     "
   ]
  },
  {
   "cell_type": "code",
   "execution_count": 50,
   "metadata": {},
   "outputs": [],
   "source": [
    "# 调用：\n",
    "# 1实例化：\n",
    "# student = Student()\n",
    "# student.print_file() # 方法"
   ]
  },
  {
   "cell_type": "markdown",
   "metadata": {},
   "source": [
    "1. 对象是变量和方法的封装\n",
    "2. 内部方法初始参数是self，引用内部定义的参数需要使用self调用 \n",
    "3. 把握行为主体\n",
    "4. 类被实例化以后就成为了特指的对象。"
   ]
  },
  {
   "cell_type": "code",
   "execution_count": 51,
   "metadata": {},
   "outputs": [
    {
     "name": "stdout",
     "output_type": "stream",
     "text": [
      "崔秦 18\n",
      "当前学生总数为：0\n",
      "当前学生总数为：0\n",
      "崔秦\n"
     ]
    }
   ],
   "source": [
    "student = Student('崔秦',18)\n",
    "print(student.name)\n",
    "# student.__init__() # 自动调用一次构造方法"
   ]
  },
  {
   "cell_type": "markdown",
   "metadata": {},
   "source": [
    "局部变量不会覆盖全局变量"
   ]
  },
  {
   "cell_type": "code",
   "execution_count": 52,
   "metadata": {},
   "outputs": [
    {
     "name": "stdout",
     "output_type": "stream",
     "text": [
      "3\n",
      "崔秦\n"
     ]
    }
   ],
   "source": [
    "c = 50\n",
    "def add(x,y):\n",
    "    c = x + y\n",
    "    print(c)\n",
    "    \n",
    "add(1,2)\n",
    "print(student.name)"
   ]
  },
  {
   "cell_type": "code",
   "execution_count": 54,
   "metadata": {},
   "outputs": [
    {
     "name": "stdout",
     "output_type": "stream",
     "text": [
      "学生1 15\n",
      "当前学生总数为：0\n",
      "当前学生总数为：0\n",
      "学生2 19\n",
      "当前学生总数为：0\n",
      "当前学生总数为：0\n",
      "崔秦\n",
      "2\n",
      "学生1\n",
      "3\n",
      "学生2\n"
     ]
    }
   ],
   "source": [
    "student1 = Student('学生1',15)\n",
    "student2 = Student('学生2',19)\n",
    "# 类变量和实例变量的不同\n",
    "print(Student.name)\n",
    "Student.plus_sum()\n",
    "print(student1.name)\n",
    "Student.plus_sum()\n",
    "print(student2.name)"
   ]
  },
  {
   "cell_type": "code",
   "execution_count": 47,
   "metadata": {},
   "outputs": [
    {
     "name": "stdout",
     "output_type": "stream",
     "text": [
      "{'name': '学生1', 'age': 15}\n",
      "{'__module__': '__main__', 'sum': 0, 'name': '崔秦', 'age': 0, '__init__': <function Student.__init__ at 0x000001424B094BF8>, 'print_file': <function Student.print_file at 0x000001424B094510>, 'pluc_sum': <classmethod object at 0x000001424B0B1400>, '__dict__': <attribute '__dict__' of 'Student' objects>, '__weakref__': <attribute '__weakref__' of 'Student' objects>, '__doc__': None}\n"
     ]
    }
   ],
   "source": [
    "# 实例变量\n",
    "print(student1.__dict__)\n",
    "# 打印类相关的\n",
    "print(Student.__dict__)"
   ]
  },
  {
   "cell_type": "code",
   "execution_count": null,
   "metadata": {},
   "outputs": [],
   "source": []
  },
  {
   "cell_type": "code",
   "execution_count": null,
   "metadata": {},
   "outputs": [],
   "source": []
  },
  {
   "cell_type": "code",
   "execution_count": null,
   "metadata": {},
   "outputs": [],
   "source": []
  }
 ],
 "metadata": {
  "kernelspec": {
   "display_name": "Python 3",
   "language": "python",
   "name": "python3"
  },
  "language_info": {
   "codemirror_mode": {
    "name": "ipython",
    "version": 3
   },
   "file_extension": ".py",
   "mimetype": "text/x-python",
   "name": "python",
   "nbconvert_exporter": "python",
   "pygments_lexer": "ipython3",
   "version": "3.7.3"
  }
 },
 "nbformat": 4,
 "nbformat_minor": 2
}
