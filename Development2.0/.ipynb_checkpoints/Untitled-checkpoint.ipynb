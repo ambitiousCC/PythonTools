{
 "cells": [
  {
   "cell_type": "markdown",
   "metadata": {},
   "source": [
    "# None\n",
    "不等同于：\n",
    "* 空字符串\n",
    "* 空的列表\n",
    "* 0\n",
    "* False\n",
    "他们都是对象，None表示'不存在',False表示'真假'"
   ]
  },
  {
   "cell_type": "code",
   "execution_count": 3,
   "metadata": {},
   "outputs": [
    {
     "name": "stdout",
     "output_type": "stream",
     "text": [
      "False\n",
      "False\n",
      "False\n",
      "False\n"
     ]
    }
   ],
   "source": [
    "a = ''\n",
    "b = []\n",
    "c = 0\n",
    "\n",
    "print(a==None)\n",
    "print(b==None)\n",
    "print(c==None)\n",
    "\n",
    "print(a is None)\n",
    "\n",
    "'''\n",
    "if not a\n",
    "if a is None\n",
    "结果不一定相同\n",
    "\n",
    "应该使用\n",
    "if a:\n",
    "\n",
    "if not a:\n",
    "'''"
   ]
  },
  {
   "cell_type": "code",
   "execution_count": 5,
   "metadata": {},
   "outputs": [
    {
     "name": "stdout",
     "output_type": "stream",
     "text": [
      "False\n"
     ]
    }
   ],
   "source": [
    "print(None is False)"
   ]
  },
  {
   "cell_type": "markdown",
   "metadata": {},
   "source": [
    "# 自定义对象\n",
    "有两个方法决定自定义对象与bool的关系\n",
    "* 如果只有pass，打印False\n",
    "## 由`__len__()`方法决定\n",
    "* 如果返回非零数字\n",
    "* 如果返回True\n",
    "* len()函数仍然需要调用`__len__()`方法\n",
    "## 由`__bool__()`方法决定\n",
    "* 这个方法决定性最高\n",
    "* 注意这个必须返回bool类型"
   ]
  },
  {
   "cell_type": "code",
   "execution_count": 20,
   "metadata": {},
   "outputs": [
    {
     "name": "stdout",
     "output_type": "stream",
     "text": [
      "bool called\n",
      "F\n"
     ]
    }
   ],
   "source": [
    "class Test():\n",
    "    def __bool__(self):\n",
    "        print('bool called')\n",
    "        return False\n",
    "#     def __len__(self):\n",
    "#         return 0\n",
    "\n",
    "test = Test()\n",
    "if test:\n",
    "    print('S')\n",
    "else:\n",
    "    print('F')"
   ]
  },
  {
   "cell_type": "code",
   "execution_count": 10,
   "metadata": {},
   "outputs": [
    {
     "name": "stdout",
     "output_type": "stream",
     "text": [
      "False\n",
      "False\n",
      "False\n"
     ]
    }
   ],
   "source": [
    "print(bool(None))\n",
    "print(bool([]))\n",
    "print(bool(test))"
   ]
  }
 ],
 "metadata": {
  "kernelspec": {
   "display_name": "Python 3",
   "language": "python",
   "name": "python3"
  },
  "language_info": {
   "codemirror_mode": {
    "name": "ipython",
    "version": 3
   },
   "file_extension": ".py",
   "mimetype": "text/x-python",
   "name": "python",
   "nbconvert_exporter": "python",
   "pygments_lexer": "ipython3",
   "version": "3.7.3"
  }
 },
 "nbformat": 4,
 "nbformat_minor": 2
}
