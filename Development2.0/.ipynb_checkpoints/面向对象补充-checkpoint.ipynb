{
 "cells": [
  {
   "cell_type": "markdown",
   "metadata": {},
   "source": [
    "实例展示"
   ]
  },
  {
   "cell_type": "code",
   "execution_count": 9,
   "metadata": {},
   "outputs": [],
   "source": [
    "class Student():\n",
    "    # 一个班级所有的学生的总数\n",
    "    sum = 0\n",
    "    # 编写变量\n",
    "    name = '崔秦' # 全体变量？不会被局部变量覆盖\n",
    "    age = 0\n",
    "    \n",
    "    def __init__(self,name,age):\n",
    "        # 构造函数\n",
    "        # 使用self.保存实例变量\n",
    "        self.name = name\n",
    "        self.age = age\n",
    "        # 私有变量\n",
    "        self.__score  = 0\n",
    "        print(name,age)\n",
    "        # 在构造方法中调用实例类变量的二方法\n",
    "#         print('当前学生总数为：'+str(Student.age))\n",
    "#         print('当前学生总数为：'+str(self.__class__.age))\n",
    "#         print('student')\n",
    "        # 不能强制返回字符串类型\n",
    "    \n",
    "    def marking(self,score):\n",
    "        if score < 0: # 成绩应该大于零\n",
    "            score = 0\n",
    "        self.score = score\n",
    "        print('score:',str(self.score))\n",
    "    \n",
    "    # self:固定参数特征，必须加入\n",
    "    # 实例方法是与实例相关联，第一个参数是self\n",
    "    def print_file(self):\n",
    "        print('name:', self.name)\n",
    "        print('age:', str(self.age))\n",
    "        \n",
    "    # 装饰器 不使用self\n",
    "    # 类方法：关于类本身，与对象无关时优先使用\n",
    "    @classmethod\n",
    "    def plus_sum(cls):\n",
    "        cls.sum += 1\n",
    "        print(cls.sum)\n",
    "    \n",
    "    # 静态方法\n",
    "    @staticmethod\n",
    "    def add(x,y):\n",
    "        print(name) # 直接调用     \n",
    "        \n",
    "    # 内部方法调用内部方法\n",
    "    def do_homework(self):\n",
    "        self.do_english_homework()\n",
    "        print('homework')\n",
    "    \n",
    "    def do_english_homework(self):\n",
    "        pass\n",
    "    \n",
    "    # 构建私有方法:方法名增加__\n",
    "    def __private_method(self):\n",
    "        pass\n",
    "    \n",
    "    # 如果后面也有__则会变成公开，尽量避免使用：一般为python内部方法"
   ]
  },
  {
   "cell_type": "code",
   "execution_count": 10,
   "metadata": {},
   "outputs": [],
   "source": [
    "# 调用：\n",
    "# 1实例化：\n",
    "# student = Student()\n",
    "# student.print_file() # 方法"
   ]
  },
  {
   "cell_type": "markdown",
   "metadata": {},
   "source": [
    "1. 对象是变量和方法的封装\n",
    "2. 内部方法初始参数是self，引用内部定义的参数需要使用self调用 \n",
    "3. 把握行为主体\n",
    "4. 类被实例化以后就成为了特指的对象。"
   ]
  },
  {
   "cell_type": "code",
   "execution_count": 11,
   "metadata": {},
   "outputs": [
    {
     "name": "stdout",
     "output_type": "stream",
     "text": [
      "崔秦 18\n",
      "崔秦\n"
     ]
    }
   ],
   "source": [
    "student = Student('崔秦',18)\n",
    "print(student.name)\n",
    "# student.__init__() # 自动调用一次构造方法"
   ]
  },
  {
   "cell_type": "markdown",
   "metadata": {},
   "source": [
    "局部变量不会覆盖全局变量"
   ]
  },
  {
   "cell_type": "code",
   "execution_count": 12,
   "metadata": {},
   "outputs": [
    {
     "name": "stdout",
     "output_type": "stream",
     "text": [
      "3\n",
      "崔秦\n"
     ]
    }
   ],
   "source": [
    "c = 50\n",
    "def add(x,y):\n",
    "    c = x + y\n",
    "    print(c)\n",
    "    \n",
    "add(1,2)\n",
    "print(student.name)"
   ]
  },
  {
   "cell_type": "code",
   "execution_count": 13,
   "metadata": {},
   "outputs": [
    {
     "name": "stdout",
     "output_type": "stream",
     "text": [
      "学生1 15\n",
      "学生2 19\n",
      "崔秦\n",
      "1\n",
      "学生1\n",
      "2\n",
      "学生2\n"
     ]
    }
   ],
   "source": [
    "student1 = Student('学生1',15)\n",
    "student2 = Student('学生2',19)\n",
    "# 类变量和实例变量的不同\n",
    "print(Student.name)\n",
    "Student.plus_sum()\n",
    "print(student1.name)\n",
    "Student.plus_sum()\n",
    "print(student2.name)"
   ]
  },
  {
   "cell_type": "code",
   "execution_count": 14,
   "metadata": {},
   "outputs": [
    {
     "name": "stdout",
     "output_type": "stream",
     "text": [
      "{'name': '学生1', 'age': 15, 'score': 0}\n",
      "{'__module__': '__main__', 'sum': 2, 'name': '崔秦', 'age': 0, '__init__': <function Student.__init__ at 0x000002483A7927B8>, 'marking': <function Student.marking at 0x000002483A792620>, 'print_file': <function Student.print_file at 0x000002483A7929D8>, 'plus_sum': <classmethod object at 0x000002483A7C0668>, 'add': <staticmethod object at 0x000002483A7C06A0>, 'do_homework': <function Student.do_homework at 0x000002483A792EA0>, 'do_english_homework': <function Student.do_english_homework at 0x000002483A792E18>, '_Student__private_method': <function Student.__private_method at 0x000002483A792A60>, '__dict__': <attribute '__dict__' of 'Student' objects>, '__weakref__': <attribute '__weakref__' of 'Student' objects>, '__doc__': None}\n"
     ]
    }
   ],
   "source": [
    "# 实例变量\n",
    "print(student1.__dict__)\n",
    "# 打印类相关的\n",
    "print(Student.__dict__)"
   ]
  },
  {
   "cell_type": "markdown",
   "metadata": {},
   "source": [
    "私有成员，比如成绩不能直接访问"
   ]
  },
  {
   "cell_type": "code",
   "execution_count": 15,
   "metadata": {},
   "outputs": [
    {
     "name": "stdout",
     "output_type": "stream",
     "text": [
      "score: 0\n"
     ]
    }
   ],
   "source": [
    "student1.marking(-1)"
   ]
  },
  {
   "cell_type": "code",
   "execution_count": 16,
   "metadata": {},
   "outputs": [
    {
     "ename": "AttributeError",
     "evalue": "'Student' object has no attribute '__private_method'",
     "output_type": "error",
     "traceback": [
      "\u001b[1;31m---------------------------------------------------------------------------\u001b[0m",
      "\u001b[1;31mAttributeError\u001b[0m                            Traceback (most recent call last)",
      "\u001b[1;32m<ipython-input-16-006c8612e81d>\u001b[0m in \u001b[0;36m<module>\u001b[1;34m\u001b[0m\n\u001b[1;32m----> 1\u001b[1;33m \u001b[0mstudent1\u001b[0m\u001b[1;33m.\u001b[0m\u001b[0m__private_method\u001b[0m\u001b[1;33m(\u001b[0m\u001b[1;33m)\u001b[0m\u001b[1;33m\u001b[0m\u001b[1;33m\u001b[0m\u001b[0m\n\u001b[0m",
      "\u001b[1;31mAttributeError\u001b[0m: 'Student' object has no attribute '__private_method'"
     ]
    }
   ],
   "source": [
    "# 访问私有方法报错\n",
    "student1.__private_method()"
   ]
  },
  {
   "cell_type": "code",
   "execution_count": null,
   "metadata": {},
   "outputs": [],
   "source": []
  }
 ],
 "metadata": {
  "kernelspec": {
   "display_name": "Python 3",
   "language": "python",
   "name": "python3"
  },
  "language_info": {
   "codemirror_mode": {
    "name": "ipython",
    "version": 3
   },
   "file_extension": ".py",
   "mimetype": "text/x-python",
   "name": "python",
   "nbconvert_exporter": "python",
   "pygments_lexer": "ipython3",
   "version": "3.7.3"
  }
 },
 "nbformat": 4,
 "nbformat_minor": 2
}
