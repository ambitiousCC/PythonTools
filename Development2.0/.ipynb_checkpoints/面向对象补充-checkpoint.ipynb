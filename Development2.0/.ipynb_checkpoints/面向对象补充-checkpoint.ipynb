{
 "cells": [
  {
   "cell_type": "markdown",
   "metadata": {},
   "source": [
    "实例展示"
   ]
  },
  {
   "cell_type": "code",
   "execution_count": 12,
   "metadata": {},
   "outputs": [],
   "source": [
    "class Student():\n",
    "    # 编写变量\n",
    "    name = '' # 全体变量？\n",
    "    age = 0\n",
    "    \n",
    "    def __init__(self,name,age):\n",
    "        # 构造函数\n",
    "        print('init')\n",
    "        # 不能强制返回字符串类型\n",
    "    \n",
    "    # self:固定参数特征，必须加入\n",
    "    def print_file(self):\n",
    "        print('name:', self.name)\n",
    "        print('age:', str(self.age))"
   ]
  },
  {
   "cell_type": "code",
   "execution_count": 13,
   "metadata": {},
   "outputs": [
    {
     "name": "stdout",
     "output_type": "stream",
     "text": [
      "init\n",
      "name: \n",
      "age: 0\n"
     ]
    }
   ],
   "source": [
    "# 调用：\n",
    "# 1实例化：\n",
    "student = Student()\n",
    "student.print_file() # 方法"
   ]
  },
  {
   "cell_type": "markdown",
   "metadata": {},
   "source": [
    "1. 对象是变量和方法的封装\n",
    "2. 内部方法初始参数是self，引用内部定义的参数需要使用self调用 \n",
    "3. 把握行为主体\n",
    "4. 类被实例化以后就成为了特指的对象。"
   ]
  },
  {
   "cell_type": "code",
   "execution_count": 14,
   "metadata": {},
   "outputs": [
    {
     "name": "stdout",
     "output_type": "stream",
     "text": [
      "init\n",
      "init\n"
     ]
    }
   ],
   "source": [
    "student = Student()\n",
    "student.__init__() # 自动调用一次构造方法"
   ]
  },
  {
   "cell_type": "code",
   "execution_count": null,
   "metadata": {},
   "outputs": [],
   "source": []
  }
 ],
 "metadata": {
  "kernelspec": {
   "display_name": "Python 3",
   "language": "python",
   "name": "python3"
  },
  "language_info": {
   "codemirror_mode": {
    "name": "ipython",
    "version": 3
   },
   "file_extension": ".py",
   "mimetype": "text/x-python",
   "name": "python",
   "nbconvert_exporter": "python",
   "pygments_lexer": "ipython3",
   "version": "3.7.3"
  }
 },
 "nbformat": 4,
 "nbformat_minor": 2
}
