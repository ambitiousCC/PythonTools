{
 "cells": [
  {
   "cell_type": "code",
   "execution_count": 39,
   "metadata": {},
   "outputs": [],
   "source": [
    "import numpy as np\n",
    "import pandas as pd"
   ]
  },
  {
   "cell_type": "code",
   "execution_count": 40,
   "metadata": {},
   "outputs": [
    {
     "name": "stdout",
     "output_type": "stream",
     "text": [
      "    Age  Height     Name Sex  Weight\n",
      "0    14    69.0   Alfred   M   112.5\n",
      "1    13    56.5    Alice   F    84.0\n",
      "2    13    65.3  Barbara   F    98.0\n",
      "3    14    62.8    Carol   F   102.5\n",
      "4    14    63.5    Henry   M   102.5\n",
      "5    12    57.3    James   M    83.0\n",
      "6    12    59.8     Jane   F    84.5\n",
      "7    15    62.5    Janet   F   112.5\n",
      "8    13    62.5  Jeffrey   M    84.0\n",
      "9    12    59.0     John   M    99.5\n",
      "10   11    51.3    Joyce   F    50.5\n",
      "11   14    64.3     Judy   F    90.0\n",
      "12   12    56.3   Louise   F    77.0\n",
      "13   15    66.5    Marry   F   112.0\n",
      "14   16    72.0   Philip   M   150.0\n",
      "15   12    64.8   Robert   M   128.0\n",
      "16   15    67.0   Ronald   M   133.0\n",
      "17   11    57.5   Thomas   M    85.0\n",
      "18   15    66.5   Willam   M   112.0\n"
     ]
    }
   ],
   "source": [
    "stu_dic = {'Age':[14,13,13,14,14,12,12,15,13,12,11,14,12,15,16,12,15,11,15],\n",
    "'Height':[69,56.5,65.3,62.8,63.5,57.3,59.8,62.5,62.5,59,51.3,64.3,56.3,66.5,72,64.8,67,57.5,66.5],\n",
    "'Name':['Alfred','Alice','Barbara','Carol','Henry','James','Jane','Janet','Jeffrey','John','Joyce','Judy','Louise','Marry','Philip','Robert','Ronald','Thomas','Willam'],\n",
    "'Sex':['M','F','F','F','M','M','F','F','M','M','F','F','F','F','M','M','M','M','M'],\n",
    "'Weight':[112.5,84,98,102.5,102.5,83,84.5,112.5,84,99.5,50.5,90,77,112,150,128,133,85,112]}\n",
    "student = pd.DataFrame(stu_dic)\n",
    "print(student)"
   ]
  },
  {
   "cell_type": "code",
   "execution_count": 41,
   "metadata": {},
   "outputs": [
    {
     "name": "stdout",
     "output_type": "stream",
     "text": [
      "         Name Sex  Age  Height  Weight\n",
      "0      cuiqin   M   19     175      61\n",
      "1  liumengjie   F    7     162      45\n"
     ]
    }
   ],
   "source": [
    "# 实现SQL操作\n",
    "dic = {'Name':['cuiqin','liumengjie'],'Sex':['M','F'],'Age':[19,7],'Height':[175,162],'Weight':[61,45]}\n",
    "cp = pd.DataFrame(dic)\n",
    "print(cp)"
   ]
  },
  {
   "cell_type": "code",
   "execution_count": 42,
   "metadata": {},
   "outputs": [
    {
     "name": "stdout",
     "output_type": "stream",
     "text": [
      "    Age  Height        Name Sex  Weight\n",
      "0    14    69.0      Alfred   M   112.5\n",
      "1    13    56.5       Alice   F    84.0\n",
      "2    13    65.3     Barbara   F    98.0\n",
      "3    14    62.8       Carol   F   102.5\n",
      "4    14    63.5       Henry   M   102.5\n",
      "5    12    57.3       James   M    83.0\n",
      "6    12    59.8        Jane   F    84.5\n",
      "7    15    62.5       Janet   F   112.5\n",
      "8    13    62.5     Jeffrey   M    84.0\n",
      "9    12    59.0        John   M    99.5\n",
      "10   11    51.3       Joyce   F    50.5\n",
      "11   14    64.3        Judy   F    90.0\n",
      "12   12    56.3      Louise   F    77.0\n",
      "13   15    66.5       Marry   F   112.0\n",
      "14   16    72.0      Philip   M   150.0\n",
      "15   12    64.8      Robert   M   128.0\n",
      "16   15    67.0      Ronald   M   133.0\n",
      "17   11    57.5      Thomas   M    85.0\n",
      "18   15    66.5      Willam   M   112.0\n",
      "0    19   175.0      cuiqin   M    61.0\n",
      "1     7   162.0  liumengjie   F    45.0\n"
     ]
    },
    {
     "name": "stderr",
     "output_type": "stream",
     "text": [
      "C:\\ProgramData\\Anaconda3\\lib\\site-packages\\ipykernel_launcher.py:2: FutureWarning: Sorting because non-concatenation axis is not aligned. A future version\n",
      "of pandas will change to not sort by default.\n",
      "\n",
      "To accept the future behavior, pass 'sort=False'.\n",
      "\n",
      "To retain the current behavior and silence the warning, pass 'sort=True'.\n",
      "\n",
      "  \n"
     ]
    }
   ],
   "source": [
    "# 数据框连接:新增行数据\n",
    "students = pd.concat([student,cp])\n",
    "print(students)"
   ]
  },
  {
   "cell_type": "code",
   "execution_count": 43,
   "metadata": {},
   "outputs": [
    {
     "name": "stdout",
     "output_type": "stream",
     "text": [
      "    Age  Height        Name Sex  Weight  Score\n",
      "0    14    69.0      Alfred   M   112.5    NaN\n",
      "1    13    56.5       Alice   F    84.0    NaN\n",
      "2    13    65.3     Barbara   F    98.0    NaN\n",
      "3    14    62.8       Carol   F   102.5    NaN\n",
      "4    14    63.5       Henry   M   102.5    NaN\n",
      "5    12    57.3       James   M    83.0    NaN\n",
      "6    12    59.8        Jane   F    84.5    NaN\n",
      "7    15    62.5       Janet   F   112.5    NaN\n",
      "8    13    62.5     Jeffrey   M    84.0    NaN\n",
      "9    12    59.0        John   M    99.5    NaN\n",
      "10   11    51.3       Joyce   F    50.5    NaN\n",
      "11   14    64.3        Judy   F    90.0    NaN\n",
      "12   12    56.3      Louise   F    77.0    NaN\n",
      "13   15    66.5       Marry   F   112.0    NaN\n",
      "14   16    72.0      Philip   M   150.0    NaN\n",
      "15   12    64.8      Robert   M   128.0    NaN\n",
      "16   15    67.0      Ronald   M   133.0    NaN\n",
      "17   11    57.5      Thomas   M    85.0    NaN\n",
      "18   15    66.5      Willam   M   112.0    NaN\n",
      "0    19   175.0      cuiqin   M    61.0    NaN\n",
      "1     7   162.0  liumengjie   F    45.0    NaN\n"
     ]
    }
   ],
   "source": [
    "# 新增列数据\n",
    "print(pd.DataFrame(students,columns=['Age','Height','Name','Sex','Weight','Score'])) # 直接在开头引入名称即可"
   ]
  },
  {
   "cell_type": "code",
   "execution_count": 44,
   "metadata": {},
   "outputs": [
    {
     "ename": "NameError",
     "evalue": "name 'students' is not defined",
     "output_type": "error",
     "traceback": [
      "\u001b[1;31m---------------------------------------------------------------------------\u001b[0m",
      "\u001b[1;31mNameError\u001b[0m                                 Traceback (most recent call last)",
      "\u001b[1;32m<ipython-input-44-0e2444bdcd7c>\u001b[0m in \u001b[0;36m<module>\u001b[1;34m\u001b[0m\n\u001b[0;32m      1\u001b[0m \u001b[1;31m# 删除\u001b[0m\u001b[1;33m\u001b[0m\u001b[1;33m\u001b[0m\u001b[1;33m\u001b[0m\u001b[0m\n\u001b[0;32m      2\u001b[0m \u001b[1;32mdel\u001b[0m \u001b[0mstudents\u001b[0m\u001b[1;33m\u001b[0m\u001b[1;33m\u001b[0m\u001b[0m\n\u001b[1;32m----> 3\u001b[1;33m \u001b[0mprint\u001b[0m\u001b[1;33m(\u001b[0m\u001b[0mstudents\u001b[0m\u001b[1;33m)\u001b[0m\u001b[1;33m\u001b[0m\u001b[1;33m\u001b[0m\u001b[0m\n\u001b[0m",
      "\u001b[1;31mNameError\u001b[0m: name 'students' is not defined"
     ]
    }
   ],
   "source": [
    "# 删除\n",
    "del students\n",
    "print(students)"
   ]
  },
  {
   "cell_type": "code",
   "execution_count": 45,
   "metadata": {},
   "outputs": [
    {
     "name": "stdout",
     "output_type": "stream",
     "text": [
      "    Age  Height     Name Sex  Weight\n",
      "0    14    69.0   Alfred   M   112.5\n",
      "1    13    56.5    Alice   F    84.0\n",
      "2    13    65.3  Barbara   F    98.0\n",
      "3    14    62.8    Carol   F   102.5\n",
      "4    14    63.5    Henry   M   102.5\n",
      "5    12    57.3    James   M    83.0\n",
      "6    12    59.8     Jane   F    84.5\n",
      "7    15    62.5    Janet   F   112.5\n",
      "8    13    62.5  Jeffrey   M    84.0\n",
      "9    12    59.0     John   M    99.5\n",
      "10   11    51.3    Joyce   F    50.5\n",
      "11   14    64.3     Judy   F    90.0\n",
      "12   12    56.3   Louise   F    77.0\n",
      "13   15    66.5    Marry   F   112.0\n",
      "14   16    72.0   Philip   M   150.0\n",
      "15   12    64.8   Robert   M   128.0\n",
      "16   15    67.0   Ronald   M   133.0\n",
      "17   11    57.5   Thomas   M    85.0\n",
      "18   15    66.5   Willam   M   112.0\n"
     ]
    }
   ],
   "source": [
    "# 删除指定的行\n",
    "print(student)"
   ]
  },
  {
   "cell_type": "markdown",
   "metadata": {},
   "source": [
    "##### student = student.drop([4,18])\n",
    "print(student.drop([1,2,3,4,5,6]))"
   ]
  },
  {
   "cell_type": "code",
   "execution_count": 47,
   "metadata": {},
   "outputs": [
    {
     "name": "stdout",
     "output_type": "stream",
     "text": [
      "    Age  Height    Name Sex  Weight\n",
      "7    15    62.5   Janet   F   112.5\n",
      "13   15    66.5   Marry   F   112.0\n",
      "14   16    72.0  Philip   M   150.0\n",
      "16   15    67.0  Ronald   M   133.0\n",
      "18   15    66.5  Willam   M   112.0\n"
     ]
    }
   ],
   "source": [
    "# 选择删除\n",
    "## 条件删除\n",
    "print(student[student['Age']>14])"
   ]
  },
  {
   "cell_type": "code",
   "execution_count": 48,
   "metadata": {},
   "outputs": [
    {
     "name": "stdout",
     "output_type": "stream",
     "text": [
      "   Age     Name Sex\n",
      "0   14   Alfred   M\n",
      "1   13    Alice   F\n",
      "2   13  Barbara   F\n",
      "3   14    Carol   F\n",
      "4   14    Henry   M\n"
     ]
    }
   ],
   "source": [
    "# 删除指定的行\n",
    "print(student.drop(['Height','Weight'],axis=1).head()) # 调整axis参数值，注意默认是0，就是默认是序列号"
   ]
  },
  {
   "cell_type": "code",
   "execution_count": 49,
   "metadata": {},
   "outputs": [
    {
     "name": "stdout",
     "output_type": "stream",
     "text": [
      "         Name Sex  Age  Height  Weight\n",
      "0      cuiqin   M   19     175      61\n",
      "1  liumengjie   F    7     162      45\n"
     ]
    }
   ],
   "source": [
    "# 修改默认的值\n",
    "print(cp)"
   ]
  },
  {
   "cell_type": "code",
   "execution_count": 50,
   "metadata": {},
   "outputs": [
    {
     "name": "stdout",
     "output_type": "stream",
     "text": [
      "         Name Sex  Age\n",
      "1  liumengjie   F   19\n"
     ]
    }
   ],
   "source": [
    "cp.loc[cp['Name'] == 'liumengjie','Age']=19\n",
    "print(cp[cp['Name'] == 'liumengjie'][['Name','Sex','Age']])"
   ]
  },
  {
   "cell_type": "code",
   "execution_count": 51,
   "metadata": {},
   "outputs": [
    {
     "name": "stdout",
     "output_type": "stream",
     "text": [
      "           Age     Height      Weight\n",
      "Sex                                  \n",
      "F    13.222222  60.588889   90.111111\n",
      "M    13.400000  63.910000  108.950000\n"
     ]
    }
   ],
   "source": [
    "# 聚合排序\n",
    "print(student.groupby('Sex').mean()) # 求关于sex列的数据的对应的数据的身高和体重的平均值"
   ]
  },
  {
   "cell_type": "code",
   "execution_count": 52,
   "metadata": {},
   "outputs": [
    {
     "name": "stdout",
     "output_type": "stream",
     "text": [
      "        Height             Weight        \n",
      "          mean median        mean  median\n",
      "Sex                                      \n",
      "F    60.588889  62.50   90.111111   90.00\n",
      "M    63.910000  64.15  108.950000  107.25\n"
     ]
    }
   ],
   "source": [
    "# 分组+多个统计量\n",
    "print(student.drop('Age',axis=1).groupby('Sex').agg([np.mean,np.median]))"
   ]
  },
  {
   "cell_type": "code",
   "execution_count": 53,
   "metadata": {},
   "outputs": [
    {
     "name": "stdout",
     "output_type": "stream",
     "text": [
      "0     8\n",
      "1     5\n",
      "2    16\n",
      "3     9\n",
      "4     6\n",
      "5     1\n",
      "6    15\n",
      "7    15\n",
      "8    16\n",
      "9     1\n",
      "dtype: int32\n"
     ]
    }
   ],
   "source": [
    "# sort tools\n",
    "Data = pd.Series(np.array(np.random.randint(1,20,10)))\n",
    "print(Data)"
   ]
  },
  {
   "cell_type": "code",
   "execution_count": 54,
   "metadata": {},
   "outputs": [
    {
     "name": "stdout",
     "output_type": "stream",
     "text": [
      "0     8\n",
      "1     5\n",
      "2    16\n",
      "3     9\n",
      "4     6\n",
      "5     1\n",
      "6    15\n",
      "7    15\n",
      "8    16\n",
      "9     1\n",
      "dtype: int32\n"
     ]
    }
   ],
   "source": [
    "print(Data.sort_index()) # index sort"
   ]
  },
  {
   "cell_type": "code",
   "execution_count": 55,
   "metadata": {},
   "outputs": [
    {
     "name": "stdout",
     "output_type": "stream",
     "text": [
      "8    16\n",
      "2    16\n",
      "7    15\n",
      "6    15\n",
      "3     9\n",
      "0     8\n",
      "4     6\n",
      "1     5\n",
      "9     1\n",
      "5     1\n",
      "dtype: int32\n"
     ]
    }
   ],
   "source": [
    "print(Data.sort_values(ascending=False)) # values sort"
   ]
  },
  {
   "cell_type": "code",
   "execution_count": 56,
   "metadata": {},
   "outputs": [
    {
     "name": "stdout",
     "output_type": "stream",
     "text": [
      "    Age  Height     Name Sex  Weight\n",
      "0    14    69.0   Alfred   M   112.5\n",
      "1    13    56.5    Alice   F    84.0\n",
      "2    13    65.3  Barbara   F    98.0\n",
      "3    14    62.8    Carol   F   102.5\n",
      "4    14    63.5    Henry   M   102.5\n",
      "5    12    57.3    James   M    83.0\n",
      "6    12    59.8     Jane   F    84.5\n",
      "7    15    62.5    Janet   F   112.5\n",
      "8    13    62.5  Jeffrey   M    84.0\n",
      "9    12    59.0     John   M    99.5\n",
      "10   11    51.3    Joyce   F    50.5\n",
      "11   14    64.3     Judy   F    90.0\n",
      "12   12    56.3   Louise   F    77.0\n",
      "13   15    66.5    Marry   F   112.0\n",
      "14   16    72.0   Philip   M   150.0\n",
      "15   12    64.8   Robert   M   128.0\n",
      "16   15    67.0   Ronald   M   133.0\n",
      "17   11    57.5   Thomas   M    85.0\n",
      "18   15    66.5   Willam   M   112.0\n"
     ]
    }
   ],
   "source": [
    "print(student)"
   ]
  },
  {
   "cell_type": "code",
   "execution_count": 57,
   "metadata": {},
   "outputs": [
    {
     "name": "stdout",
     "output_type": "stream",
     "text": [
      "    Age  Height     Name Sex  Weight\n",
      "10   11    51.3    Joyce   F    50.5\n",
      "17   11    57.5   Thomas   M    85.0\n",
      "12   12    56.3   Louise   F    77.0\n",
      "5    12    57.3    James   M    83.0\n",
      "9    12    59.0     John   M    99.5\n",
      "6    12    59.8     Jane   F    84.5\n",
      "15   12    64.8   Robert   M   128.0\n",
      "1    13    56.5    Alice   F    84.0\n",
      "8    13    62.5  Jeffrey   M    84.0\n",
      "2    13    65.3  Barbara   F    98.0\n",
      "3    14    62.8    Carol   F   102.5\n",
      "4    14    63.5    Henry   M   102.5\n",
      "11   14    64.3     Judy   F    90.0\n",
      "0    14    69.0   Alfred   M   112.5\n",
      "7    15    62.5    Janet   F   112.5\n",
      "13   15    66.5    Marry   F   112.0\n",
      "18   15    66.5   Willam   M   112.0\n",
      "16   15    67.0   Ronald   M   133.0\n",
      "14   16    72.0   Philip   M   150.0\n"
     ]
    }
   ],
   "source": [
    "# sort by values\n",
    "print(student.sort_values(by = ['Age','Height'])) # 先对age排序，再在排好序的age中排序height"
   ]
  },
  {
   "cell_type": "code",
   "execution_count": 63,
   "metadata": {},
   "outputs": [
    {
     "name": "stdout",
     "output_type": "stream",
     "text": [
      "      Name  Score\n",
      "0   Alfred     88\n",
      "1    Alice     76\n",
      "2  Barbara     89\n",
      "3    Carol     67\n",
      "4    Henry     79\n",
      "5  Jeffrey     90\n",
      "6     Judy     92\n",
      "7   Philip     86\n",
      "8   Robert     73\n",
      "9   Willam     77\n"
     ]
    }
   ],
   "source": [
    "# 数据库连接中的内连接和外连接\n",
    "dic2 = {'Name':['Alfred','Alice','Barbara','Carol','Henry','Jeffrey','Judy','Philip','Robert','Willam'],\n",
    "        'Score':[88,76,89,67,79,90,92,86,73,77]}\n",
    "score = pd.DataFrame(dic2)\n",
    "print(score)"
   ]
  },
  {
   "cell_type": "code",
   "execution_count": 65,
   "metadata": {},
   "outputs": [
    {
     "name": "stdout",
     "output_type": "stream",
     "text": [
      "   Age  Height     Name Sex  Weight  Score\n",
      "0   14    69.0   Alfred   M   112.5     88\n",
      "1   13    56.5    Alice   F    84.0     76\n",
      "2   13    65.3  Barbara   F    98.0     89\n",
      "3   14    62.8    Carol   F   102.5     67\n",
      "4   14    63.5    Henry   M   102.5     79\n",
      "5   13    62.5  Jeffrey   M    84.0     90\n",
      "6   14    64.3     Judy   F    90.0     92\n",
      "7   16    72.0   Philip   M   150.0     86\n",
      "8   12    64.8   Robert   M   128.0     73\n",
      "9   15    66.5   Willam   M   112.0     77\n"
     ]
    }
   ],
   "source": [
    "# 两个表关联\n",
    "stu_score1 = pd.merge(student,score, on='Name') # only on view in successfully connecting\n",
    "print(stu_score1)"
   ]
  },
  {
   "cell_type": "code",
   "execution_count": 66,
   "metadata": {},
   "outputs": [
    {
     "name": "stdout",
     "output_type": "stream",
     "text": [
      "    Age  Height     Name Sex  Weight  Score\n",
      "0    14    69.0   Alfred   M   112.5   88.0\n",
      "1    13    56.5    Alice   F    84.0   76.0\n",
      "2    13    65.3  Barbara   F    98.0   89.0\n",
      "3    14    62.8    Carol   F   102.5   67.0\n",
      "4    14    63.5    Henry   M   102.5   79.0\n",
      "5    12    57.3    James   M    83.0    NaN\n",
      "6    12    59.8     Jane   F    84.5    NaN\n",
      "7    15    62.5    Janet   F   112.5    NaN\n",
      "8    13    62.5  Jeffrey   M    84.0   90.0\n",
      "9    12    59.0     John   M    99.5    NaN\n",
      "10   11    51.3    Joyce   F    50.5    NaN\n",
      "11   14    64.3     Judy   F    90.0   92.0\n",
      "12   12    56.3   Louise   F    77.0    NaN\n",
      "13   15    66.5    Marry   F   112.0    NaN\n",
      "14   16    72.0   Philip   M   150.0   86.0\n",
      "15   12    64.8   Robert   M   128.0   73.0\n",
      "16   15    67.0   Ronald   M   133.0    NaN\n",
      "17   11    57.5   Thomas   M    85.0    NaN\n",
      "18   15    66.5   Willam   M   112.0   77.0\n"
     ]
    }
   ],
   "source": [
    " # default as 'left' and 能匹配多少就匹配多少，匹配不到的显示为NaN\n",
    "# merge 实现的是两个表的内连接 merge(table1,table2,on=value_name,how=methods(['left','right','outer']))\n",
    "stu_score2 = pd.merge(student,score, on='Name', how='left')\n",
    "print(stu_score2)"
   ]
  },
  {
   "cell_type": "code",
   "execution_count": 67,
   "metadata": {},
   "outputs": [],
   "source": [
    "# 填补数据 for tthree methods : "
   ]
  },
  {
   "cell_type": "code",
   "execution_count": 68,
   "metadata": {},
   "outputs": [
    {
     "name": "stdout",
     "output_type": "stream",
     "text": [
      "0     88.0\n",
      "1     76.0\n",
      "2     89.0\n",
      "3     67.0\n",
      "4     79.0\n",
      "5      NaN\n",
      "6      NaN\n",
      "7      NaN\n",
      "8     90.0\n",
      "9      NaN\n",
      "10     NaN\n",
      "11    92.0\n",
      "12     NaN\n",
      "13     NaN\n",
      "14    86.0\n",
      "15    73.0\n",
      "16     NaN\n",
      "17     NaN\n",
      "18    77.0\n",
      "Name: Score, dtype: float64\n"
     ]
    }
   ],
   "source": [
    "# 删除法\n",
    "s = stu_score2['Score']\n",
    "print(s)"
   ]
  },
  {
   "cell_type": "code",
   "execution_count": 70,
   "metadata": {},
   "outputs": [
    {
     "name": "stdout",
     "output_type": "stream",
     "text": [
      "9\n"
     ]
    }
   ],
   "source": [
    "# check how many values was lost\n",
    "print(sum(pd.isnull(s)))"
   ]
  },
  {
   "cell_type": "code",
   "execution_count": 71,
   "metadata": {},
   "outputs": [
    {
     "name": "stdout",
     "output_type": "stream",
     "text": [
      "0     88.0\n",
      "1     76.0\n",
      "2     89.0\n",
      "3     67.0\n",
      "4     79.0\n",
      "8     90.0\n",
      "11    92.0\n",
      "14    86.0\n",
      "15    73.0\n",
      "18    77.0\n",
      "Name: Score, dtype: float64\n"
     ]
    }
   ],
   "source": [
    "# and del them\n",
    "print(s.dropna()) # dropna = drop null all"
   ]
  },
  {
   "cell_type": "code",
   "execution_count": 74,
   "metadata": {},
   "outputs": [
    {
     "name": "stdout",
     "output_type": "stream",
     "text": [
      "     x1    x2    x3\n",
      "0   1.0   1.0   2.0\n",
      "1   3.0   5.0   NaN\n",
      "2  13.0  21.0  34.0\n",
      "3  55.0   NaN  10.0\n",
      "4   NaN   NaN   NaN\n",
      "5   NaN   1.0   2.0\n",
      "after:\n",
      "     x1    x2    x3\n",
      "0   1.0   1.0   2.0\n",
      "2  13.0  21.0  34.0\n"
     ]
    }
   ],
   "source": [
    "df = pd.DataFrame([[1,1,2],[3,5,np.nan],[13,21,34],[55,np.nan,10],[np.nan,np.nan,np.nan],[np.nan,1,2]],columns=('x1','x2','x3'))\n",
    "print(df)\n",
    "print(\"after:\")\n",
    "print(df.dropna()) # 只要包含NaN，就删除对应行"
   ]
  },
  {
   "cell_type": "code",
   "execution_count": 75,
   "metadata": {},
   "outputs": [
    {
     "name": "stdout",
     "output_type": "stream",
     "text": [
      "     x1    x2    x3\n",
      "0   1.0   1.0   2.0\n",
      "1   3.0   5.0   0.0\n",
      "2  13.0  21.0  34.0\n",
      "3  55.0   0.0  10.0\n",
      "4   0.0   0.0   0.0\n",
      "5   0.0   1.0   2.0\n"
     ]
    }
   ],
   "source": [
    "# 填补法\n",
    "print(df.fillna(0))"
   ]
  },
  {
   "cell_type": "code",
   "execution_count": 76,
   "metadata": {},
   "outputs": [
    {
     "name": "stdout",
     "output_type": "stream",
     "text": [
      "前项填充\n",
      "     x1    x2    x3\n",
      "0   1.0   1.0   2.0\n",
      "1   3.0   5.0   2.0\n",
      "2  13.0  21.0  34.0\n",
      "3  55.0  21.0  10.0\n",
      "4  55.0  21.0  10.0\n",
      "5  55.0   1.0   2.0\n",
      "后项填充\n",
      "     x1    x2    x3\n",
      "0   1.0   1.0   2.0\n",
      "1   3.0   5.0  34.0\n",
      "2  13.0  21.0  34.0\n",
      "3  55.0   1.0  10.0\n",
      "4   NaN   1.0   2.0\n",
      "5   NaN   1.0   2.0\n"
     ]
    }
   ],
   "source": [
    "print(\"前项填充\")\n",
    "print(df.fillna(method='ffill'))\n",
    "print(\"后项填充\")\n",
    "print(df.fillna(method='bfill'))"
   ]
  },
  {
   "cell_type": "code",
   "execution_count": 77,
   "metadata": {},
   "outputs": [
    {
     "name": "stdout",
     "output_type": "stream",
     "text": [
      "使用常量填充不同的列\n",
      "     x1    x2    x3\n",
      "0   1.0   1.0   2.0\n",
      "1   3.0   5.0   3.0\n",
      "2  13.0  21.0  34.0\n",
      "3  55.0   2.0  10.0\n",
      "4   1.0   2.0   3.0\n",
      "5   1.0   1.0   2.0\n"
     ]
    }
   ],
   "source": [
    "print(\"使用常量填充不同的列\")\n",
    "print(df.fillna({'x1':1,'x2':2,'x3':3}))"
   ]
  },
  {
   "cell_type": "code",
   "execution_count": 79,
   "metadata": {},
   "outputs": [
    {
     "name": "stdout",
     "output_type": "stream",
     "text": [
      "x1_median: 8.0\n",
      "x2_mean: 7.0\n",
      "x3_mean: 12.0\n",
      "     x1    x2    x3\n",
      "0   1.0   1.0   2.0\n",
      "1   3.0   5.0  12.0\n",
      "2  13.0  21.0  34.0\n",
      "3  55.0   7.0  10.0\n",
      "4   8.0   7.0  12.0\n",
      "5   8.0   1.0   2.0\n"
     ]
    }
   ],
   "source": [
    "# 使用统计量填充更加合理：众数、均值、中位数\n",
    "x1_median = df['x1'].median()\n",
    "x2_mean = df['x2'].mean()\n",
    "x3_mean = df['x3'].mean()\n",
    "\n",
    "print(\"x1_median:\",x1_median)\n",
    "print(\"x2_mean:\",x2_mean)\n",
    "print(\"x3_mean:\",x3_mean)\n",
    "print(df.fillna({'x1':x1_median,'x2':x2_mean,'x3':x3_mean})) # x1 fill in median, x2 fill in mean, x3 fill in mean"
   ]
  },
  {
   "cell_type": "code",
   "execution_count": 81,
   "metadata": {},
   "outputs": [
    {
     "name": "stdout",
     "output_type": "stream",
     "text": [
      "    Age  Height     Name Sex  Weight\n",
      "0    14    69.0   Alfred   M   112.5\n",
      "1    13    56.5    Alice   F    84.0\n",
      "2    13    65.3  Barbara   F    98.0\n",
      "3    14    62.8    Carol   F   102.5\n",
      "4    14    63.5    Henry   M   102.5\n",
      "5    12    57.3    James   M    83.0\n",
      "6    12    59.8     Jane   F    84.5\n",
      "7    15    62.5    Janet   F   112.5\n",
      "8    13    62.5  Jeffrey   M    84.0\n",
      "9    12    59.0     John   M    99.5\n",
      "10   11    51.3    Joyce   F    50.5\n",
      "11   14    64.3     Judy   F    90.0\n",
      "12   12    56.3   Louise   F    77.0\n",
      "13   15    66.5    Marry   F   112.0\n",
      "14   16    72.0   Philip   M   150.0\n",
      "15   12    64.8   Robert   M   128.0\n",
      "16   15    67.0   Ronald   M   133.0\n",
      "17   11    57.5   Thomas   M    85.0\n",
      "18   15    66.5   Willam   M   112.0\n"
     ]
    }
   ],
   "source": [
    "# operate the excel table\n",
    "# pivot_table(data,values=None,index=None,aggfunc='mean',fill_value=None,margins=False,dropna=True,margins_name='All')\n",
    "print(student)"
   ]
  },
  {
   "cell_type": "code",
   "execution_count": 84,
   "metadata": {},
   "outputs": [
    {
     "name": "stdout",
     "output_type": "stream",
     "text": [
      "means in different age, height and weight\n",
      "Age           11          12    13      14      15     16\n",
      "       Sex                                               \n",
      "Height F    51.3   58.050000  60.9   63.55   64.50    NaN\n",
      "       M    57.5   60.366667  62.5   66.25   66.75   72.0\n",
      "Weight F    50.5   80.750000  91.0   96.25  112.25    NaN\n",
      "       M    85.0  103.500000  84.0  107.50  122.50  150.0\n"
     ]
    }
   ],
   "source": [
    "Table = pd.pivot_table(student, values=['Height','Weight'],columns=['Sex','Age']).unstack()\n",
    "print(\"means in different age, height and weight\")\n",
    "print(Table)"
   ]
  },
  {
   "cell_type": "code",
   "execution_count": 87,
   "metadata": {},
   "outputs": [
    {
     "name": "stdout",
     "output_type": "stream",
     "text": [
      "             mean         median                std           \n",
      "Sex             F       M      F       M          F          M\n",
      "Height  60.588889   63.91   62.5   64.15   5.018328   4.937937\n",
      "Weight  90.111111  108.95   90.0  107.25  19.383914  22.727186\n"
     ]
    }
   ],
   "source": [
    "Table_more = pd.pivot_table(student,values=['Height','Weight'],columns=['Sex'],aggfunc=[np.mean,np.median,np.std])\n",
    "print(Table_more)"
   ]
  },
  {
   "cell_type": "code",
   "execution_count": 89,
   "metadata": {},
   "outputs": [
    {
     "name": "stdout",
     "output_type": "stream",
     "text": [
      "a  1    1\n",
      "   2    2\n",
      "   3    3\n",
      "b  1    4\n",
      "   2    5\n",
      "c  3    6\n",
      "   1    7\n",
      "d  2    8\n",
      "   3    9\n",
      "dtype: int32\n",
      "MultiIndex([('a', 1),\n",
      "            ('a', 2),\n",
      "            ('a', 3),\n",
      "            ('b', 1),\n",
      "            ('b', 2),\n",
      "            ('c', 3),\n",
      "            ('c', 1),\n",
      "            ('d', 2),\n",
      "            ('d', 3)],\n",
      "           )\n"
     ]
    }
   ],
   "source": [
    "# 高维数据转换成为低维数据，多层索引也可以转换成为数据框的形式\n",
    "s = pd.Series(np.arange(1,10),index=[[\"a\",\"a\",\"a\",\"b\",\"b\",\"c\",\"c\",\"d\",\"d\"],[1,2,3,1,2,3,1,2,3]])\n",
    "print(s)\n",
    "print(s.index)"
   ]
  },
  {
   "cell_type": "code",
   "execution_count": 93,
   "metadata": {},
   "outputs": [
    {
     "name": "stdout",
     "output_type": "stream",
     "text": [
      "1    1\n",
      "2    2\n",
      "3    3\n",
      "dtype: int32\n",
      "1\n",
      "1    1\n",
      "2    2\n",
      "dtype: int32\n"
     ]
    }
   ],
   "source": [
    "print(s['a'])\n",
    "print(s['a',1])\n",
    "print(s['a'][[1,2]])"
   ]
  },
  {
   "cell_type": "code",
   "execution_count": 95,
   "metadata": {},
   "outputs": [
    {
     "name": "stdout",
     "output_type": "stream",
     "text": [
      "     1    2    3\n",
      "a  1.0  2.0  3.0\n",
      "b  4.0  5.0  NaN\n",
      "c  7.0  NaN  6.0\n",
      "d  NaN  8.0  9.0\n"
     ]
    }
   ],
   "source": [
    "# 将Series 转化成数据框，残缺的数据用NaN填补\n",
    "print(s.unstack())"
   ]
  },
  {
   "cell_type": "code",
   "execution_count": 96,
   "metadata": {},
   "outputs": [],
   "source": [
    "# if you want to know more operation you can search for them"
   ]
  },
  {
   "cell_type": "code",
   "execution_count": 97,
   "metadata": {},
   "outputs": [
    {
     "data": {
      "text/html": [
       "<div>\n",
       "<style scoped>\n",
       "    .dataframe tbody tr th:only-of-type {\n",
       "        vertical-align: middle;\n",
       "    }\n",
       "\n",
       "    .dataframe tbody tr th {\n",
       "        vertical-align: top;\n",
       "    }\n",
       "\n",
       "    .dataframe thead tr th {\n",
       "        text-align: left;\n",
       "    }\n",
       "</style>\n",
       "<table border=\"1\" class=\"dataframe\">\n",
       "  <thead>\n",
       "    <tr>\n",
       "      <th></th>\n",
       "      <th></th>\n",
       "      <th></th>\n",
       "      <th colspan=\"6\" halign=\"left\">模拟考</th>\n",
       "      <th colspan=\"6\" halign=\"left\">正式考</th>\n",
       "    </tr>\n",
       "    <tr>\n",
       "      <th></th>\n",
       "      <th></th>\n",
       "      <th></th>\n",
       "      <th>数学</th>\n",
       "      <th>语文</th>\n",
       "      <th>英语</th>\n",
       "      <th>物理</th>\n",
       "      <th>化学</th>\n",
       "      <th>生物</th>\n",
       "      <th>数学</th>\n",
       "      <th>语文</th>\n",
       "      <th>英语</th>\n",
       "      <th>物理</th>\n",
       "      <th>化学</th>\n",
       "      <th>生物</th>\n",
       "    </tr>\n",
       "  </thead>\n",
       "  <tbody>\n",
       "    <tr>\n",
       "      <td rowspan=\"4\" valign=\"top\">期中</td>\n",
       "      <td rowspan=\"2\" valign=\"top\">崔秦</td>\n",
       "      <td>测试一</td>\n",
       "      <td>37</td>\n",
       "      <td>17</td>\n",
       "      <td>85</td>\n",
       "      <td>58</td>\n",
       "      <td>20</td>\n",
       "      <td>131</td>\n",
       "      <td>51</td>\n",
       "      <td>66</td>\n",
       "      <td>32</td>\n",
       "      <td>9</td>\n",
       "      <td>72</td>\n",
       "      <td>124</td>\n",
       "    </tr>\n",
       "    <tr>\n",
       "      <td>测试二</td>\n",
       "      <td>63</td>\n",
       "      <td>62</td>\n",
       "      <td>112</td>\n",
       "      <td>86</td>\n",
       "      <td>115</td>\n",
       "      <td>31</td>\n",
       "      <td>17</td>\n",
       "      <td>35</td>\n",
       "      <td>127</td>\n",
       "      <td>44</td>\n",
       "      <td>113</td>\n",
       "      <td>102</td>\n",
       "    </tr>\n",
       "    <tr>\n",
       "      <td rowspan=\"2\" valign=\"top\">刘梦洁</td>\n",
       "      <td>测试一</td>\n",
       "      <td>112</td>\n",
       "      <td>15</td>\n",
       "      <td>104</td>\n",
       "      <td>134</td>\n",
       "      <td>46</td>\n",
       "      <td>132</td>\n",
       "      <td>126</td>\n",
       "      <td>99</td>\n",
       "      <td>31</td>\n",
       "      <td>100</td>\n",
       "      <td>100</td>\n",
       "      <td>44</td>\n",
       "    </tr>\n",
       "    <tr>\n",
       "      <td>测试二</td>\n",
       "      <td>28</td>\n",
       "      <td>71</td>\n",
       "      <td>141</td>\n",
       "      <td>66</td>\n",
       "      <td>1</td>\n",
       "      <td>61</td>\n",
       "      <td>99</td>\n",
       "      <td>49</td>\n",
       "      <td>45</td>\n",
       "      <td>86</td>\n",
       "      <td>38</td>\n",
       "      <td>43</td>\n",
       "    </tr>\n",
       "    <tr>\n",
       "      <td rowspan=\"4\" valign=\"top\">期末</td>\n",
       "      <td rowspan=\"2\" valign=\"top\">崔秦</td>\n",
       "      <td>测试一</td>\n",
       "      <td>23</td>\n",
       "      <td>103</td>\n",
       "      <td>65</td>\n",
       "      <td>118</td>\n",
       "      <td>30</td>\n",
       "      <td>20</td>\n",
       "      <td>69</td>\n",
       "      <td>3</td>\n",
       "      <td>125</td>\n",
       "      <td>100</td>\n",
       "      <td>147</td>\n",
       "      <td>110</td>\n",
       "    </tr>\n",
       "    <tr>\n",
       "      <td>测试二</td>\n",
       "      <td>54</td>\n",
       "      <td>71</td>\n",
       "      <td>76</td>\n",
       "      <td>44</td>\n",
       "      <td>4</td>\n",
       "      <td>85</td>\n",
       "      <td>6</td>\n",
       "      <td>10</td>\n",
       "      <td>103</td>\n",
       "      <td>22</td>\n",
       "      <td>59</td>\n",
       "      <td>132</td>\n",
       "    </tr>\n",
       "    <tr>\n",
       "      <td rowspan=\"2\" valign=\"top\">刘梦洁</td>\n",
       "      <td>测试一</td>\n",
       "      <td>85</td>\n",
       "      <td>90</td>\n",
       "      <td>23</td>\n",
       "      <td>89</td>\n",
       "      <td>134</td>\n",
       "      <td>11</td>\n",
       "      <td>110</td>\n",
       "      <td>14</td>\n",
       "      <td>18</td>\n",
       "      <td>107</td>\n",
       "      <td>69</td>\n",
       "      <td>20</td>\n",
       "    </tr>\n",
       "    <tr>\n",
       "      <td>测试二</td>\n",
       "      <td>83</td>\n",
       "      <td>7</td>\n",
       "      <td>109</td>\n",
       "      <td>65</td>\n",
       "      <td>141</td>\n",
       "      <td>119</td>\n",
       "      <td>40</td>\n",
       "      <td>83</td>\n",
       "      <td>146</td>\n",
       "      <td>131</td>\n",
       "      <td>85</td>\n",
       "      <td>75</td>\n",
       "    </tr>\n",
       "  </tbody>\n",
       "</table>\n",
       "</div>"
      ],
      "text/plain": [
       "            模拟考                           正式考                        \n",
       "             数学   语文   英语   物理   化学   生物   数学  语文   英语   物理   化学   生物\n",
       "期中 崔秦  测试一   37   17   85   58   20  131   51  66   32    9   72  124\n",
       "       测试二   63   62  112   86  115   31   17  35  127   44  113  102\n",
       "   刘梦洁 测试一  112   15  104  134   46  132  126  99   31  100  100   44\n",
       "       测试二   28   71  141   66    1   61   99  49   45   86   38   43\n",
       "期末 崔秦  测试一   23  103   65  118   30   20   69   3  125  100  147  110\n",
       "       测试二   54   71   76   44    4   85    6  10  103   22   59  132\n",
       "   刘梦洁 测试一   85   90   23   89  134   11  110  14   18  107   69   20\n",
       "       测试二   83    7  109   65  141  119   40  83  146  131   85   75"
      ]
     },
     "execution_count": 97,
     "metadata": {},
     "output_type": "execute_result"
    }
   ],
   "source": [
    "# 层次化索引\n",
    "data = pd.DataFrame(np.random.randint(0,150,size=(8,12)),\n",
    "               columns = pd.MultiIndex.from_product([['模拟考','正式考'],\n",
    "                                                   ['数学','语文','英语','物理','化学','生物']]),\n",
    "               index = pd.MultiIndex.from_product([['期中','期末'],\n",
    "                                                   ['崔秦','刘梦洁'],\n",
    "                                                  ['测试一','测试二']]))\n",
    "data"
   ]
  },
  {
   "cell_type": "code",
   "execution_count": 98,
   "metadata": {},
   "outputs": [
    {
     "data": {
      "text/html": [
       "<div>\n",
       "<style scoped>\n",
       "    .dataframe tbody tr th:only-of-type {\n",
       "        vertical-align: middle;\n",
       "    }\n",
       "\n",
       "    .dataframe tbody tr th {\n",
       "        vertical-align: top;\n",
       "    }\n",
       "\n",
       "    .dataframe thead th {\n",
       "        text-align: right;\n",
       "    }\n",
       "</style>\n",
       "<table border=\"1\" class=\"dataframe\">\n",
       "  <thead>\n",
       "    <tr style=\"text-align: right;\">\n",
       "      <th></th>\n",
       "      <th></th>\n",
       "      <th></th>\n",
       "      <th>语文</th>\n",
       "      <th>数学</th>\n",
       "    </tr>\n",
       "  </thead>\n",
       "  <tbody>\n",
       "    <tr>\n",
       "      <td rowspan=\"4\" valign=\"top\">期中</td>\n",
       "      <td rowspan=\"2\" valign=\"top\">崔秦</td>\n",
       "      <td>测试一</td>\n",
       "      <td>17</td>\n",
       "      <td>37</td>\n",
       "    </tr>\n",
       "    <tr>\n",
       "      <td>测试二</td>\n",
       "      <td>62</td>\n",
       "      <td>63</td>\n",
       "    </tr>\n",
       "    <tr>\n",
       "      <td rowspan=\"2\" valign=\"top\">刘梦洁</td>\n",
       "      <td>测试一</td>\n",
       "      <td>15</td>\n",
       "      <td>112</td>\n",
       "    </tr>\n",
       "    <tr>\n",
       "      <td>测试二</td>\n",
       "      <td>71</td>\n",
       "      <td>28</td>\n",
       "    </tr>\n",
       "    <tr>\n",
       "      <td rowspan=\"4\" valign=\"top\">期末</td>\n",
       "      <td rowspan=\"2\" valign=\"top\">崔秦</td>\n",
       "      <td>测试一</td>\n",
       "      <td>103</td>\n",
       "      <td>23</td>\n",
       "    </tr>\n",
       "    <tr>\n",
       "      <td>测试二</td>\n",
       "      <td>71</td>\n",
       "      <td>54</td>\n",
       "    </tr>\n",
       "    <tr>\n",
       "      <td rowspan=\"2\" valign=\"top\">刘梦洁</td>\n",
       "      <td>测试一</td>\n",
       "      <td>90</td>\n",
       "      <td>85</td>\n",
       "    </tr>\n",
       "    <tr>\n",
       "      <td>测试二</td>\n",
       "      <td>7</td>\n",
       "      <td>83</td>\n",
       "    </tr>\n",
       "  </tbody>\n",
       "</table>\n",
       "</div>"
      ],
      "text/plain": [
       "             语文   数学\n",
       "期中 崔秦  测试一   17   37\n",
       "       测试二   62   63\n",
       "   刘梦洁 测试一   15  112\n",
       "       测试二   71   28\n",
       "期末 崔秦  测试一  103   23\n",
       "       测试二   71   54\n",
       "   刘梦洁 测试一   90   85\n",
       "       测试二    7   83"
      ]
     },
     "execution_count": 98,
     "metadata": {},
     "output_type": "execute_result"
    }
   ],
   "source": [
    "data['模拟考'][['语文','数学']]"
   ]
  },
  {
   "cell_type": "code",
   "execution_count": 101,
   "metadata": {},
   "outputs": [
    {
     "name": "stdout",
     "output_type": "stream",
     "text": [
      "模拟考  数学     37\n",
      "     语文     17\n",
      "     英语     85\n",
      "     物理     58\n",
      "     化学     20\n",
      "     生物    131\n",
      "正式考  数学     51\n",
      "     语文     66\n",
      "     英语     32\n",
      "     物理      9\n",
      "     化学     72\n",
      "     生物    124\n",
      "Name: (期中, 崔秦, 测试一), dtype: int32\n"
     ]
    }
   ],
   "source": [
    "# method one\n",
    "print(data.loc['期中','崔秦','测试一'])"
   ]
  },
  {
   "cell_type": "code",
   "execution_count": 102,
   "metadata": {},
   "outputs": [
    {
     "name": "stdout",
     "output_type": "stream",
     "text": [
      "模拟考  数学     37\n",
      "     语文     17\n",
      "     英语     85\n",
      "     物理     58\n",
      "     化学     20\n",
      "     生物    131\n",
      "正式考  数学     51\n",
      "     语文     66\n",
      "     英语     32\n",
      "     物理      9\n",
      "     化学     72\n",
      "     生物    124\n",
      "Name: (期中, 崔秦, 测试一), dtype: int32\n"
     ]
    }
   ],
   "source": [
    "# method two\n",
    "print(data.iloc[0])"
   ]
  },
  {
   "cell_type": "code",
   "execution_count": 103,
   "metadata": {},
   "outputs": [
    {
     "data": {
      "text/html": [
       "<div>\n",
       "<style scoped>\n",
       "    .dataframe tbody tr th:only-of-type {\n",
       "        vertical-align: middle;\n",
       "    }\n",
       "\n",
       "    .dataframe tbody tr th {\n",
       "        vertical-align: top;\n",
       "    }\n",
       "\n",
       "    .dataframe thead th {\n",
       "        text-align: right;\n",
       "    }\n",
       "</style>\n",
       "<table border=\"1\" class=\"dataframe\">\n",
       "  <thead>\n",
       "    <tr style=\"text-align: right;\">\n",
       "      <th></th>\n",
       "      <th></th>\n",
       "      <th></th>\n",
       "      <th>数学</th>\n",
       "      <th>语文</th>\n",
       "      <th>英语</th>\n",
       "      <th>物理</th>\n",
       "      <th>化学</th>\n",
       "      <th>生物</th>\n",
       "    </tr>\n",
       "  </thead>\n",
       "  <tbody>\n",
       "    <tr>\n",
       "      <td rowspan=\"4\" valign=\"top\">期中</td>\n",
       "      <td rowspan=\"2\" valign=\"top\">崔秦</td>\n",
       "      <td>测试一</td>\n",
       "      <td>51</td>\n",
       "      <td>66</td>\n",
       "      <td>32</td>\n",
       "      <td>9</td>\n",
       "      <td>72</td>\n",
       "      <td>124</td>\n",
       "    </tr>\n",
       "    <tr>\n",
       "      <td>测试二</td>\n",
       "      <td>17</td>\n",
       "      <td>35</td>\n",
       "      <td>127</td>\n",
       "      <td>44</td>\n",
       "      <td>113</td>\n",
       "      <td>102</td>\n",
       "    </tr>\n",
       "    <tr>\n",
       "      <td rowspan=\"2\" valign=\"top\">刘梦洁</td>\n",
       "      <td>测试一</td>\n",
       "      <td>126</td>\n",
       "      <td>99</td>\n",
       "      <td>31</td>\n",
       "      <td>100</td>\n",
       "      <td>100</td>\n",
       "      <td>44</td>\n",
       "    </tr>\n",
       "    <tr>\n",
       "      <td>测试二</td>\n",
       "      <td>99</td>\n",
       "      <td>49</td>\n",
       "      <td>45</td>\n",
       "      <td>86</td>\n",
       "      <td>38</td>\n",
       "      <td>43</td>\n",
       "    </tr>\n",
       "    <tr>\n",
       "      <td rowspan=\"4\" valign=\"top\">期末</td>\n",
       "      <td rowspan=\"2\" valign=\"top\">崔秦</td>\n",
       "      <td>测试一</td>\n",
       "      <td>69</td>\n",
       "      <td>3</td>\n",
       "      <td>125</td>\n",
       "      <td>100</td>\n",
       "      <td>147</td>\n",
       "      <td>110</td>\n",
       "    </tr>\n",
       "    <tr>\n",
       "      <td>测试二</td>\n",
       "      <td>6</td>\n",
       "      <td>10</td>\n",
       "      <td>103</td>\n",
       "      <td>22</td>\n",
       "      <td>59</td>\n",
       "      <td>132</td>\n",
       "    </tr>\n",
       "    <tr>\n",
       "      <td rowspan=\"2\" valign=\"top\">刘梦洁</td>\n",
       "      <td>测试一</td>\n",
       "      <td>110</td>\n",
       "      <td>14</td>\n",
       "      <td>18</td>\n",
       "      <td>107</td>\n",
       "      <td>69</td>\n",
       "      <td>20</td>\n",
       "    </tr>\n",
       "    <tr>\n",
       "      <td>测试二</td>\n",
       "      <td>40</td>\n",
       "      <td>83</td>\n",
       "      <td>146</td>\n",
       "      <td>131</td>\n",
       "      <td>85</td>\n",
       "      <td>75</td>\n",
       "    </tr>\n",
       "  </tbody>\n",
       "</table>\n",
       "</div>"
      ],
      "text/plain": [
       "             数学  语文   英语   物理   化学   生物\n",
       "期中 崔秦  测试一   51  66   32    9   72  124\n",
       "       测试二   17  35  127   44  113  102\n",
       "   刘梦洁 测试一  126  99   31  100  100   44\n",
       "       测试二   99  49   45   86   38   43\n",
       "期末 崔秦  测试一   69   3  125  100  147  110\n",
       "       测试二    6  10  103   22   59  132\n",
       "   刘梦洁 测试一  110  14   18  107   69   20\n",
       "       测试二   40  83  146  131   85   75"
      ]
     },
     "execution_count": 103,
     "metadata": {},
     "output_type": "execute_result"
    }
   ],
   "source": [
    "data['正式考']"
   ]
  }
 ],
 "metadata": {
  "kernelspec": {
   "display_name": "Python 3",
   "language": "python",
   "name": "python3"
  },
  "language_info": {
   "codemirror_mode": {
    "name": "ipython",
    "version": 3
   },
   "file_extension": ".py",
   "mimetype": "text/x-python",
   "name": "python",
   "nbconvert_exporter": "python",
   "pygments_lexer": "ipython3",
   "version": "3.7.3"
  }
 },
 "nbformat": 4,
 "nbformat_minor": 2
}
