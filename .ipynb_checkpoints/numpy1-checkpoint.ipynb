{
 "cells": [
  {
   "cell_type": "code",
   "execution_count": 1,
   "metadata": {},
   "outputs": [],
   "source": [
    "import numpy as np"
   ]
  },
  {
   "cell_type": "code",
   "execution_count": 2,
   "metadata": {},
   "outputs": [
    {
     "name": "stdout",
     "output_type": "stream",
     "text": [
      "{1, 3, 4, 5, 6}\n"
     ]
    }
   ],
   "source": [
    "# create array by numpy\n",
    "data = {1,3,4,5,5,6}\n",
    "array = np.array(data)\n",
    "print(array)"
   ]
  },
  {
   "cell_type": "code",
   "execution_count": 3,
   "metadata": {},
   "outputs": [
    {
     "name": "stdout",
     "output_type": "stream",
     "text": [
      "[[1 3]\n",
      " [2 3]]\n"
     ]
    }
   ],
   "source": [
    "# create mul array\n",
    "data = [[1,3],[2,3]]\n",
    "array2 = np.array(data)\n",
    "print(array2)"
   ]
  },
  {
   "cell_type": "code",
   "execution_count": 4,
   "metadata": {},
   "outputs": [
    {
     "ename": "NameError",
     "evalue": "name 'array1' is not defined",
     "output_type": "error",
     "traceback": [
      "\u001b[1;31m---------------------------------------------------------------------------\u001b[0m",
      "\u001b[1;31mNameError\u001b[0m                                 Traceback (most recent call last)",
      "\u001b[1;32m<ipython-input-4-5017c861056f>\u001b[0m in \u001b[0;36m<module>\u001b[1;34m\u001b[0m\n\u001b[0;32m      1\u001b[0m \u001b[1;31m# ndim or shape\u001b[0m\u001b[1;33m\u001b[0m\u001b[1;33m\u001b[0m\u001b[1;33m\u001b[0m\u001b[0m\n\u001b[1;32m----> 2\u001b[1;33m \u001b[0mprint\u001b[0m\u001b[1;33m(\u001b[0m\u001b[0marray1\u001b[0m\u001b[1;33m.\u001b[0m\u001b[0mndim\u001b[0m\u001b[1;33m,\u001b[0m\u001b[0marray2\u001b[0m\u001b[1;33m.\u001b[0m\u001b[0mndim\u001b[0m\u001b[1;33m,\u001b[0m\u001b[1;34m\"\\n\"\u001b[0m\u001b[1;33m)\u001b[0m\u001b[1;33m\u001b[0m\u001b[1;33m\u001b[0m\u001b[0m\n\u001b[0m\u001b[0;32m      3\u001b[0m \u001b[0mprint\u001b[0m\u001b[1;33m(\u001b[0m\u001b[0marray1\u001b[0m\u001b[1;33m.\u001b[0m\u001b[0mshape\u001b[0m\u001b[1;33m,\u001b[0m\u001b[0marray2\u001b[0m\u001b[1;33m.\u001b[0m\u001b[0mshape\u001b[0m\u001b[1;33m,\u001b[0m\u001b[1;34m\"\\n\"\u001b[0m\u001b[1;33m)\u001b[0m\u001b[1;33m\u001b[0m\u001b[1;33m\u001b[0m\u001b[0m\n",
      "\u001b[1;31mNameError\u001b[0m: name 'array1' is not defined"
     ]
    }
   ],
   "source": [
    "# ndim or shape\n",
    "print(array1.ndim,array2.ndim,\"\\n\")\n",
    "print(array1.shape,array2.shape,\"\\n\")"
   ]
  },
  {
   "cell_type": "code",
   "execution_count": null,
   "metadata": {},
   "outputs": [],
   "source": [
    "# other array\n",
    "print(np.zeros(10))\n",
    "print(np.ones(10))\n",
    "print(np.empty((2,3)))"
   ]
  },
  {
   "cell_type": "code",
   "execution_count": null,
   "metadata": {},
   "outputs": [],
   "source": [
    "print(np.arange(15))"
   ]
  },
  {
   "cell_type": "code",
   "execution_count": null,
   "metadata": {},
   "outputs": [],
   "source": [
    "a = np.array([[10,11,12],[0,0,0],[13,14,15],[16,17,18]])\n",
    "b = np.array([[1,2,3]])\n",
    "print(a)\n",
    "print(b)"
   ]
  },
  {
   "cell_type": "code",
   "execution_count": null,
   "metadata": {},
   "outputs": [],
   "source": [
    "print(a+b)"
   ]
  },
  {
   "cell_type": "code",
   "execution_count": null,
   "metadata": {},
   "outputs": [],
   "source": [
    "print(b+a)"
   ]
  },
  {
   "cell_type": "code",
   "execution_count": null,
   "metadata": {},
   "outputs": [],
   "source": [
    "arr1 = np.arange(15)\n",
    "arr1[:] = 1\n",
    "print(arr1[:])"
   ]
  },
  {
   "cell_type": "code",
   "execution_count": 5,
   "metadata": {},
   "outputs": [
    {
     "name": "stdout",
     "output_type": "stream",
     "text": [
      "[[[ 1  2  3]\n",
      "  [ 2  3  4]]\n",
      "\n",
      " [[12 23 34]\n",
      "  [23 34  5]]] ,\n",
      "[[12 23 34]\n",
      " [23 34  5]] ,\n",
      "[23 34  5] ,\n",
      "34\n"
     ]
    }
   ],
   "source": [
    "arr3d = np.array([[[1,2,3],[2,3,4]],[[12,23,34],[23,34,5]]])\n",
    "print(arr3d,\",\")\n",
    "print(arr3d[1],\",\")\n",
    "print(arr3d[1,1],\",\")\n",
    "print(arr3d[1,1,1])"
   ]
  },
  {
   "cell_type": "code",
   "execution_count": 6,
   "metadata": {},
   "outputs": [
    {
     "name": "stdout",
     "output_type": "stream",
     "text": [
      "[ True False False False]\n"
     ]
    }
   ],
   "source": [
    "# ->矢量化计算\n",
    "names = np.array(['a','b','c','d'])\n",
    "print(names == 'a')"
   ]
  },
  {
   "cell_type": "code",
   "execution_count": 7,
   "metadata": {},
   "outputs": [
    {
     "name": "stdout",
     "output_type": "stream",
     "text": [
      "[[ 0.34668676 -0.7413736   0.0108198  -0.19882008]\n",
      " [ 0.27872135 -1.48777957  0.12058351 -2.26896557]\n",
      " [ 1.75037794  1.50079848  2.25929443  1.08226637]\n",
      " [ 0.09800958 -1.05326941 -1.41301794  0.41643058]]\n"
     ]
    }
   ],
   "source": [
    "data = np.random.randn(4,4)\n",
    "print(data)"
   ]
  },
  {
   "cell_type": "code",
   "execution_count": 8,
   "metadata": {},
   "outputs": [
    {
     "name": "stdout",
     "output_type": "stream",
     "text": [
      "[False  True False False]\n",
      "[[ 0.27872135 -1.48777957  0.12058351 -2.26896557]]\n",
      "[[ 0.12058351 -2.26896557]]\n"
     ]
    }
   ],
   "source": [
    "print(names=='b')\n",
    "print(data[names=='b'])\n",
    "print(data[names=='b',2:])"
   ]
  },
  {
   "cell_type": "code",
   "execution_count": 9,
   "metadata": {},
   "outputs": [
    {
     "name": "stdout",
     "output_type": "stream",
     "text": [
      "[ True False  True  True]\n",
      "[[ 0.34668676 -0.7413736   0.0108198  -0.19882008]\n",
      " [ 1.75037794  1.50079848  2.25929443  1.08226637]\n",
      " [ 0.09800958 -1.05326941 -1.41301794  0.41643058]]\n"
     ]
    }
   ],
   "source": [
    "print(names!='b')\n",
    "print(data[~(names=='b')])"
   ]
  },
  {
   "cell_type": "code",
   "execution_count": 10,
   "metadata": {},
   "outputs": [
    {
     "name": "stdout",
     "output_type": "stream",
     "text": [
      "[ True False  True False]\n",
      "[[ 0.34668676 -0.7413736   0.0108198  -0.19882008]\n",
      " [ 1.75037794  1.50079848  2.25929443  1.08226637]]\n"
     ]
    }
   ],
   "source": [
    "cond1 = (names == 'a') | (names == 'c')\n",
    "print(cond1)\n",
    "print(data[cond1])"
   ]
  },
  {
   "cell_type": "code",
   "execution_count": 11,
   "metadata": {},
   "outputs": [
    {
     "name": "stdout",
     "output_type": "stream",
     "text": [
      "[[ 0.34668676 -0.7413736   0.0108198  -0.19882008]\n",
      " [ 0.27872135 -1.48777957  0.12058351 -2.26896557]\n",
      " [ 1.75037794  1.50079848  2.25929443  1.08226637]\n",
      " [ 0.09800958 -1.05326941 -1.41301794  0.41643058]]\n"
     ]
    }
   ],
   "source": [
    "print(data)"
   ]
  },
  {
   "cell_type": "code",
   "execution_count": 12,
   "metadata": {},
   "outputs": [
    {
     "name": "stdout",
     "output_type": "stream",
     "text": [
      "[[0.34668676 0.         0.0108198  0.        ]\n",
      " [0.27872135 0.         0.12058351 0.        ]\n",
      " [1.75037794 1.50079848 2.25929443 1.08226637]\n",
      " [0.09800958 0.         0.         0.41643058]]\n"
     ]
    }
   ],
   "source": [
    "data[data<0] = 0\n",
    "print(data)"
   ]
  },
  {
   "cell_type": "code",
   "execution_count": 13,
   "metadata": {},
   "outputs": [
    {
     "name": "stdout",
     "output_type": "stream",
     "text": [
      "[[0.34668676 0.         0.0108198  0.        ]\n",
      " [1.         1.         1.         1.        ]\n",
      " [1.         1.         1.         1.        ]\n",
      " [1.         1.         1.         1.        ]]\n"
     ]
    }
   ],
   "source": [
    "data[names != 'a'] = 1\n",
    "print(data)"
   ]
  },
  {
   "cell_type": "code",
   "execution_count": 14,
   "metadata": {},
   "outputs": [
    {
     "name": "stdout",
     "output_type": "stream",
     "text": [
      "[[0. 0. 0. 0.]\n",
      " [1. 1. 1. 1.]\n",
      " [2. 2. 2. 2.]\n",
      " [3. 3. 3. 3.]\n",
      " [4. 4. 4. 4.]\n",
      " [5. 5. 5. 5.]\n",
      " [6. 6. 6. 6.]\n",
      " [7. 7. 7. 7.]]\n"
     ]
    }
   ],
   "source": [
    "# flower index -- it will return a new array\n",
    "arr = np.empty((8, 4))\n",
    "for i in range(8):\n",
    "    arr[i] = i\n",
    "print(arr)"
   ]
  },
  {
   "cell_type": "code",
   "execution_count": 15,
   "metadata": {},
   "outputs": [
    {
     "name": "stdout",
     "output_type": "stream",
     "text": [
      "[1. 1. 1. 1.]\n",
      "[[4. 4. 4. 4.]\n",
      " [3. 3. 3. 3.]\n",
      " [2. 2. 2. 2.]\n",
      " [1. 1. 1. 1.]]\n",
      "[[5. 5. 5. 5.]\n",
      " [6. 6. 6. 6.]\n",
      " [7. 7. 7. 7.]]\n"
     ]
    }
   ],
   "source": [
    "print(arr[1])\n",
    "print(arr[[4,3,2,1]])\n",
    "# index < 0\n",
    "print(arr[[-3,-2,-1]])"
   ]
  },
  {
   "cell_type": "code",
   "execution_count": 16,
   "metadata": {},
   "outputs": [
    {
     "name": "stdout",
     "output_type": "stream",
     "text": [
      "[[ 0  1  2  3]\n",
      " [ 4  5  6  7]\n",
      " [ 8  9 10 11]\n",
      " [12 13 14 15]\n",
      " [16 17 18 19]\n",
      " [20 21 22 23]\n",
      " [24 25 26 27]\n",
      " [28 29 30 31]]\n",
      "[ 4  9 14 19]\n",
      "[[ 4  5  6  7]\n",
      " [ 8  9 10 11]\n",
      " [12 13 14 15]\n",
      " [16 17 18 19]]\n"
     ]
    }
   ],
   "source": [
    "# complex index array\n",
    "arr = np.arange(32).reshape((8,4))\n",
    "print(arr)\n",
    "print(arr[[1,2,3,4],[0,1,2,3]])# the first array is row, the second array is the col index one by one.\n",
    "print(arr[[1,2,3,4]][:,[0,1,2,3]])"
   ]
  },
  {
   "cell_type": "code",
   "execution_count": 17,
   "metadata": {},
   "outputs": [
    {
     "name": "stdout",
     "output_type": "stream",
     "text": [
      "[[ 0  1  2  3  4]\n",
      " [ 5  6  7  8  9]\n",
      " [10 11 12 13 14]]\n",
      "[[ 0  5 10]\n",
      " [ 1  6 11]\n",
      " [ 2  7 12]\n",
      " [ 3  8 13]\n",
      " [ 4  9 14]]\n"
     ]
    }
   ],
   "source": [
    "# array's T\n",
    "arr = np.arange(15).reshape((3,5))\n",
    "print(arr)\n",
    "print(arr.T)"
   ]
  },
  {
   "cell_type": "code",
   "execution_count": 18,
   "metadata": {},
   "outputs": [
    {
     "name": "stdout",
     "output_type": "stream",
     "text": [
      "[[125 140 155 170 185]\n",
      " [140 158 176 194 212]\n",
      " [155 176 197 218 239]\n",
      " [170 194 218 242 266]\n",
      " [185 212 239 266 293]]\n"
     ]
    }
   ],
   "source": [
    "# cal the product of the array\n",
    "print(np.dot(arr.T,arr))"
   ]
  },
  {
   "cell_type": "code",
   "execution_count": 19,
   "metadata": {},
   "outputs": [],
   "source": [
    "# the special operation is a complex thing to understand and you need to review it when you need to use it."
   ]
  },
  {
   "cell_type": "code",
   "execution_count": 20,
   "metadata": {},
   "outputs": [
    {
     "name": "stdout",
     "output_type": "stream",
     "text": [
      "[0 1 2 3 4 5 6 7 8 9]\n",
      "[0.         1.         1.41421356 1.73205081 2.         2.23606798\n",
      " 2.44948974 2.64575131 2.82842712 3.        ]\n",
      "[1.00000000e+00 2.71828183e+00 7.38905610e+00 2.00855369e+01\n",
      " 5.45981500e+01 1.48413159e+02 4.03428793e+02 1.09663316e+03\n",
      " 2.98095799e+03 8.10308393e+03]\n"
     ]
    }
   ],
   "source": [
    "# sqrt and exp\n",
    "arr = np.arange(10)\n",
    "print(arr)\n",
    "print(np.sqrt(arr))\n",
    "print(np.exp(arr))"
   ]
  },
  {
   "cell_type": "code",
   "execution_count": 21,
   "metadata": {},
   "outputs": [
    {
     "name": "stdout",
     "output_type": "stream",
     "text": [
      "[-0.66624628 -0.40247683  0.88324748 -0.41092132 -0.68890635 -0.31050639\n",
      " -1.0349235   0.54176478]\n",
      "[-0.1936874  -1.68474995 -0.79934585 -1.3973987   0.47748511 -0.60663447\n",
      " -0.75006344 -0.90942681]\n",
      "[-0.1936874  -0.40247683  0.88324748 -0.41092132  0.47748511 -0.31050639\n",
      " -0.75006344  0.54176478]\n"
     ]
    }
   ],
   "source": [
    "# compare x and y's items one by one (index)\n",
    "x = np.random.randn(8)\n",
    "y = np.random.randn(8)\n",
    "\n",
    "print(x)\n",
    "print(y)\n",
    "print(np.maximum(x,y))"
   ]
  },
  {
   "cell_type": "code",
   "execution_count": 22,
   "metadata": {},
   "outputs": [
    {
     "name": "stdout",
     "output_type": "stream",
     "text": [
      "[ -6.19000357 -11.45332236  -4.93175398  10.02142874  -4.58302878\n",
      "   6.52547229   6.41099512]\n",
      "[-0.19000357 -0.45332236 -0.93175398  0.02142874 -0.58302878  0.52547229\n",
      "  0.41099512]\n",
      "[ -6. -11.  -4.  10.  -4.   6.   6.]\n"
     ]
    }
   ],
   "source": [
    "# return the int or float of nums\n",
    "arr = np.random.randn(7) * 5\n",
    "print(arr)\n",
    "\n",
    "remainder, whole_part = np.modf(arr)\n",
    "print(remainder) # float\n",
    "print(whole_part) # negative and positive integer"
   ]
  },
  {
   "cell_type": "code",
   "execution_count": 23,
   "metadata": {},
   "outputs": [
    {
     "name": "stdout",
     "output_type": "stream",
     "text": [
      "[-0.15161881  0.24511222  0.88024398  0.30942259 -0.13014445 -0.54022757\n",
      " -0.01935309]\n",
      "[       nan 0.49508809 0.93821319 0.55625767        nan        nan\n",
      "        nan]\n",
      "[       nan 0.49508809 0.93821319 0.55625767        nan        nan\n",
      "        nan]\n",
      "[       nan 0.49508809 0.93821319 0.55625767        nan        nan\n",
      "        nan]\n"
     ]
    },
    {
     "name": "stderr",
     "output_type": "stream",
     "text": [
      "D:\\Anaconda3\\lib\\site-packages\\ipykernel_launcher.py:4: RuntimeWarning: invalid value encountered in sqrt\n",
      "  after removing the cwd from sys.path.\n",
      "D:\\Anaconda3\\lib\\site-packages\\ipykernel_launcher.py:5: RuntimeWarning: invalid value encountered in sqrt\n",
      "  \"\"\"\n"
     ]
    }
   ],
   "source": [
    "# direct operations on origin numpy array\n",
    "arr = np.random.randn(7)\n",
    "print(arr)\n",
    "print(np.sqrt(arr))\n",
    "print(np.sqrt(arr,arr))\n",
    "print(arr)"
   ]
  },
  {
   "cell_type": "code",
   "execution_count": 24,
   "metadata": {},
   "outputs": [],
   "source": [
    "# more ufuncs are in the dictionary and if you need to use it , please search it "
   ]
  },
  {
   "cell_type": "code",
   "execution_count": 25,
   "metadata": {},
   "outputs": [
    {
     "name": "stdout",
     "output_type": "stream",
     "text": [
      "[[-5.   -4.99 -4.98 ...  4.97  4.98  4.99]\n",
      " [-5.   -4.99 -4.98 ...  4.97  4.98  4.99]\n",
      " [-5.   -4.99 -4.98 ...  4.97  4.98  4.99]\n",
      " ...\n",
      " [-5.   -4.99 -4.98 ...  4.97  4.98  4.99]\n",
      " [-5.   -4.99 -4.98 ...  4.97  4.98  4.99]\n",
      " [-5.   -4.99 -4.98 ...  4.97  4.98  4.99]] [[-5.   -5.   -5.   ... -5.   -5.   -5.  ]\n",
      " [-4.99 -4.99 -4.99 ... -4.99 -4.99 -4.99]\n",
      " [-4.98 -4.98 -4.98 ... -4.98 -4.98 -4.98]\n",
      " ...\n",
      " [ 4.97  4.97  4.97 ...  4.97  4.97  4.97]\n",
      " [ 4.98  4.98  4.98 ...  4.98  4.98  4.98]\n",
      " [ 4.99  4.99  4.99 ...  4.99  4.99  4.99]]\n"
     ]
    }
   ],
   "source": [
    "# data anaysis\n",
    "# create x and y\n",
    "points = np.arange(-5,5,0.01) # 1000 equally spaced points\n",
    "xs, ys = np.meshgrid(points, points)\n",
    "print(xs,ys)"
   ]
  },
  {
   "cell_type": "code",
   "execution_count": 47,
   "metadata": {},
   "outputs": [
    {
     "name": "stdout",
     "output_type": "stream",
     "text": [
      "[[-1.00000000e+01 -9.99000000e+00 -9.98000000e+00 ... -3.00000000e-02\n",
      "  -2.00000000e-02 -1.00000000e-02]\n",
      " [-9.99000000e+00 -9.98000000e+00 -9.97000000e+00 ... -2.00000000e-02\n",
      "  -1.00000000e-02 -2.13162821e-13]\n",
      " [-9.98000000e+00 -9.97000000e+00 -9.96000000e+00 ... -1.00000000e-02\n",
      "  -2.13162821e-13  1.00000000e-02]\n",
      " ...\n",
      " [-3.00000000e-02 -2.00000000e-02 -1.00000000e-02 ...  9.94000000e+00\n",
      "   9.95000000e+00  9.96000000e+00]\n",
      " [-2.00000000e-02 -1.00000000e-02 -2.13162821e-13 ...  9.95000000e+00\n",
      "   9.96000000e+00  9.97000000e+00]\n",
      " [-1.00000000e-02 -2.13162821e-13  1.00000000e-02 ...  9.96000000e+00\n",
      "   9.97000000e+00  9.98000000e+00]]\n"
     ]
    }
   ],
   "source": [
    "# calculate the pow(pow(x,2)+pow(y,2),0.5)\n",
    "z = np.sqrt(xs**2+ys**2)\n",
    "z2 = xs + ys\n",
    "print(z2)"
   ]
  },
  {
   "cell_type": "code",
   "execution_count": 48,
   "metadata": {},
   "outputs": [
    {
     "data": {
      "text/plain": [
       "Text(0.5, 1.0, 'Image plot of $\\\\sqrt{x^2 + y^2}$ for a grid of values')"
      ]
     },
     "execution_count": 48,
     "metadata": {},
     "output_type": "execute_result"
    },
    {
     "data": {
      "image/png": "[encoded data removed]",
      "text/plain": [
       "<Figure size 432x288 with 2 Axes>"
      ]
     },
     "metadata": {
      "needs_background": "light"
     },
     "output_type": "display_data"
    }
   ],
   "source": [
    "import matplotlib.pyplot as plt\n",
    "%matplotlib inline\n",
    "\n",
    "plt.imshow(z2,cmap=plt.cm.gray);plt.colorbar()\n",
    "plt.title(\"Image plot of $\\sqrt{x^2 + y^2}$ for a grid of values\")"
   ]
  },
  {
   "cell_type": "code",
   "execution_count": 28,
   "metadata": {},
   "outputs": [],
   "source": [
    "# exchange expression to array calculate"
   ]
  },
  {
   "cell_type": "code",
   "execution_count": 29,
   "metadata": {},
   "outputs": [
    {
     "name": "stdout",
     "output_type": "stream",
     "text": [
      "[1.1, 2.2, 1.3, 1.4, 2.5]\n"
     ]
    }
   ],
   "source": [
    "xarr = np.array([1.1,1.2,1.3,1.4,1.5])\n",
    "yarr = np.array([2.1,2.2,2.3,2.4,2.5])\n",
    "cond = np.array([True,False,True,True,False])\n",
    "result = [(x if c else y)\n",
    "          for x,y,c in zip(xarr,yarr,cond)]\n",
    "print(result)"
   ]
  },
  {
   "cell_type": "code",
   "execution_count": 30,
   "metadata": {},
   "outputs": [
    {
     "name": "stdout",
     "output_type": "stream",
     "text": [
      "[1.1 2.2 1.3 1.4 2.5]\n"
     ]
    }
   ],
   "source": [
    "result = np.where(cond,xarr,yarr) # coder qucker tool\n",
    "print(result)"
   ]
  },
  {
   "cell_type": "code",
   "execution_count": 31,
   "metadata": {},
   "outputs": [
    {
     "name": "stdout",
     "output_type": "stream",
     "text": [
      "[[ 0.76612348 -0.82565101  1.11099113  0.4690566 ]\n",
      " [-0.52481072  0.78431407 -0.31329594 -0.548683  ]\n",
      " [ 0.10051788  0.29908563  0.79583901 -1.57877935]\n",
      " [-0.11862392 -1.5689195   0.57778115  1.08191352]]\n",
      "[[ True False  True  True]\n",
      " [False  True False False]\n",
      " [ True  True  True False]\n",
      " [False False  True  True]]\n",
      "[[ 2 -2  2  2]\n",
      " [-2  2 -2 -2]\n",
      " [ 2  2  2 -2]\n",
      " [-2 -2  2  2]]\n",
      "[[ 2.         -0.82565101  2.          2.        ]\n",
      " [-0.52481072  2.         -0.31329594 -0.548683  ]\n",
      " [ 2.          2.          2.         -1.57877935]\n",
      " [-0.11862392 -1.5689195   2.          2.        ]]\n"
     ]
    }
   ],
   "source": [
    "# application 1: replace nagative to -2 , positive to +2\n",
    "arr = np.random.randn(4,4)\n",
    "print(arr)\n",
    "print(arr > 0)\n",
    "print(np.where(arr > 0, 2, -2))\n",
    "print(np.where(arr > 0, 2, arr)) # not change the origin array"
   ]
  },
  {
   "cell_type": "code",
   "execution_count": 32,
   "metadata": {},
   "outputs": [],
   "source": [
    "arr = np.random.randn(5,4)"
   ]
  },
  {
   "cell_type": "code",
   "execution_count": 33,
   "metadata": {},
   "outputs": [
    {
     "name": "stdout",
     "output_type": "stream",
     "text": [
      "[[ 0.71894775  1.37553308 -0.73202177  0.91989005]\n",
      " [-1.0257933   0.0325333   0.11139703 -0.61416711]\n",
      " [ 0.4220883  -0.07621087  0.55325568 -0.19800347]\n",
      " [-1.33030004  0.52993686 -0.50663842 -0.55158175]\n",
      " [-2.09529148  1.64549705  1.03157102 -0.69378836]]\n",
      "[-0.66206975  0.70145789  0.09151271 -0.22753013]\n",
      "-0.02415732222463411\n",
      "-0.02415732222463411\n",
      "-0.4831464444926822\n"
     ]
    }
   ],
   "source": [
    "print(arr)\n",
    "print(arr.mean(0)) # axis = 1计算每行的平均值并把每一行的平均值作为一维数组的值返回; axis = 0: 每列\n",
    "# check method : \n",
    "# print(np.sum(arr[0,:])/4) 每行\n",
    "# print(np.sum(arr[:,0])/5) 每列\n",
    "# 所有值的平均值\n",
    "print(arr.mean()) \n",
    "print(np.mean(arr))\n",
    "# check method : print(np.sum(arr[:,:])/(4*5))\n",
    "print(arr.sum()) # 计算所有值的和 print(np.sum(arr[:,:]))"
   ]
  },
  {
   "cell_type": "code",
   "execution_count": 34,
   "metadata": {},
   "outputs": [
    {
     "name": "stdout",
     "output_type": "stream",
     "text": [
      "[0 1 2 3 4 5 6 7 8]\n",
      "[ 0  1  3  6 10 15 21 28 36]\n"
     ]
    }
   ],
   "source": [
    "arr = np.arange(9)\n",
    "print(arr)\n",
    "print(arr.cumsum()) # 累加函数，每个数是对应其位置以及其前边所有值之和"
   ]
  },
  {
   "cell_type": "code",
   "execution_count": 35,
   "metadata": {},
   "outputs": [
    {
     "name": "stdout",
     "output_type": "stream",
     "text": [
      "[[0 1 2]\n",
      " [3 4 5]\n",
      " [6 7 8]]\n",
      "[[ 0  1  2]\n",
      " [ 3  5  7]\n",
      " [ 9 12 15]]\n",
      "[[ 0  1  3]\n",
      " [ 3  7 12]\n",
      " [ 6 13 21]]\n",
      "[[ 0  1  2]\n",
      " [ 0  4 10]\n",
      " [ 0 28 80]]\n"
     ]
    }
   ],
   "source": [
    "arr = np.array([[0,1,2],[3,4,5],[6,7,8]])\n",
    "print(arr)\n",
    "print(arr.cumsum(axis=0)) # 列\n",
    "print(arr.cumsum(axis=1)) # 行\n",
    "# 累积\n",
    "print(arr.cumprod(axis=0))"
   ]
  },
  {
   "cell_type": "code",
   "execution_count": 36,
   "metadata": {},
   "outputs": [],
   "source": [
    "# more array statistics mothods you need to search them"
   ]
  },
  {
   "cell_type": "code",
   "execution_count": 37,
   "metadata": {},
   "outputs": [],
   "source": [
    "arr = np.random.randn(100)"
   ]
  },
  {
   "cell_type": "code",
   "execution_count": 38,
   "metadata": {},
   "outputs": [
    {
     "name": "stdout",
     "output_type": "stream",
     "text": [
      "[ 0.61169136  1.69492991 -0.43735118  0.33799035  1.33877174 -0.77938767\n",
      "  1.43151166  0.60106515  1.52637997 -0.97510352 -0.47766074 -1.32626983\n",
      " -0.23358373  0.06454023  1.30696317 -0.10664625  0.15027965  0.19642789\n",
      " -0.00579458  0.23937701 -0.20928244  0.11492663 -0.40366315 -0.4129402\n",
      "  1.21257322 -0.09946095  0.64335638  0.6940274   1.70540667  1.99799887\n",
      "  0.63349387 -0.61025017  0.19718657 -0.6450973  -0.95252502 -0.71258699\n",
      "  0.98226035  0.27508258 -0.0623091  -0.98424597  0.00776303 -0.12145174\n",
      "  0.54952473 -0.41089238 -0.1261311  -1.14055318 -0.15845293  0.53172585\n",
      " -2.25182568  0.74541679 -0.28575985  0.48736927 -0.40301925 -0.60885844\n",
      "  0.94850461 -1.41067801 -0.31154811  0.0071646  -0.09274206  0.43782959\n",
      "  0.25232681 -0.58632246 -0.08251812 -0.56442428  1.01991894  0.6714447\n",
      "  0.0904547   0.24529488  0.47162763 -1.38630277 -0.10890386 -0.3005935\n",
      " -0.86705647  0.91629415 -0.9246241  -0.06672515  0.62921322 -0.89061071\n",
      " -0.83868413 -1.50249232 -0.55296742  0.18239377  1.59943991 -0.13410654\n",
      " -0.41404994 -0.90801934  1.0713388   0.17332978  0.21405118  0.33460528\n",
      "  1.06799263 -1.44889341  0.40857508  1.6560707   0.59434858  0.77836891\n",
      " -0.72341138  0.29563773 -1.00815551 -0.21586981]\n",
      "50\n"
     ]
    }
   ],
   "source": [
    "print(arr)\n",
    "print((arr>0).sum())"
   ]
  },
  {
   "cell_type": "code",
   "execution_count": 39,
   "metadata": {},
   "outputs": [
    {
     "name": "stdout",
     "output_type": "stream",
     "text": [
      "True\n",
      "False\n"
     ]
    }
   ],
   "source": [
    "# search for true and false\n",
    "bools = np.array([False,False,True,False])\n",
    "print(bools.any()) # isExist()\n",
    "print(bools.all()) # isAll()\n",
    "# isNotZore can be applicated ,too"
   ]
  },
  {
   "cell_type": "code",
   "execution_count": 40,
   "metadata": {},
   "outputs": [],
   "source": [
    "# sort\n",
    "array = np.random.random(5)"
   ]
  },
  {
   "cell_type": "code",
   "execution_count": 41,
   "metadata": {},
   "outputs": [
    {
     "name": "stdout",
     "output_type": "stream",
     "text": [
      "[0.50299584 0.79263555 0.36506588 0.45736064 0.27233898]\n",
      "[0.27233898 0.36506588 0.45736064 0.50299584 0.79263555]\n"
     ]
    }
   ],
   "source": [
    "# quicker sort\n",
    "print(array)\n",
    "print(np.sort(array,kind='mergesort')) # 默认为quicksort\n",
    "# 注意方法中有四个参数，不能直接跳过某个参数除了直接声明\n",
    "# np.sort(a,axis,kind,order)"
   ]
  },
  {
   "cell_type": "code",
   "execution_count": 42,
   "metadata": {},
   "outputs": [
    {
     "name": "stdout",
     "output_type": "stream",
     "text": [
      "[(b'raju', 21) (b'anil', 25) (b'ravi', 17) (b'amar', 27)]\n",
      "[(b'amar', 27) (b'anil', 25) (b'raju', 21) (b'ravi', 17)]\n"
     ]
    }
   ],
   "source": [
    "# 排序字段\n",
    "dt = np.dtype([('name','S10'),('age',int)])\n",
    "a = np.array([(\"raju\",21),(\"anil\",25),(\"ravi\",17),(\"amar\",27)],dtype=dt)\n",
    "print(a)\n",
    "print(np.sort(a,order = 'name'))"
   ]
  },
  {
   "cell_type": "code",
   "execution_count": 43,
   "metadata": {},
   "outputs": [
    {
     "name": "stdout",
     "output_type": "stream",
     "text": [
      "[[-0.58309417 -0.21590526  1.06639302]\n",
      " [-1.44356496 -0.7261809  -0.62090816]\n",
      " [ 0.06667086  1.4361183  -0.30755556]\n",
      " [ 1.09999325  2.34962594  1.68593936]\n",
      " [ 0.30194126 -1.94071727 -0.83776262]]\n"
     ]
    }
   ],
   "source": [
    "arr = np.random.randn(5,3)\n",
    "print(arr)"
   ]
  },
  {
   "cell_type": "code",
   "execution_count": 44,
   "metadata": {},
   "outputs": [
    {
     "name": "stdout",
     "output_type": "stream",
     "text": [
      "[[-0.58309417 -0.21590526  1.06639302]\n",
      " [-1.44356496 -0.7261809  -0.62090816]\n",
      " [-0.30755556  0.06667086  1.4361183 ]\n",
      " [ 1.09999325  1.68593936  2.34962594]\n",
      " [-1.94071727 -0.83776262  0.30194126]]\n",
      "[[-1.44356496 -1.94071727 -0.83776262]\n",
      " [-0.58309417 -0.7261809  -0.62090816]\n",
      " [ 0.06667086 -0.21590526 -0.30755556]\n",
      " [ 0.30194126  1.4361183   1.06639302]\n",
      " [ 1.09999325  2.34962594  1.68593936]]\n",
      "[[-1.94071727 -1.44356496 -0.83776262]\n",
      " [-0.7261809  -0.62090816 -0.58309417]\n",
      " [-0.30755556 -0.21590526  0.06667086]\n",
      " [ 0.30194126  1.06639302  1.4361183 ]\n",
      " [ 1.09999325  1.68593936  2.34962594]]\n"
     ]
    }
   ],
   "source": [
    "print(np.sort(arr)) # 默认为排序行方向上的元素\n",
    "arr.sort(0)\n",
    "print(arr)\n",
    "arr.sort(1)\n",
    "print(arr)"
   ]
  },
  {
   "cell_type": "code",
   "execution_count": null,
   "metadata": {},
   "outputs": [],
   "source": [
    "# 使用指定排序类型返回数据的索引数组，将排序后的元素的索引返回一个数组"
   ]
  },
  {
   "cell_type": "code",
   "execution_count": 58,
   "metadata": {},
   "outputs": [
    {
     "name": "stdout",
     "output_type": "stream",
     "text": [
      "[1 5 6 3 2 4]\n",
      "[0 4 3 5 1 2]\n",
      "[1 2 3 4 5 6]\n",
      "1\n",
      "2\n",
      "3\n",
      "4\n",
      "5\n",
      "6\n"
     ]
    }
   ],
   "source": [
    "x = np.array([1,5,6,3,2,4])\n",
    "print(x)\n",
    "y = np.argsort(x)\n",
    "print(y)\n",
    "print(x[y])\n",
    "for i in y:\n",
    "    print(x[i])"
   ]
  },
  {
   "cell_type": "code",
   "execution_count": 65,
   "metadata": {},
   "outputs": [
    {
     "name": "stdout",
     "output_type": "stream",
     "text": [
      "[3 1 0 2]\n",
      "['amar', 'anil', 'raju', 'ravi']\n",
      "['f.y.', 's.y.', 'f.y.', 's.y.']\n"
     ]
    }
   ],
   "source": [
    "nm = ('raju','anil','ravi','amar')\n",
    "dv = ('f.y.','s.y.','s.y.','f.y.')\n",
    "ind = np.lexsort((dv,nm))\n",
    "print(ind)\n",
    "print([nm[i] for i in ind])\n",
    "print([dv[i] for i in ind])"
   ]
  },
  {
   "cell_type": "code",
   "execution_count": 68,
   "metadata": {},
   "outputs": [
    {
     "name": "stdout",
     "output_type": "stream",
     "text": [
      "['Bob' 'Joe' 'Will']\n",
      "[1 2 3 4 5 6 7]\n"
     ]
    }
   ],
   "source": [
    "# 集合运算：返回集合中排序好的唯一值|\n",
    "names = np.array(['Bob','Joe','Will','Bob','Will','Joe','Joe'])\n",
    "print(np.unique(names))\n",
    "ints = np.array([1,2,3,5,6,7,3,4,5])\n",
    "print(np.unique(ints))"
   ]
  },
  {
   "cell_type": "code",
   "execution_count": 69,
   "metadata": {},
   "outputs": [
    {
     "name": "stdout",
     "output_type": "stream",
     "text": [
      "['Bob', 'Joe', 'Will']\n"
     ]
    }
   ],
   "source": [
    "print(sorted(set(names)))"
   ]
  },
  {
   "cell_type": "code",
   "execution_count": 71,
   "metadata": {},
   "outputs": [
    {
     "name": "stdout",
     "output_type": "stream",
     "text": [
      "[ True False False  True  True False  True]\n"
     ]
    }
   ],
   "source": [
    "values = np.array([6,0,0,3,2,5,6])\n",
    "print(np.in1d(values,[2,3,6])) # 1 与 l ??????"
   ]
  },
  {
   "cell_type": "code",
   "execution_count": 72,
   "metadata": {},
   "outputs": [],
   "source": [
    "# if you need more methods, you should search for them.Knowledge can't automatically crush into your mind"
   ]
  },
  {
   "cell_type": "code",
   "execution_count": 76,
   "metadata": {},
   "outputs": [
    {
     "name": "stdout",
     "output_type": "stream",
     "text": [
      "[0 1 2 3 4 5 6 7 8 9]\n"
     ]
    }
   ],
   "source": [
    "# io\n",
    "arr = np.arange(10)\n",
    "np.save('test_np_io_array',arr)\n",
    "print(np.load('test_np_io_array.npy'))"
   ]
  },
  {
   "cell_type": "code",
   "execution_count": 80,
   "metadata": {},
   "outputs": [
    {
     "name": "stdout",
     "output_type": "stream",
     "text": [
      "[0 1 2 3 4 5 6 7 8 9]\n",
      "[0 1 2 3 4]\n"
     ]
    }
   ],
   "source": [
    "arr1 = np.arange(10)\n",
    "arr2 = np.arange(5)\n",
    "np.savez('array_archive.npz',a=arr1,b=arr2)\n",
    "arch = np.load('array_archive.npz')\n",
    "print(arch['a'])\n",
    "print(arch['b'])"
   ]
  },
  {
   "cell_type": "code",
   "execution_count": 82,
   "metadata": {},
   "outputs": [],
   "source": [
    "# zip data although i don't know what is this?\n",
    "np.savez_compressed('arrays_compressed.npz',a=arr1,b=arr2)"
   ]
  },
  {
   "cell_type": "code",
   "execution_count": 83,
   "metadata": {},
   "outputs": [
    {
     "name": "stdout",
     "output_type": "stream",
     "text": [
      "[[1. 2. 3.]\n",
      " [4. 5. 5.]]\n",
      "[[ 6. 23.]\n",
      " [-1.  7.]\n",
      " [ 8.  9.]]\n",
      "[[ 28.  64.]\n",
      " [ 59. 172.]]\n"
     ]
    }
   ],
   "source": [
    "# 线性代数\n",
    "x = np.array([[1.,2.,3.],[4.,5.,5.]])\n",
    "y = np.array([[6.,23.],[-1,7],[8,9]])\n",
    "\n",
    "print(x)\n",
    "print(y)\n",
    "print(x.dot(y))"
   ]
  },
  {
   "cell_type": "code",
   "execution_count": 84,
   "metadata": {},
   "outputs": [
    {
     "name": "stdout",
     "output_type": "stream",
     "text": [
      "[[ 28.  64.]\n",
      " [ 59. 172.]]\n"
     ]
    }
   ],
   "source": [
    "print(np.dot(x,y))"
   ]
  },
  {
   "cell_type": "code",
   "execution_count": 85,
   "metadata": {},
   "outputs": [
    {
     "name": "stdout",
     "output_type": "stream",
     "text": [
      "[1. 1. 1.]\n",
      "[ 6. 14.]\n"
     ]
    }
   ],
   "source": [
    "# 二维数组和一个大小合适的一维数组的矩阵点积运算以后将会得到一个一维数组\n",
    "print(np.ones(3))\n",
    "print(np.dot(x,np.ones(3)))"
   ]
  },
  {
   "cell_type": "code",
   "execution_count": 86,
   "metadata": {},
   "outputs": [
    {
     "name": "stdout",
     "output_type": "stream",
     "text": [
      "[ 6. 14.]\n"
     ]
    }
   ],
   "source": [
    "# 矩阵乘法\n",
    "print(x @ np.ones(3))"
   ]
  },
  {
   "cell_type": "code",
   "execution_count": 91,
   "metadata": {},
   "outputs": [
    {
     "name": "stdout",
     "output_type": "stream",
     "text": [
      "[[ 0.22808716  1.41826346  0.59631957 -2.32120775 -0.90621068]\n",
      " [ 1.47445678  0.02841179  1.53749945  0.19213565 -0.57979365]\n",
      " [-0.57892621  3.08356024  0.20092237  0.99442142 -0.84102973]\n",
      " [-0.72078721 -0.3337901   0.05847179  0.40224483 -0.31634571]\n",
      " [ 1.27084531  0.78299423 -0.31911807  0.37792831  0.12400952]]\n",
      "\n",
      "\n",
      "[[ 1.04238787 -1.68587303 -1.42485762 -1.15987161 -2.34850207]\n",
      " [-4.56663291 -2.69425183  2.12024136  2.52385499 -2.40951388]\n",
      " [-0.73446665 -3.93169711  0.30647802  3.01538586 -3.73318251]\n",
      " [-0.34125219  2.69962443 -0.93634644 -1.30899279  2.55376146]\n",
      " [ 2.50551496  2.90735356 -1.05407121 -2.80012017  2.7080672 ]]\n",
      "\n",
      "\n",
      "[[-4.99007560e-02 -5.80389124e-01 -5.19323320e-01 -4.49766369e-01\n",
      "  -8.51448737e-01]\n",
      " [ 1.11781307e+00 -5.61798479e+00 -8.17598005e+00 -2.03746722e+00\n",
      "  -1.33787841e+01]\n",
      " [ 4.72842379e-03 -7.75696695e-01 -1.73546042e+00 -1.06926495e+00\n",
      "  -2.07014438e+00]\n",
      " [-6.62224247e-02 -1.32247903e+00 -1.23772549e+00 -1.80405695e-01\n",
      "  -2.77024038e+00]\n",
      " [-1.22053742e+00  4.89902982e+00  7.30283137e+00  2.00079781e+00\n",
      "   1.18501815e+01]]\n",
      "\n",
      "\n",
      "[[ 1.00000000e+00 -2.73453114e-16  4.49641957e-15  1.28407417e-15\n",
      "   9.74879988e-15]\n",
      " [ 1.97024836e-16  1.00000000e+00  3.16856039e-16  2.13083864e-16\n",
      "  -5.08591735e-15]\n",
      " [ 5.21274461e-16 -3.95490450e-15  1.00000000e+00  1.67870033e-16\n",
      "  -1.25099196e-15]\n",
      " [-3.76898663e-16  4.15905714e-15 -1.28137641e-15  1.00000000e+00\n",
      "   4.64248907e-15]\n",
      " [ 2.18622948e-17  1.92322825e-15 -1.73484951e-15  4.68048027e-16\n",
      "   1.00000000e+00]]\n"
     ]
    }
   ],
   "source": [
    "from numpy.linalg import inv, qr\n",
    "X = np.random.randn(5,5)\n",
    "mat = X.T.dot(x)\n",
    "print(X)\n",
    "print('\\n')\n",
    "print(mat) # 转置乘积\n",
    "print('\\n')\n",
    "print(inv(mat)) # 逆矩阵\n",
    "print('\\n')\n",
    "print(mat.dot(inv(mat)))# 转置乘积后与逆矩阵相乘"
   ]
  },
  {
   "cell_type": "code",
   "execution_count": 92,
   "metadata": {},
   "outputs": [
    {
     "name": "stdout",
     "output_type": "stream",
     "text": [
      "[[-5.37347263 -3.68424524  2.55220004  4.00454297 -3.20292682]\n",
      " [ 0.          5.26558797 -0.13383584 -2.58681432  5.33577528]\n",
      " [ 0.          0.         -1.44074465 -1.06790383 -0.51106802]\n",
      " [ 0.          0.          0.         -1.57906359 -0.34393107]\n",
      " [ 0.          0.          0.          0.          0.06692722]]\n"
     ]
    }
   ],
   "source": [
    "# 求熟悉的上三角\n",
    "q, r = qr(mat)\n",
    "print(r)"
   ]
  },
  {
   "cell_type": "code",
   "execution_count": 94,
   "metadata": {},
   "outputs": [
    {
     "name": "stdout",
     "output_type": "stream",
     "text": [
      "[[ 0.72988518  1.56767356 -1.42932543]\n",
      " [-0.87036527  1.64396115 -1.06435792]\n",
      " [-0.74932891 -0.70245347  0.65756099]]\n"
     ]
    }
   ],
   "source": [
    "# cool mehtods \n",
    "samples = np.random.normal(size=(3,3))\n",
    "print(samples)"
   ]
  },
  {
   "cell_type": "code",
   "execution_count": 95,
   "metadata": {},
   "outputs": [
    {
     "name": "stdout",
     "output_type": "stream",
     "text": [
      "84.9 ms ± 2.2 ms per loop (mean ± std. dev. of 7 runs, 10 loops each)\n",
      "2.71 ms ± 23.3 µs per loop (mean ± std. dev. of 7 runs, 100 loops each)\n"
     ]
    }
   ],
   "source": [
    "# origin random\n",
    "from random import normalvariate\n",
    "\n",
    "N = 100000\n",
    "%timeit samples = [normalvariate(0,1) for _ in range(N)]\n",
    "%timeit np.random.normal(size=N)"
   ]
  },
  {
   "cell_type": "code",
   "execution_count": 105,
   "metadata": {},
   "outputs": [
    {
     "name": "stdout",
     "output_type": "stream",
     "text": [
      "[ 0.28847906 -0.46295408 -1.33800442  2.31701567 -1.46737593 -0.74854769\n",
      " -1.01752136  1.6350668   0.92254561 -0.71988132]\n"
     ]
    }
   ],
   "source": [
    "# random seed np.random.seed(1234)\n",
    "# seperate the seed \n",
    "rng2 = np.random.RandomState(124)\n",
    "print(rng2.randn(10))"
   ]
  },
  {
   "cell_type": "code",
   "execution_count": null,
   "metadata": {},
   "outputs": [],
   "source": [
    "# if you need more methods, you need to search them from computer."
   ]
  },
  {
   "cell_type": "code",
   "execution_count": 122,
   "metadata": {},
   "outputs": [],
   "source": [
    "# The last: create random nums and print them\n",
    "import random\n",
    "import matplotlib.pyplot as plt\n",
    "%matplotlib inline\n",
    "\n",
    "position = 0\n",
    "walk = [position]\n",
    "steps = 1000\n",
    "for i in range(steps):\n",
    "    step = 1 if random.randint(0,1) else -1\n",
    "    position += step\n",
    "    walk.append(position)"
   ]
  },
  {
   "cell_type": "code",
   "execution_count": 123,
   "metadata": {},
   "outputs": [
    {
     "data": {
      "text/plain": [
       "[<matplotlib.lines.Line2D at 0x2c3f1022f60>]"
      ]
     },
     "execution_count": 123,
     "metadata": {},
     "output_type": "execute_result"
    },
    {
     "data": {
      "image/png": "[encoded data removed]",
      "text/plain": [
       "<Figure size 432x288 with 1 Axes>"
      ]
     },
     "metadata": {
      "needs_background": "light"
     },
     "output_type": "display_data"
    }
   ],
   "source": [
    "plt.plot(walk[:1000]) # print method of matlab"
   ]
  },
  {
   "cell_type": "code",
   "execution_count": 135,
   "metadata": {},
   "outputs": [],
   "source": [
    "nstemps = 10000 # 模拟10000 次 投掷硬币结果\n",
    "draws = np.random.randint(0,2,size=nstemps)\n",
    "steps = np.where(draws > 0, 1, -1)\n",
    "walk = steps.cumsum()"
   ]
  },
  {
   "cell_type": "code",
   "execution_count": 136,
   "metadata": {},
   "outputs": [
    {
     "name": "stdout",
     "output_type": "stream",
     "text": [
      "-91\n",
      "44\n"
     ]
    }
   ],
   "source": [
    "print(walk.min())\n",
    "print(walk.max())"
   ]
  },
  {
   "cell_type": "code",
   "execution_count": 137,
   "metadata": {},
   "outputs": [
    {
     "name": "stdout",
     "output_type": "stream",
     "text": [
      "161\n"
     ]
    }
   ],
   "source": [
    "# 想知道一开始需要多久才能到达规定值\n",
    "print((np.abs(walk) >= 10).argmax())"
   ]
  },
  {
   "cell_type": "code",
   "execution_count": 150,
   "metadata": {},
   "outputs": [
    {
     "name": "stdout",
     "output_type": "stream",
     "text": [
      "[[1 0 0 ... 0 1 1]\n",
      " [1 1 1 ... 0 1 1]\n",
      " [1 0 0 ... 0 0 0]\n",
      " ...\n",
      " [1 0 0 ... 1 0 0]\n",
      " [0 1 0 ... 0 1 0]\n",
      " [0 0 1 ... 1 1 1]]\n",
      "\n",
      "\n",
      "[1 2 1 ... 6 5 6]\n"
     ]
    }
   ],
   "source": [
    "# 利用二元数组模拟多个随机漫步\n",
    "nwalks = 500 # first\n",
    "nsteps = 100 # second\n",
    "draws = np.random.randint(0,2,size=(nwalks,nsteps))\n",
    "steps = np.where(draws > 0, 1, -1)\n",
    "walks = steps.cumsum(1)\n",
    "print(draws)\n",
    "print('\\n')\n",
    "print(walk)"
   ]
  },
  {
   "cell_type": "code",
   "execution_count": 151,
   "metadata": {},
   "outputs": [
    {
     "name": "stdout",
     "output_type": "stream",
     "text": [
      "30\n",
      "-35\n"
     ]
    }
   ],
   "source": [
    "print(walks.max())\n",
    "print(walks.min())"
   ]
  },
  {
   "cell_type": "code",
   "execution_count": 152,
   "metadata": {},
   "outputs": [
    {
     "name": "stdout",
     "output_type": "stream",
     "text": [
      "[False False False False False False False False False False False False\n",
      " False False False False False False False False False False False False\n",
      " False False False False False False False False False False False False\n",
      " False False False False False False False False False False False False\n",
      " False False False False False False False False False False False False\n",
      " False False False False False False False False False  True False False\n",
      " False False False False False False False False False False False False\n",
      " False False False False False False False False False False False False\n",
      " False False False False False False False False False False False False\n",
      " False False False False False False False False False False False False\n",
      " False False False False False False False False False False False False\n",
      " False False False False False False False False False False  True False\n",
      " False False False False False False False False False False False False\n",
      " False False False False False False False False False False False False\n",
      " False False False False False False False False False False False False\n",
      " False False False False False False False False False False False False\n",
      " False False False False False False False False False False False False\n",
      " False False False False False False False False False False False False\n",
      " False False False False False False False False False False False False\n",
      " False False False False False False False False False False False False\n",
      " False False False False False False False False False False False False\n",
      " False False False False False False False False False False False False\n",
      " False  True False False False False False False False False False False\n",
      " False False False False False False False False False False False False\n",
      " False False False False False False False False False False False False\n",
      " False False False False False False False False False False False False\n",
      " False False False False False False False False False False False False\n",
      " False False False False False False False False False False False False\n",
      " False False False False False False False False False False False False\n",
      " False  True False False False False False False False False False False\n",
      " False False False False False False False False False False False False\n",
      " False False False False False False False False False False False False\n",
      " False False False False False False False False False False False False\n",
      " False False False False False False False False False False False False\n",
      " False False False False False False False False False False False False\n",
      " False False False False False False False False False False False False\n",
      " False False False False False False False False False False False False\n",
      " False False False False False False False False False False False False\n",
      " False False False False False False False False False False False False\n",
      " False False False False False False False False False False False False\n",
      " False False False False False False False False False False False False\n",
      " False False False False False False False False]\n",
      "4\n"
     ]
    }
   ],
   "source": [
    "hits30 = (np.abs(walks) >= 30).any(1)\n",
    "print(hits30)\n",
    "print(hits30.sum())"
   ]
  },
  {
   "cell_type": "code",
   "execution_count": 153,
   "metadata": {},
   "outputs": [
    {
     "name": "stdout",
     "output_type": "stream",
     "text": [
      "87.0\n"
     ]
    },
    {
     "data": {
      "text/plain": [
       "[<matplotlib.lines.Line2D at 0x2c3f3a88b00>]"
      ]
     },
     "execution_count": 153,
     "metadata": {},
     "output_type": "execute_result"
    },
    {
     "data": {
      "image/png": "[encoded data removed]",
      "text/plain": [
       "<Figure size 432x288 with 1 Axes>"
      ]
     },
     "metadata": {
      "needs_background": "light"
     },
     "output_type": "display_data"
    }
   ],
   "source": [
    "crossing_times = (np.abs(walks[hits30]) >= 30).argmax(1)\n",
    "print(crossing_times.mean())\n",
    "plt.plot(crossing_times[:])"
   ]
  },
  {
   "cell_type": "code",
   "execution_count": 156,
   "metadata": {},
   "outputs": [
    {
     "name": "stdout",
     "output_type": "stream",
     "text": [
      "[[ 0.06401096  0.14388447 -0.01050136 ... -0.0556117   0.13341558\n",
      "   0.12959152]\n",
      " [-0.22529016  0.20670258 -0.48680905 ... -0.03496572  0.10837208\n",
      "  -0.02608955]\n",
      " [ 0.2416266  -0.0278599   0.43000627 ...  0.16458584  0.15530782\n",
      "  -0.09354146]\n",
      " ...\n",
      " [-0.56166865  0.10818558  0.40830036 ...  0.00519429 -0.10764599\n",
      "  -0.16976851]\n",
      " [-0.19458427 -0.18493122  0.41778387 ...  0.02211531 -0.4015065\n",
      "  -0.09748936]\n",
      " [ 0.02750397  0.02792267 -0.65402907 ... -0.22755651  0.17300923\n",
      "   0.03784992]]\n"
     ]
    }
   ],
   "source": [
    "# other methods also can be used to create random nums\n",
    "steps = np.random.normal(loc=0,scale=0.25,size=(nwalks,nsteps))\n",
    "print(steps)"
   ]
  },
  {
   "cell_type": "code",
   "execution_count": null,
   "metadata": {},
   "outputs": [],
   "source": [
    "# 小结\n",
    "# 主要是各种方法要熟练掌握\n",
    "# 正确处理好各个方面"
   ]
  }
 ],
 "metadata": {
  "kernelspec": {
   "display_name": "Python 3",
   "language": "python",
   "name": "python3"
  },
  "language_info": {
   "codemirror_mode": {
    "name": "ipython",
    "version": 3
   },
   "file_extension": ".py",
   "mimetype": "text/x-python",
   "name": "python",
   "nbconvert_exporter": "python",
   "pygments_lexer": "ipython3",
   "version": "3.7.3"
  }
 },
 "nbformat": 4,
 "nbformat_minor": 2
}
