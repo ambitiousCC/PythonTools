{
 "cells": [
  {
   "cell_type": "code",
   "execution_count": 2,
   "metadata": {},
   "outputs": [
    {
     "data": {
      "text/plain": [
       "4209"
      ]
     },
     "execution_count": 2,
     "metadata": {},
     "output_type": "execute_result"
    }
   ],
   "source": [
    "import re\n",
    "import os\n",
    "\n",
    "fileName = \"语料分析.txt\"\n",
    "result=[] # 原始消息列表\n",
    "girl=[] # 指定人消息列表\n",
    "pattern = \"2020-(.*)?梦\" # 指定为日期，比如2020-\n",
    "with open(fileName,\"r+\",encoding=\"utf-8\") as f: \n",
    "    for line in f.readlines():\n",
    "        result.append(line) # 先暂存列表\n",
    "\n",
    "# 对列表进行过滤提取\n",
    "for i in range(0,len(result)):\n",
    "    list2 = []\n",
    "    r = re.findall(pattern,result[i])\n",
    "    if(len(r)!=0 and result[i]!=''):\n",
    "        r2 = re.findall(\"(.*)?梦\",result[i])\n",
    "        r2 = r[0].rstrip()\n",
    "        r3 = result[i+1].strip()\n",
    "        if(r3!=\"[图片]\" and len(r3.encode(\"utf-8\"))>10):\n",
    "            list2.append(r2)\n",
    "            list2.append(r3)\n",
    "            girl.append(list2)\n",
    "len(girl)"
   ]
  },
  {
   "cell_type": "code",
   "execution_count": null,
   "metadata": {},
   "outputs": [],
   "source": [
    "import request\n",
    "\n"
   ]
  }
 ],
 "metadata": {
  "kernelspec": {
   "display_name": "Python 3",
   "language": "python",
   "name": "python3"
  },
  "language_info": {
   "codemirror_mode": {
    "name": "ipython",
    "version": 3
   },
   "file_extension": ".py",
   "mimetype": "text/x-python",
   "name": "python",
   "nbconvert_exporter": "python",
   "pygments_lexer": "ipython3",
   "version": "3.7.4"
  }
 },
 "nbformat": 4,
 "nbformat_minor": 2
}
