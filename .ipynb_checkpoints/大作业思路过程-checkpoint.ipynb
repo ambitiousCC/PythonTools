{
 "cells": [
  {
   "cell_type": "code",
   "execution_count": 49,
   "metadata": {},
   "outputs": [],
   "source": [
    "import random\n",
    "import time"
   ]
  },
  {
   "cell_type": "code",
   "execution_count": 50,
   "metadata": {},
   "outputs": [],
   "source": [
    "def judgeRate(inputStr, strs):\n",
    "    length = len(strs)\n",
    "    strLength = len(inputStr)\n",
    "    if(len(inputStr)>length):\n",
    "        print(\"你输入的串长超长，无效\")\n",
    "        return\n",
    "    elif(strLength<length):\n",
    "        need = length - strLength\n",
    "        needStr = \" \"*need\n",
    "        inputStr += needStr\n",
    "    incorrect_time = 0\n",
    "    for i in range(length):\n",
    "        if(inputStr[i]!=strs[i]):\n",
    "            incorrect_time+=1\n",
    "    rate = (length - incorrect_time) / length\n",
    "    return rate"
   ]
  },
  {
   "cell_type": "code",
   "execution_count": 51,
   "metadata": {},
   "outputs": [],
   "source": [
    "alpha = [chr(i) for i in range(65,91)] +  [chr(i) for i in range(97,123)] + [' ']\n",
    "def typeTest():\n",
    "    # 自动生成规定长度字符串[1,15]\n",
    "    length = random.randint(1,15)\n",
    "    strs = \"\"\n",
    "    for i in range(length):\n",
    "        strs += alpha[random.randint(0,len(alpha)-1)]\n",
    "    print(strs)\n",
    "    # 开始计时\n",
    "    start_time = time.perf_counter()\n",
    "    inputStr = input()\n",
    "    # 结束计时\n",
    "    end_time = time.perf_counter()\n",
    "    cost_time = end_time - start_time\n",
    "    rate = judgeRate(inputStr,strs)\n",
    "    rate *= 100\n",
    "    print(\"本次的正确率是{:.2f}%.\".format(rate))\n",
    "    print(\"本次时间花费：{:.2f}s.\".format(cost_time))\n",
    "    print()\n",
    "    return rate"
   ]
  },
  {
   "cell_type": "code",
   "execution_count": 52,
   "metadata": {},
   "outputs": [],
   "source": [
    "def to_int(str):\n",
    "    try:\n",
    "        int(str)\n",
    "        return int(str)\n",
    "    except ValueError: #报类型错误，说明不是整型的\n",
    "        try:\n",
    "            float(str) #用这个来验证，是不是浮点字符串\n",
    "            return int(float(str))\n",
    "        except ValueError:  #如果报错，说明即不是浮点，也不是int字符串。   是一个真正的字符串\n",
    "            return False"
   ]
  },
  {
   "cell_type": "code",
   "execution_count": 53,
   "metadata": {},
   "outputs": [
    {
     "name": "stdout",
     "output_type": "stream",
     "text": [
      "请输入打字次数：3\n",
      "\n",
      "robKLfXeqbEj\n",
      "robKLfXeqbEj\n",
      "本次的正确率是100.00%.\n",
      "本次时间花费：11.49s.\n",
      "\n",
      "\n",
      "ntnxPOrusiP\n",
      "ntnxPOrusiP\n",
      "本次的正确率是100.00%.\n",
      "本次时间花费：8.52s.\n",
      "\n",
      "\n",
      "ZlBImnvkh\n",
      "ZlBImnvkh\n",
      "本次的正确率是100.00%.\n",
      "本次时间花费：12.44s.\n",
      "\n",
      "\n",
      "整体的正确率是：10000.00%.\n"
     ]
    }
   ],
   "source": [
    "# 输入游戏次数\n",
    "times = input(\"请输入打字次数：\")\n",
    "print()\n",
    "# 按照次数开始打字测试\n",
    "all_rates = 0\n",
    "times = to_int(times)\n",
    "allTimes = times\n",
    "while(times>0):\n",
    "    # 传入测试打字方法\n",
    "    all_rates += typeTest()\n",
    "    print()\n",
    "    times-=1\n",
    "all_rates = all_rates/allTimes\n",
    "print(\"整体的正确率是：{:.2f}%.\".format(all_rates))"
   ]
  },
  {
   "cell_type": "markdown",
   "metadata": {},
   "source": [
    "# 作业2"
   ]
  },
  {
   "cell_type": "code",
   "execution_count": 56,
   "metadata": {},
   "outputs": [],
   "source": []
  },
  {
   "cell_type": "code",
   "execution_count": null,
   "metadata": {},
   "outputs": [],
   "source": []
  }
 ],
 "metadata": {
  "kernelspec": {
   "display_name": "Python 3",
   "language": "python",
   "name": "python3"
  },
  "language_info": {
   "codemirror_mode": {
    "name": "ipython",
    "version": 3
   },
   "file_extension": ".py",
   "mimetype": "text/x-python",
   "name": "python",
   "nbconvert_exporter": "python",
   "pygments_lexer": "ipython3",
   "version": "3.7.3"
  }
 },
 "nbformat": 4,
 "nbformat_minor": 2
}
