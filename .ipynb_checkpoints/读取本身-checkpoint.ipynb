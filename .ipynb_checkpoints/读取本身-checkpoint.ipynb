{
 "cells": [
  {
   "cell_type": "code",
   "execution_count": 1,
   "metadata": {},
   "outputs": [],
   "source": [
    "# 作业"
   ]
  },
  {
   "cell_type": "code",
   "execution_count": 2,
   "metadata": {},
   "outputs": [],
   "source": [
    "# 导入读取文件\n",
    "# 给每一行增加行号 行号是注释信息 #垂直对齐是啥\n",
    "# 导出文件"
   ]
  },
  {
   "cell_type": "code",
   "execution_count": 8,
   "metadata": {},
   "outputs": [
    {
     "name": "stdout",
     "output_type": "stream",
     "text": [
      "读取本身.ipynb\n",
      "\n"
     ]
    }
   ],
   "source": [
    "fo = open(\"读取本身.ipynb\",\"r+\")\n",
    "print(fo.name)\n",
    "str = fo.read(10)\n",
    "print(str)"
   ]
  },
  {
   "cell_type": "markdown",
   "metadata": {},
   "source": [
    "## 简单进度"
   ]
  },
  {
   "cell_type": "code",
   "execution_count": 15,
   "metadata": {},
   "outputs": [
    {
     "name": "stdout",
     "output_type": "stream",
     "text": [
      "下载进度：100.00%  "
     ]
    }
   ],
   "source": [
    "import time\n",
    "import random\n",
    "\n",
    "for i in range(1,101): #\n",
    "    \n",
    "    print(\"\\r下载进度：%.2f%%\" %(float(i/100*100)),end=' ')\n",
    "    time.sleep(0.1)"
   ]
  },
  {
   "cell_type": "markdown",
   "metadata": {},
   "source": [
    "## 动态打印进度"
   ]
  },
  {
   "cell_type": "code",
   "execution_count": 12,
   "metadata": {},
   "outputs": [
    {
     "name": "stdout",
     "output_type": "stream",
     "text": [
      "[ ################################################## ]100%"
     ]
    }
   ],
   "source": [
    "import os,sys\n",
    "def ProgressBar(num):\n",
    "    \"\"\"\n",
    "    :param num: 传入进度条总量值\n",
    "    :return:\n",
    "    \"\"\"\n",
    "    total = 50  # 进度条长度共20个“#”\n",
    "    if num == 0:\n",
    "        print('传入参数不可为0，仅接受int类型')\n",
    "    elif type(num) != int:\n",
    "        print('传入参数仅接受int类型')\n",
    "    else:\n",
    "        for item in range(num + 1):\n",
    "            test_num = int((item / num) * 100)  # 当前百分比\n",
    "            step = int(test_num / (100 / total))  # 一个‘#’的在100% 内的占比\n",
    "            now = r\"[ %s%s ]%s\" % (\"#\" * step, ' ' * (total - step), str(test_num))\n",
    "            sys.stdout.write(\"\\r%s%%\" % now)\n",
    "            sys.stdout.flush()\n",
    "            time.sleep(0.1)\n",
    "ProgressBar(100)"
   ]
  },
  {
   "cell_type": "markdown",
   "metadata": {},
   "source": [
    "## 执行时间"
   ]
  },
  {
   "cell_type": "code",
   "execution_count": 22,
   "metadata": {},
   "outputs": [
    {
     "name": "stdout",
     "output_type": "stream",
     "text": [
      "6.132115840911865\n"
     ]
    }
   ],
   "source": [
    "start = 0\n",
    "end = 122\n",
    "li = list(range(start,end))\n",
    "times = 0\n",
    "start_time = time.time()\n",
    "for i in li:\n",
    "    times+=1\n",
    "    if(0==times%2):\n",
    "        time.sleep(0.1)\n",
    "end_time = time.time()\n",
    "cost_time = end_time - start_time\n",
    "print(\"cost_time=\"+cost_time)"
   ]
  },
  {
   "cell_type": "markdown",
   "metadata": {},
   "source": [
    "## tqdm"
   ]
  },
  {
   "cell_type": "code",
   "execution_count": 10,
   "metadata": {},
   "outputs": [
    {
     "name": "stderr",
     "output_type": "stream",
     "text": [
      "100%|████████████████████████████████████████████████████████████████████████████████| 122/122 [00:06<00:00, 18.64it/s]\n"
     ]
    },
    {
     "name": "stdout",
     "output_type": "stream",
     "text": [
      "6.55471134185791\n"
     ]
    }
   ],
   "source": [
    "import time\n",
    "from tqdm import trange\n",
    "from tqdm import tqdm\n",
    "start = 0\n",
    "end = 122\n",
    "li = list(range(start,end))\n",
    "times = 0\n",
    "start_time = time.time()\n",
    "for i in tqdm(li):\n",
    "    times+=1\n",
    "    if(0==times%2):\n",
    "        time.sleep(0.1)\n",
    "end_time = time.time()\n",
    "cost_time = end_time - start_time\n",
    "print(cost_time)"
   ]
  },
  {
   "cell_type": "code",
   "execution_count": null,
   "metadata": {},
   "outputs": [],
   "source": [
    "import numpy as np\n",
    "\n",
    "array = np.random.randint(10,size=10)\n",
    "\n",
    "endlist = \n",
    "start = 0.1\n",
    "end = 122\n",
    "li = list(range(start,end))\n",
    "times = 0\n",
    "start_time = time.time()\n",
    "for i in tqdm(li):\n",
    "    times+=1\n",
    "    if(0==times%2):\n",
    "        time.sleep(0.1)\n",
    "end_time = time.time()\n",
    "cost_time = end_time - start_time\n",
    "print(cost_time)"
   ]
  },
  {
   "cell_type": "code",
   "execution_count": null,
   "metadata": {},
   "outputs": [],
   "source": []
  },
  {
   "cell_type": "code",
   "execution_count": null,
   "metadata": {},
   "outputs": [],
   "source": []
  }
 ],
 "metadata": {
  "kernelspec": {
   "display_name": "Python 3",
   "language": "python",
   "name": "python3"
  },
  "language_info": {
   "codemirror_mode": {
    "name": "ipython",
    "version": 3
   },
   "file_extension": ".py",
   "mimetype": "text/x-python",
   "name": "python",
   "nbconvert_exporter": "python",
   "pygments_lexer": "ipython3",
   "version": "3.7.4"
  }
 },
 "nbformat": 4,
 "nbformat_minor": 2
}
