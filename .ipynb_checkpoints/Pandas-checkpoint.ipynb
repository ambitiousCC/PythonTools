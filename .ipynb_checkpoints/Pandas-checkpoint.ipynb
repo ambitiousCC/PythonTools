{
 "cells": [
  {
   "cell_type": "code",
   "execution_count": 2,
   "metadata": {},
   "outputs": [],
   "source": [
    "# create series"
   ]
  },
  {
   "cell_type": "code",
   "execution_count": 3,
   "metadata": {},
   "outputs": [],
   "source": [
    "import numpy as np, pandas as pd"
   ]
  },
  {
   "cell_type": "code",
   "execution_count": 4,
   "metadata": {},
   "outputs": [
    {
     "name": "stdout",
     "output_type": "stream",
     "text": [
      "[0 1 2 3 4 5 6 7 8 9]\n",
      "<class 'numpy.ndarray'>\n"
     ]
    }
   ],
   "source": [
    "# method one: pandas.Series(arr)\n",
    "arr1 = np.arange(10)\n",
    "print(arr1)\n",
    "print(type(arr1))"
   ]
  },
  {
   "cell_type": "code",
   "execution_count": 5,
   "metadata": {},
   "outputs": [
    {
     "name": "stdout",
     "output_type": "stream",
     "text": [
      "0    0\n",
      "1    1\n",
      "2    2\n",
      "3    3\n",
      "4    4\n",
      "5    5\n",
      "6    6\n",
      "7    7\n",
      "8    8\n",
      "9    9\n",
      "dtype: int32\n",
      "<class 'pandas.core.series.Series'>\n"
     ]
    }
   ],
   "source": [
    "s1 = pd.Series(arr1)\n",
    "print(s1)\n",
    "print(type(s1))"
   ]
  },
  {
   "cell_type": "code",
   "execution_count": 6,
   "metadata": {},
   "outputs": [
    {
     "name": "stdout",
     "output_type": "stream",
     "text": [
      "{'a': 10, 'b': 20, 'c': 30, 'd': 40, 'e': 50}\n",
      "<class 'dict'>\n"
     ]
    }
   ],
   "source": [
    "# dictionary\n",
    "dic1 = {'a':10,'b':20,'c':30,'d':40,'e':50}\n",
    "print(dic1)\n",
    "print(type(dic1))"
   ]
  },
  {
   "cell_type": "code",
   "execution_count": 7,
   "metadata": {},
   "outputs": [
    {
     "name": "stdout",
     "output_type": "stream",
     "text": [
      "[[ 0  1  2]\n",
      " [ 3  4  5]\n",
      " [ 6  7  8]\n",
      " [ 9 10 11]]\n",
      "<class 'numpy.ndarray'>\n"
     ]
    }
   ],
   "source": [
    "# DataFrame (actually it can also be used in excel?)\n",
    "arr2 = np.array(np.arange(12)).reshape(4,3)\n",
    "print(arr2)\n",
    "print(type(arr2))"
   ]
  },
  {
   "cell_type": "code",
   "execution_count": 8,
   "metadata": {},
   "outputs": [
    {
     "name": "stdout",
     "output_type": "stream",
     "text": [
      "   0   1   2\n",
      "0  0   1   2\n",
      "1  3   4   5\n",
      "2  6   7   8\n",
      "3  9  10  11\n",
      "<class 'pandas.core.frame.DataFrame'>\n"
     ]
    }
   ],
   "source": [
    "df1 = pd.DataFrame(arr2)\n",
    "print(df1)\n",
    "print(type(df1))"
   ]
  },
  {
   "cell_type": "code",
   "execution_count": 9,
   "metadata": {},
   "outputs": [
    {
     "name": "stdout",
     "output_type": "stream",
     "text": [
      "{'a': [1, 2, 3, 4], 'b': [5, 6, 7, 8], 'c': [9, 10, 11, 12], 'd': [13, 14, 15, 16]}\n",
      "<class 'dict'>\n"
     ]
    }
   ],
   "source": [
    "# created by dictionary\n",
    "dic2 = {'a':[1,2,3,4],'b':[5,6,7,8],'c':[9,10,11,12],'d':[13,14,15,16]}\n",
    "print(dic2)\n",
    "print(type(dic2))"
   ]
  },
  {
   "cell_type": "code",
   "execution_count": 10,
   "metadata": {},
   "outputs": [
    {
     "name": "stdout",
     "output_type": "stream",
     "text": [
      "   a  b   c   d\n",
      "0  1  5   9  13\n",
      "1  2  6  10  14\n",
      "2  3  7  11  15\n",
      "3  4  8  12  16\n",
      "<class 'pandas.core.frame.DataFrame'>\n"
     ]
    }
   ],
   "source": [
    "df2 = pd.DataFrame(dic2)\n",
    "print(df2)\n",
    "print(type(df2))"
   ]
  },
  {
   "cell_type": "code",
   "execution_count": 11,
   "metadata": {},
   "outputs": [
    {
     "name": "stdout",
     "output_type": "stream",
     "text": [
      "{'one': {'a': 1, 'b': 2, 'c': 3, 'd': 4}, 'two': {'a': 5, 'b': 6, 'c': 7, 'd': 8}, 'three': {'a': 9, 'b': 10, 'c': 11, 'd': 12}}\n",
      "<class 'dict'>\n"
     ]
    }
   ],
   "source": [
    "# 就是穿件了每个列行所代表的意思，可以操作excel了\n",
    "dic3 = {'one':{'a':1,'b':2,'c':3,'d':4},\n",
    "        'two':{'a':5,'b':6,'c':7,'d':8},\n",
    "        'three':{'a':9,'b':10,'c':11,'d':12}}\n",
    "print(dic3)\n",
    "print(type(dic3))\n",
    "\n",
    "# dic3 = {'one':{'a':1,'b':2,'c':3,'d':4},\n",
    "#         'two':{'a':5,'b':6,'c':7,'d':8},\n",
    "#         'three':{'a':9,'b':10,'c':11,'d':12}}\n",
    "# print(dic3)\n",
    "# print(type(dic3))"
   ]
  },
  {
   "cell_type": "code",
   "execution_count": 12,
   "metadata": {},
   "outputs": [
    {
     "name": "stdout",
     "output_type": "stream",
     "text": [
      "   one  two  three\n",
      "a    1    5      9\n",
      "b    2    6     10\n",
      "c    3    7     11\n",
      "d    4    8     12\n",
      "<class 'pandas.core.frame.DataFrame'>\n"
     ]
    }
   ],
   "source": [
    "df3 = pd.DataFrame(dic3)\n",
    "print(df3)\n",
    "print(type(df3))"
   ]
  },
  {
   "cell_type": "code",
   "execution_count": 13,
   "metadata": {},
   "outputs": [
    {
     "name": "stdout",
     "output_type": "stream",
     "text": [
      "   one  two  three\n",
      "a    1    5      9\n",
      "b    2    6     10\n",
      "c    3    7     11\n",
      "d    4    8     12\n"
     ]
    }
   ],
   "source": [
    "# craete frame by dataframe's method\n",
    "df4 = df3[['one','two','three']] # there are not others such as four , five , six , ...\n",
    "print(df4)"
   ]
  },
  {
   "cell_type": "code",
   "execution_count": 14,
   "metadata": {},
   "outputs": [
    {
     "name": "stdout",
     "output_type": "stream",
     "text": [
      "a    1\n",
      "b    2\n",
      "c    3\n",
      "d    4\n",
      "Name: one, dtype: int64\n",
      "<class 'pandas.core.series.Series'>\n"
     ]
    }
   ],
   "source": [
    "s3 = df3['one']\n",
    "print(s3)\n",
    "print(type(s3))"
   ]
  },
  {
   "cell_type": "code",
   "execution_count": 15,
   "metadata": {},
   "outputs": [
    {
     "name": "stdout",
     "output_type": "stream",
     "text": [
      "0    1\n",
      "1    1\n",
      "2    2\n",
      "3    3\n",
      "4    5\n",
      "5    8\n",
      "dtype: int32\n"
     ]
    }
   ],
   "source": [
    "# index's convenent ways\n",
    "s4 = pd.Series(np.array([1,1,2,3,5,8]))\n",
    "print(s4)"
   ]
  },
  {
   "cell_type": "code",
   "execution_count": 16,
   "metadata": {},
   "outputs": [
    {
     "name": "stdout",
     "output_type": "stream",
     "text": [
      "RangeIndex(start=0, stop=6, step=1)\n",
      "a    1\n",
      "b    1\n",
      "c    2\n",
      "d    3\n",
      "e    5\n",
      "f    8\n",
      "dtype: int32\n",
      "3\n",
      "5\n",
      "b    1\n",
      "d    3\n",
      "f    8\n",
      "dtype: int32\n"
     ]
    }
   ],
   "source": [
    "print(s4.index)\n",
    "s4.index = ['a','b','c','d','e','f']\n",
    "print(s4)\n",
    "print(s4[3]) # 自动建立的索引\n",
    "print(s4['e']) # 自定义建立的索引\n",
    "print(s4[[1,3,5]]) # 打印索引以及\n",
    "# 也可以进行切片操作等"
   ]
  },
  {
   "cell_type": "code",
   "execution_count": 18,
   "metadata": {},
   "outputs": [
    {
     "name": "stdout",
     "output_type": "stream",
     "text": [
      "a    10\n",
      "b    15\n",
      "c    20\n",
      "d    30\n",
      "e    55\n",
      "f    80\n",
      "dtype: int32\n",
      "a    12\n",
      "c    11\n",
      "g    13\n",
      "b    15\n",
      "d    14\n",
      "f    16\n",
      "dtype: int32\n",
      "a    22.0\n",
      "b    30.0\n",
      "c    31.0\n",
      "d    44.0\n",
      "e     NaN\n",
      "f    96.0\n",
      "g     NaN\n",
      "dtype: float64\n",
      "a    0.833333\n",
      "b    1.000000\n",
      "c    1.818182\n",
      "d    2.142857\n",
      "e         NaN\n",
      "f    5.000000\n",
      "g         NaN\n",
      "dtype: float64\n"
     ]
    }
   ],
   "source": [
    "# 自动化对齐\n",
    "s5 = pd.Series(np.array([10,15,20,30,55,80]),index = ['a','b','c','d','e','f'])\n",
    "print(s5)\n",
    "s6 = pd.Series(np.array([12,11,13,15,14,16]),index = ['a','c','g','b','d','f'])\n",
    "print(s6)\n",
    "print(\"按照索引计算结果\")\n",
    "print(s5 + s6)\n",
    "print(s5/s6)"
   ]
  },
  {
   "cell_type": "code",
   "execution_count": 37,
   "metadata": {},
   "outputs": [
    {
     "name": "stdout",
     "output_type": "stream",
     "text": [
      "前五行\n",
      "   Age  Height     Name Sex  Weight\n",
      "0   14    69.0   Alfred   M   112.5\n",
      "1   13    56.5    Alice   F    84.0\n",
      "2   13    65.3  Barbara   F    98.0\n",
      "3   14    62.8    Carol   F   102.5\n",
      "4   14    63.5    Henry   M   102.5\n",
      "后五行\n",
      "    Age  Height    Name Sex  Weight\n",
      "14   16    72.0  Philip   M   150.0\n",
      "15   12    64.8  Robert   M   128.0\n",
      "16   15    67.0  Ronald   M   133.0\n",
      "17   11    57.5  Thomas   M    85.0\n",
      "18   15    66.5  Willam   M   112.0\n"
     ]
    }
   ],
   "source": [
    "stu_dic = {'Age':[14,13,13,14,14,12,12,15,13,12,11,14,12,15,16,12,15,11,15],\n",
    "'Height':[69,56.5,65.3,62.8,63.5,57.3,59.8,62.5,62.5,59,51.3,64.3,56.3,66.5,72,64.8,67,57.5,66.5],\n",
    "'Name':['Alfred','Alice','Barbara','Carol','Henry','James','Jane','Janet','Jeffrey','John','Joyce','Judy','Louise','Marry','Philip','Robert','Ronald','Thomas','Willam'],\n",
    "'Sex':['M','F','F','F','M','M','F','F','M','M','F','F','F','F','M','M','M','M','M'],\n",
    "'Weight':[112.5,84,98,102.5,102.5,83,84.5,112.5,84,99.5,50.5,90,77,112,150,128,133,85,112]}\n",
    "student = pd.DataFrame(stu_dic)\n",
    "print(\"前五行\")\n",
    "print(student.head())\n",
    "print(\"后五行\")\n",
    "print(student.tail())"
   ]
  },
  {
   "cell_type": "code",
   "execution_count": 38,
   "metadata": {},
   "outputs": [
    {
     "name": "stdout",
     "output_type": "stream",
     "text": [
      "Age            13\n",
      "Height       65.3\n",
      "Name      Barbara\n",
      "Sex             F\n",
      "Weight         98\n",
      "Name: 2, dtype: object\n",
      "   Age  Height     Name Sex  Weight\n",
      "2   13    65.3  Barbara   F    98.0\n",
      "4   14    63.5    Henry   M   102.5\n",
      "5   12    57.3    James   M    83.0\n",
      "0     Alfred\n",
      "1      Alice\n",
      "2    Barbara\n",
      "3      Carol\n",
      "4      Henry\n",
      "Name: Name, dtype: object\n",
      "      Name Sex\n",
      "0   Alfred   M\n",
      "1    Alice   F\n",
      "2  Barbara   F\n",
      "3    Carol   F\n",
      "4    Henry   M\n"
     ]
    }
   ],
   "source": [
    "# 根据索引查询指定行数据，单行\n",
    "print(student.loc[2]) # 注意区别\n",
    "# loc[[]]多行\n",
    "print(student.loc[[2,4,5]])\n",
    "# 根据索引查询指定列数据\n",
    "print(student[\"Name\"].head()) # 注意区别！\n",
    "print(student[[\"Name\",\"Sex\"]].head())"
   ]
  },
  {
   "cell_type": "code",
   "execution_count": 39,
   "metadata": {},
   "outputs": [
    {
     "name": "stdout",
     "output_type": "stream",
     "text": [
      "      Name\n",
      "0   Alfred\n",
      "1    Alice\n",
      "2  Barbara\n",
      "3    Carol\n",
      "4    Henry\n"
     ]
    }
   ],
   "source": [
    "# 也可使用查询列 loc[row_index,[col_name]]\n",
    "print(student.loc[:,[\"Name\"]].head())"
   ]
  },
  {
   "cell_type": "code",
   "execution_count": 47,
   "metadata": {},
   "outputs": [
    {
     "name": "stdout",
     "output_type": "stream",
     "text": [
      "    Age  Height     Name Sex  Weight\n",
      "1    13    56.5    Alice   F    84.0\n",
      "2    13    65.3  Barbara   F    98.0\n",
      "3    14    62.8    Carol   F   102.5\n",
      "7    15    62.5    Janet   F   112.5\n",
      "11   14    64.3     Judy   F    90.0\n",
      "13   15    66.5    Marry   F   112.0\n",
      "       Name  Height  Weight\n",
      "1     Alice    56.5    84.0\n",
      "2   Barbara    65.3    98.0\n",
      "3     Carol    62.8   102.5\n",
      "7     Janet    62.5   112.5\n",
      "11     Judy    64.3    90.0\n",
      "13    Marry    66.5   112.0\n"
     ]
    }
   ],
   "source": [
    "# 复合条件查询\n",
    "print(student[(student['Sex']=='F')&(student['Age']>12)])\n",
    "print(student[(student['Sex']=='F')&(student['Age']>12)][['Name','Height','Weight']])"
   ]
  },
  {
   "cell_type": "code",
   "execution_count": 49,
   "metadata": {},
   "outputs": [],
   "source": [
    "# 统计分析函数模板\n",
    "def stats(x):\n",
    "\treturn pd.Series([x.count(),x.min(),x.idxmin(),x.quantile(.25),x.median(),x.quantile(.75),\n",
    "                      x.mean(),x.max(),x.idxmax(),x.mad(),x.var(),x.std(),x.skew(),x.kurt()],\n",
    "                     index = ['Count','Min','Whicn_Min','Q1','Median','Q3','Mean','Max',\n",
    "                              'Which_Max','Mad','Var','Std','Skew','Kurt'])"
   ]
  },
  {
   "cell_type": "code",
   "execution_count": 56,
   "metadata": {},
   "outputs": [
    {
     "name": "stdout",
     "output_type": "stream",
     "text": [
      "Count        120.000000\n",
      "Min           -4.127033\n",
      "Whicn_Min     81.000000\n",
      "Q1             2.063321\n",
      "Median         3.277344\n",
      "Q3             4.408703\n",
      "Mean           3.068018\n",
      "Max            7.781921\n",
      "Which_Max     39.000000\n",
      "Mad            1.496662\n",
      "Var            3.844983\n",
      "Std            1.960863\n",
      "Skew          -0.651704\n",
      "Kurt           1.070332\n",
      "dtype: float64\n",
      "count    120.000000\n",
      "mean       3.068018\n",
      "std        1.960863\n",
      "min       -4.127033\n",
      "25%        2.063321\n",
      "50%        3.277344\n",
      "75%        4.408703\n",
      "max        7.781921\n",
      "dtype: float64\n",
      "0      3.942870\n",
      "1      0.618049\n",
      "2      5.865414\n",
      "3      2.374696\n",
      "4      1.558823\n",
      "         ...   \n",
      "115    2.635649\n",
      "116    4.361312\n",
      "117   -0.636998\n",
      "118    3.094143\n",
      "119    3.789688\n",
      "Length: 120, dtype: float64\n"
     ]
    }
   ],
   "source": [
    "np.random.seed(1234)\n",
    "d = pd.Series(2*np.random.normal(size = 120)+3)\n",
    "print(stats(d)) # 自定义描述指标\n",
    "print(d.describe()) # 输出多个统计指标 只针对序列或者数据框，一维数组不能如此操作\n",
    "print(d)"
   ]
  },
  {
   "cell_type": "code",
   "execution_count": 57,
   "metadata": {},
   "outputs": [],
   "source": [
    "# 当同时处理多行数据时\n",
    "d1 = np.random.f(2,4,size=120) # 从2~4的浮点数\n",
    "d2 = np.random.randint(1,100,size=120) # 从1~100的随机整数"
   ]
  },
  {
   "cell_type": "code",
   "execution_count": 59,
   "metadata": {},
   "outputs": [
    {
     "name": "stdout",
     "output_type": "stream",
     "text": [
      "         x1         x2    x3\n",
      "0  3.942870   0.046797  50.0\n",
      "1  0.618049   2.112932  32.0\n",
      "2  5.865414  13.275777  44.0\n",
      "3  2.374696   1.010520  25.0\n",
      "4  1.558823   1.429254  84.0\n"
     ]
    }
   ],
   "source": [
    "# 构建二维数据框\n",
    "df = pd.DataFrame(np.array([d,d1,d2]).T,columns=['x1','x2','x3'])\n",
    "print(df.head())"
   ]
  },
  {
   "cell_type": "code",
   "execution_count": null,
   "metadata": {},
   "outputs": [],
   "source": []
  }
 ],
 "metadata": {
  "kernelspec": {
   "display_name": "Python 3",
   "language": "python",
   "name": "python3"
  },
  "language_info": {
   "codemirror_mode": {
    "name": "ipython",
    "version": 3
   },
   "file_extension": ".py",
   "mimetype": "text/x-python",
   "name": "python",
   "nbconvert_exporter": "python",
   "pygments_lexer": "ipython3",
   "version": "3.7.3"
  }
 },
 "nbformat": 4,
 "nbformat_minor": 2
}
