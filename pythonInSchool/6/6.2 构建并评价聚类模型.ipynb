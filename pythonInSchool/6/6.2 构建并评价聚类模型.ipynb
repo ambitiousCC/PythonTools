{
 "cells": [
  {
   "cell_type": "markdown",
   "metadata": {},
   "source": [
    "# 构建并评价聚类模型"
   ]
  },
  {
   "cell_type": "code",
   "execution_count": 2,
   "metadata": {},
   "outputs": [
    {
     "name": "stdout",
     "output_type": "stream",
     "text": [
      "构建的模型为：\n",
      " KMeans(algorithm='auto', copy_x=True, init='k-means++', max_iter=300,\n",
      "       n_clusters=3, n_init=10, n_jobs=None, precompute_distances='auto',\n",
      "       random_state=123, tol=0.0001, verbose=0)\n"
     ]
    }
   ],
   "source": [
    "from sklearn.datasets import load_iris\n",
    "from sklearn.preprocessing import MinMaxScaler\n",
    "from sklearn.cluster import KMeans\n",
    "\n",
    "iris=load_iris()\n",
    "iris_data=iris['data']\n",
    "iris_target=iris['target']\n",
    "iris_names=iris['feature_names']\n",
    "scale=MinMaxScaler().fit(iris_data) # 训练规则\n",
    "iris_dataScale=scale.transform(iris_data)\n",
    "kmeans=KMeans(n_clusters=3,\n",
    "             random_state=123).fit(iris_dataScale)\n",
    "print('构建的模型为：\\n',kmeans)"
   ]
  },
  {
   "cell_type": "code",
   "execution_count": 3,
   "metadata": {},
   "outputs": [
    {
     "name": "stdout",
     "output_type": "stream",
     "text": [
      "长度宽度全为1.5预测类别为： 0\n"
     ]
    }
   ],
   "source": [
    "result=kmeans.predict([[1.5,1.5,1.5,1.5]])\n",
    "print('长度宽度全为1.5预测类别为：',result[0])"
   ]
  },
  {
   "cell_type": "markdown",
   "metadata": {},
   "source": [
    "## 聚类可视化"
   ]
  },
  {
   "cell_type": "code",
   "execution_count": 4,
   "metadata": {},
   "outputs": [
    {
     "data": {
      "text/plain": [
       "<Figure size 900x600 with 1 Axes>"
      ]
     },
     "metadata": {},
     "output_type": "display_data"
    }
   ],
   "source": [
    "import pandas as pd\n",
    "from sklearn.manifold import TSNE\n",
    "import matplotlib.pyplot as plt\n",
    "tsne=TSNE(n_components=2,init='random',random_state=177).fit(iris_data)\n",
    "df=pd.DataFrame(tsne.embedding_)\n",
    "df['labels']=kmeans.labels_\n",
    "#提取不同的标签数据\n",
    "df1=df[df['labels']==0]\n",
    "df2=df[df['labels']==1]\n",
    "df3=df[df['labels']==2]\n",
    "# 绘制图形\n",
    "fig=plt.figure(figsize=(9,6))\n",
    "# 不同颜色表示不同数据\n",
    "plt.plot(df1[0],df1[1],'bo',df2[0],df2[1],'r*',\n",
    "        df3[0],df3[1],'gD')\n",
    "plt.show()"
   ]
  },
  {
   "cell_type": "code",
   "execution_count": 5,
   "metadata": {},
   "outputs": [],
   "source": [
    "# FMI评价K-Means"
   ]
  },
  {
   "cell_type": "code",
   "execution_count": 6,
   "metadata": {},
   "outputs": [
    {
     "name": "stdout",
     "output_type": "stream",
     "text": [
      "FMI数据2评价分值为：0.750473\n",
      "FMI数据3评价分值为：0.820808\n",
      "FMI数据4评价分值为：0.753970\n",
      "FMI数据5评价分值为：0.725483\n",
      "FMI数据6评价分值为：0.614345\n"
     ]
    }
   ],
   "source": [
    "from sklearn.metrics import fowlkes_mallows_score\n",
    "for i in range(2,7):\n",
    "    # 构建训练模型\n",
    "    kmeans=KMeans(n_clusters=i,random_state=123).fit(iris_data)\n",
    "    score=fowlkes_mallows_score(iris_target,kmeans.labels_)\n",
    "    print('FMI数据%d评价分值为：%f'%(i,score))"
   ]
  },
  {
   "cell_type": "code",
   "execution_count": 7,
   "metadata": {},
   "outputs": [
    {
     "data": {
      "image/png": "[encoded data removed]",
      "text/plain": [
       "<Figure size 720x432 with 1 Axes>"
      ]
     },
     "metadata": {
      "needs_background": "light"
     },
     "output_type": "display_data"
    }
   ],
   "source": [
    "from sklearn.metrics import silhouette_score\n",
    "import matplotlib.pyplot as plt\n",
    "silhouettteScore = []\n",
    "for i in range(2,15):\n",
    "    kmeans=KMeans(n_clusters=i,random_state=123).fit(iris_data)\n",
    "    score=silhouette_score(iris_data,kmeans.labels_)\n",
    "    silhouettteScore.append(score)\n",
    "plt.figure(figsize=(10,6))\n",
    "plt.plot(range(2,15),silhouettteScore,linewidth=1.5,\n",
    "         linestyle=\"-\")\n",
    "plt.show()"
   ]
  },
  {
   "cell_type": "markdown",
   "metadata": {},
   "source": [
    "## 使用Calinski-Harabasz评价K-Means\n",
    "指数越高，表示效果最优秀"
   ]
  },
  {
   "cell_type": "code",
   "execution_count": 8,
   "metadata": {},
   "outputs": [
    {
     "name": "stdout",
     "output_type": "stream",
     "text": [
      "iris数据2类calinski_harabaz指数：513.924546\n",
      "iris数据3类calinski_harabaz指数：561.627757\n",
      "iris数据4类calinski_harabaz指数：530.487142\n",
      "iris数据5类calinski_harabaz指数：495.541488\n",
      "iris数据6类calinski_harabaz指数：469.836633\n"
     ]
    },
    {
     "name": "stderr",
     "output_type": "stream",
     "text": [
      "S:\\Anaconda\\lib\\site-packages\\sklearn\\utils\\deprecation.py:85: DeprecationWarning: Function calinski_harabaz_score is deprecated; Function 'calinski_harabaz_score' has been renamed to 'calinski_harabasz_score' and will be removed in version 0.23.\n",
      "  warnings.warn(msg, category=DeprecationWarning)\n",
      "S:\\Anaconda\\lib\\site-packages\\sklearn\\utils\\deprecation.py:85: DeprecationWarning: Function calinski_harabaz_score is deprecated; Function 'calinski_harabaz_score' has been renamed to 'calinski_harabasz_score' and will be removed in version 0.23.\n",
      "  warnings.warn(msg, category=DeprecationWarning)\n",
      "S:\\Anaconda\\lib\\site-packages\\sklearn\\utils\\deprecation.py:85: DeprecationWarning: Function calinski_harabaz_score is deprecated; Function 'calinski_harabaz_score' has been renamed to 'calinski_harabasz_score' and will be removed in version 0.23.\n",
      "  warnings.warn(msg, category=DeprecationWarning)\n",
      "S:\\Anaconda\\lib\\site-packages\\sklearn\\utils\\deprecation.py:85: DeprecationWarning: Function calinski_harabaz_score is deprecated; Function 'calinski_harabaz_score' has been renamed to 'calinski_harabasz_score' and will be removed in version 0.23.\n",
      "  warnings.warn(msg, category=DeprecationWarning)\n",
      "S:\\Anaconda\\lib\\site-packages\\sklearn\\utils\\deprecation.py:85: DeprecationWarning: Function calinski_harabaz_score is deprecated; Function 'calinski_harabaz_score' has been renamed to 'calinski_harabasz_score' and will be removed in version 0.23.\n",
      "  warnings.warn(msg, category=DeprecationWarning)\n"
     ]
    }
   ],
   "source": [
    "from sklearn.metrics import calinski_harabaz_score\n",
    "for i in range(2,7):\n",
    "    kmeans=KMeans(n_clusters=i,random_state=123).fit(iris_data)\n",
    "    score=calinski_harabaz_score(iris_data,kmeans.labels_)\n",
    "    print('iris数据%d类calinski_harabaz指数：%f'%(i,score))"
   ]
  },
  {
   "cell_type": "markdown",
   "metadata": {},
   "source": [
    "## Seeds 构建 K-Means聚类模型"
   ]
  },
  {
   "cell_type": "code",
   "execution_count": 9,
   "metadata": {},
   "outputs": [
    {
     "name": "stdout",
     "output_type": "stream",
     "text": [
      "形状为： (210, 8)\n",
      "构建的模型为 KMeans(algorithm='auto', copy_x=True, init='k-means++', max_iter=300,\n",
      "       n_clusters=3, n_init=10, n_jobs=None, precompute_distances='auto',\n",
      "       random_state=42, tol=0.0001, verbose=0)\n"
     ]
    }
   ],
   "source": [
    "import pandas as pd\n",
    "from sklearn.preprocessing import StandardScaler\n",
    "from sklearn.cluster import KMeans\n",
    "seeds = pd.read_csv('./data2/seeds_dataset.txt',sep='\\t')\n",
    "print('形状为：',seeds.shape)\n",
    "#处理数据\n",
    "seeds_data=seeds.iloc[:,:7].values\n",
    "seeds_target=seeds.iloc[:,7].values\n",
    "sees_names=seeds.columns[:7]\n",
    "stdScale=StandardScaler().fit(seeds_data)\n",
    "seeds_dataScale=stdScale.transform(seeds_data)\n",
    "#构建并训练模型\n",
    "kmeans=KMeans(n_clusters=3,random_state=42).fit(seeds_data)\n",
    "print('构建的模型为',kmeans)"
   ]
  },
  {
   "cell_type": "code",
   "execution_count": 10,
   "metadata": {},
   "outputs": [
    {
     "name": "stderr",
     "output_type": "stream",
     "text": [
      "S:\\Anaconda\\lib\\site-packages\\sklearn\\utils\\deprecation.py:85: DeprecationWarning: Function calinski_harabaz_score is deprecated; Function 'calinski_harabaz_score' has been renamed to 'calinski_harabasz_score' and will be removed in version 0.23.\n",
      "  warnings.warn(msg, category=DeprecationWarning)\n",
      "S:\\Anaconda\\lib\\site-packages\\sklearn\\utils\\deprecation.py:85: DeprecationWarning: Function calinski_harabaz_score is deprecated; Function 'calinski_harabaz_score' has been renamed to 'calinski_harabasz_score' and will be removed in version 0.23.\n",
      "  warnings.warn(msg, category=DeprecationWarning)\n",
      "S:\\Anaconda\\lib\\site-packages\\sklearn\\utils\\deprecation.py:85: DeprecationWarning: Function calinski_harabaz_score is deprecated; Function 'calinski_harabaz_score' has been renamed to 'calinski_harabasz_score' and will be removed in version 0.23.\n",
      "  warnings.warn(msg, category=DeprecationWarning)\n"
     ]
    },
    {
     "name": "stdout",
     "output_type": "stream",
     "text": [
      "seeds数据聚2类calinski_harabaz指数为：351.179992\n",
      "seeds数据聚3类calinski_harabaz指数为：375.804961\n",
      "seeds数据聚4类calinski_harabaz指数为：327.835320\n",
      "seeds数据聚5类calinski_harabaz指数为：310.331840\n",
      "seeds数据聚6类calinski_harabaz指数为：302.473069\n"
     ]
    },
    {
     "name": "stderr",
     "output_type": "stream",
     "text": [
      "S:\\Anaconda\\lib\\site-packages\\sklearn\\utils\\deprecation.py:85: DeprecationWarning: Function calinski_harabaz_score is deprecated; Function 'calinski_harabaz_score' has been renamed to 'calinski_harabasz_score' and will be removed in version 0.23.\n",
      "  warnings.warn(msg, category=DeprecationWarning)\n",
      "S:\\Anaconda\\lib\\site-packages\\sklearn\\utils\\deprecation.py:85: DeprecationWarning: Function calinski_harabaz_score is deprecated; Function 'calinski_harabaz_score' has been renamed to 'calinski_harabasz_score' and will be removed in version 0.23.\n",
      "  warnings.warn(msg, category=DeprecationWarning)\n"
     ]
    }
   ],
   "source": [
    "# 评价:指数越高效果最好\n",
    "from sklearn.metrics import calinski_harabaz_score\n",
    "for i in range(2,7):\n",
    "    kmeans=KMeans(n_clusters=i,random_state=123).fit(seeds_data)\n",
    "    score=calinski_harabaz_score(seeds_data,kmeans.labels_)\n",
    "    print('seeds数据聚%d类calinski_harabaz指数为：%f'%(i,score))"
   ]
  },
  {
   "cell_type": "code",
   "execution_count": 12,
   "metadata": {},
   "outputs": [
    {
     "name": "stdout",
     "output_type": "stream",
     "text": [
      "seeds数据聚2类calinski_harabaz指数为：351.179992\n",
      "seeds数据聚3类calinski_harabaz指数为：375.804961\n",
      "seeds数据聚4类calinski_harabaz指数为：327.835320\n",
      "seeds数据聚5类calinski_harabaz指数为：310.331840\n",
      "seeds数据聚6类calinski_harabaz指数为：302.473069\n"
     ]
    },
    {
     "name": "stderr",
     "output_type": "stream",
     "text": [
      "S:\\Anaconda\\lib\\site-packages\\sklearn\\utils\\deprecation.py:85: DeprecationWarning: Function calinski_harabaz_score is deprecated; Function 'calinski_harabaz_score' has been renamed to 'calinski_harabasz_score' and will be removed in version 0.23.\n",
      "  warnings.warn(msg, category=DeprecationWarning)\n",
      "S:\\Anaconda\\lib\\site-packages\\sklearn\\utils\\deprecation.py:85: DeprecationWarning: Function calinski_harabaz_score is deprecated; Function 'calinski_harabaz_score' has been renamed to 'calinski_harabasz_score' and will be removed in version 0.23.\n",
      "  warnings.warn(msg, category=DeprecationWarning)\n",
      "S:\\Anaconda\\lib\\site-packages\\sklearn\\utils\\deprecation.py:85: DeprecationWarning: Function calinski_harabaz_score is deprecated; Function 'calinski_harabaz_score' has been renamed to 'calinski_harabasz_score' and will be removed in version 0.23.\n",
      "  warnings.warn(msg, category=DeprecationWarning)\n",
      "S:\\Anaconda\\lib\\site-packages\\sklearn\\utils\\deprecation.py:85: DeprecationWarning: Function calinski_harabaz_score is deprecated; Function 'calinski_harabaz_score' has been renamed to 'calinski_harabasz_score' and will be removed in version 0.23.\n",
      "  warnings.warn(msg, category=DeprecationWarning)\n",
      "S:\\Anaconda\\lib\\site-packages\\sklearn\\utils\\deprecation.py:85: DeprecationWarning: Function calinski_harabaz_score is deprecated; Function 'calinski_harabaz_score' has been renamed to 'calinski_harabasz_score' and will be removed in version 0.23.\n",
      "  warnings.warn(msg, category=DeprecationWarning)\n"
     ]
    }
   ],
   "source": [
    "# 评价\n",
    "from sklearn.metrics import calinski_harabaz_score\n",
    "for i in range(2,7):\n",
    "    kmeans=KMeans(n_clusters=i,random_state=123).fit(seeds_data)\n",
    "    score=calinski_harabaz_score(seeds_data,kmeans.labels_)\n",
    "    print('seeds数据聚%d类calinski_harabaz指数为：%f'%(i,score))"
   ]
  },
  {
   "cell_type": "code",
   "execution_count": null,
   "metadata": {},
   "outputs": [],
   "source": []
  },
  {
   "cell_type": "code",
   "execution_count": null,
   "metadata": {},
   "outputs": [],
   "source": []
  }
 ],
 "metadata": {
  "kernelspec": {
   "display_name": "Python 3",
   "language": "python",
   "name": "python3"
  },
  "language_info": {
   "codemirror_mode": {
    "name": "ipython",
    "version": 3
   },
   "file_extension": ".py",
   "mimetype": "text/x-python",
   "name": "python",
   "nbconvert_exporter": "python",
   "pygments_lexer": "ipython3",
   "version": "3.7.4"
  }
 },
 "nbformat": 4,
 "nbformat_minor": 2
}
