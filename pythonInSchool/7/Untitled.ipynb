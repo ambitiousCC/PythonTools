{
 "cells": [
  {
   "cell_type": "markdown",
   "metadata": {},
   "source": [
    "# 航空客户数据"
   ]
  },
  {
   "cell_type": "markdown",
   "metadata": {},
   "source": [
    "## 缺失值与异常处理"
   ]
  },
  {
   "cell_type": "code",
   "execution_count": 3,
   "metadata": {},
   "outputs": [
    {
     "name": "stdout",
     "output_type": "stream",
     "text": [
      "原始形状为： (62988, 44)\n",
      "删除缺失数据后形状为 (62299, 44)\n"
     ]
    }
   ],
   "source": [
    "import numpy as np\n",
    "import pandas as pd\n",
    "airline_data = pd.read_csv(\"./data3/air_data.csv\",\n",
    "                          encoding=\"gb18030\")\n",
    "print('原始形状为：',airline_data.shape)\n",
    "exp1=airline_data[\"SUM_YR_1\"].notnull()\n",
    "exp2=airline_data[\"SUM_YR_2\"].notnull()\n",
    "exp=exp1&exp2\n",
    "airline_notnull=airline_data.loc[exp,:]\n",
    "print(\"删除缺失数据后形状为\",airline_notnull.shape)"
   ]
  },
  {
   "cell_type": "code",
   "execution_count": 6,
   "metadata": {},
   "outputs": [
    {
     "name": "stdout",
     "output_type": "stream",
     "text": [
      "异常记录后的形状为 (62044, 44)\n"
     ]
    }
   ],
   "source": [
    "# 只保留票价非零数据\n",
    "index1=airline_notnull['SUM_YR_1']!=0\n",
    "index2=airline_notnull['SUM_YR_2']!=0\n",
    "index3=(airline_notnull['SEG_KM_SUM']>0) & \\\n",
    "(airline_notnull['avg_discount']!=0)\n",
    "airline=airline_notnull[(index1 | index2)&index3]\n",
    "print('异常记录后的形状为',airline.shape)"
   ]
  },
  {
   "cell_type": "code",
   "execution_count": null,
   "metadata": {},
   "outputs": [],
   "source": []
  }
 ],
 "metadata": {
  "kernelspec": {
   "display_name": "Python 3",
   "language": "python",
   "name": "python3"
  },
  "language_info": {
   "codemirror_mode": {
    "name": "ipython",
    "version": 3
   },
   "file_extension": ".py",
   "mimetype": "text/x-python",
   "name": "python",
   "nbconvert_exporter": "python",
   "pygments_lexer": "ipython3",
   "version": "3.7.4"
  }
 },
 "nbformat": 4,
 "nbformat_minor": 2
}
