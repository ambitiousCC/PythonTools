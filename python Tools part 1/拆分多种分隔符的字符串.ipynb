{
 "cells": [
  {
   "cell_type": "markdown",
   "metadata": {},
   "source": [
    "## 背景\n",
    "多个分隔符"
   ]
  },
  {
   "cell_type": "code",
   "execution_count": 33,
   "metadata": {},
   "outputs": [],
   "source": [
    "s0 = 'cuiqin;cd|ef<liu>mengjie\\likes/each.o|ther,%'\n",
    "s = s0"
   ]
  },
  {
   "cell_type": "markdown",
   "metadata": {},
   "source": [
    "### split\n",
    "单个分隔符提取"
   ]
  },
  {
   "cell_type": "code",
   "execution_count": 34,
   "metadata": {},
   "outputs": [
    {
     "data": {
      "text/plain": [
       "['cuiqin', 'cd|ef<liu>mengjie\\\\likes/each.o|ther,%']"
      ]
     },
     "execution_count": 34,
     "metadata": {},
     "output_type": "execute_result"
    }
   ],
   "source": [
    "s.split(';')"
   ]
  },
  {
   "cell_type": "markdown",
   "metadata": {},
   "source": [
    "### 方法1\n",
    "每次处理一种"
   ]
  },
  {
   "cell_type": "code",
   "execution_count": 52,
   "metadata": {},
   "outputs": [
    {
     "data": {
      "text/plain": [
       "['cuiqin', 'cd|ef<liu>mengjie\\\\likes/each.o|ther,%']"
      ]
     },
     "execution_count": 52,
     "metadata": {},
     "output_type": "execute_result"
    }
   ],
   "source": [
    "res = s.split(';')\n",
    "res"
   ]
  },
  {
   "cell_type": "code",
   "execution_count": 53,
   "metadata": {},
   "outputs": [
    {
     "name": "stdout",
     "output_type": "stream",
     "text": [
      "[['cuiqin'], ['cd', 'ef<liu>mengjie\\\\likes/each.o', 'ther,%']]\n"
     ]
    }
   ],
   "source": [
    "m = map(lambda x:x.split('|'),res)\n",
    "print(list(m))"
   ]
  },
  {
   "cell_type": "code",
   "execution_count": 61,
   "metadata": {},
   "outputs": [],
   "source": [
    "t = []\n",
    "m2 = map(lambda x:t.extend(x.split('|')), res)"
   ]
  },
  {
   "cell_type": "code",
   "execution_count": 62,
   "metadata": {},
   "outputs": [
    {
     "name": "stdout",
     "output_type": "stream",
     "text": [
      "[None, None]\n",
      "['cuiqin', 'cd', 'ef<liu>mengjie\\\\likes/each.o', 'ther,%']\n"
     ]
    }
   ],
   "source": [
    "print(list(m2))\n",
    "print(t)"
   ]
  },
  {
   "cell_type": "markdown",
   "metadata": {},
   "source": [
    "依次类推，一个一个得到所有的"
   ]
  },
  {
   "cell_type": "code",
   "execution_count": 84,
   "metadata": {},
   "outputs": [],
   "source": [
    "def mysplit(s,ds):\n",
    "    res = [s]\n",
    "    \n",
    "    for d in ds:\n",
    "        t = []\n",
    "        list(map(lambda x:t.extend(x.split(d)), res))\n",
    "        res = t\n",
    "        \n",
    "    return [x for x in res if x]"
   ]
  },
  {
   "cell_type": "code",
   "execution_count": 85,
   "metadata": {},
   "outputs": [
    {
     "name": "stdout",
     "output_type": "stream",
     "text": [
      "['cuiqin', 'cd', 'ef<liu>mengjie', 'likes', 'each', 'o', 'ther']\n"
     ]
    }
   ],
   "source": [
    "print(mysplit(s0,';,|/\\%.'))"
   ]
  },
  {
   "cell_type": "markdown",
   "metadata": {},
   "source": [
    "## 正则表达式\n",
    "推荐使用！！！"
   ]
  },
  {
   "cell_type": "code",
   "execution_count": 94,
   "metadata": {},
   "outputs": [],
   "source": [
    "import re\n",
    "newStr = 'cui|qin,233%xixixi/liu\\mengjie'"
   ]
  },
  {
   "cell_type": "code",
   "execution_count": 95,
   "metadata": {},
   "outputs": [
    {
     "data": {
      "text/plain": [
       "['cui', 'qin', '233', 'xixixi', 'liu', 'mengjie']"
      ]
     },
     "execution_count": 95,
     "metadata": {},
     "output_type": "execute_result"
    }
   ],
   "source": [
    "[x for x in re.split(r'[,;\\t|/\\\\%.]+',newStr) if x] # 加号代表有前面的分隔符一个或者多个"
   ]
  }
 ],
 "metadata": {
  "kernelspec": {
   "display_name": "Python 3",
   "language": "python",
   "name": "python3"
  },
  "language_info": {
   "codemirror_mode": {
    "name": "ipython",
    "version": 3
   },
   "file_extension": ".py",
   "mimetype": "text/x-python",
   "name": "python",
   "nbconvert_exporter": "python",
   "pygments_lexer": "ipython3",
   "version": "3.7.1"
  }
 },
 "nbformat": 4,
 "nbformat_minor": 2
}
