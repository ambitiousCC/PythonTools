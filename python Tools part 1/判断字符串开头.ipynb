{
 "cells": [
  {
   "cell_type": "markdown",
   "metadata": {},
   "source": [
    "## 应用\n",
    "给所有.sh和.py文件增加可执行文件"
   ]
  },
  {
   "cell_type": "code",
   "execution_count": 2,
   "metadata": {},
   "outputs": [
    {
     "data": {
      "text/plain": [
       "['.ipynb_checkpoints',\n",
       " 'hamlet.txt',\n",
       " 'history',\n",
       " '判断字符串开头.ipynb',\n",
       " '历史记录.ipynb',\n",
       " '反向迭代.ipynb',\n",
       " '命名规范.ipynb',\n",
       " '多个字典的公共键.ipynb',\n",
       " '字典保持有序.ipynb',\n",
       " '拆分多种分隔符的字符串.ipynb',\n",
       " '数据筛选.ipynb',\n",
       " '文件切片操作.ipynb',\n",
       " '统计序列元素出现频度.ipynb',\n",
       " '迭代器.ipynb',\n",
       " '迭代多个可迭代对象.ipynb']"
      ]
     },
     "execution_count": 2,
     "metadata": {},
     "output_type": "execute_result"
    }
   ],
   "source": [
    "import os,stat\n",
    "os.listdir('.')"
   ]
  },
  {
   "cell_type": "code",
   "execution_count": 3,
   "metadata": {},
   "outputs": [],
   "source": [
    "s = 'g.sh'"
   ]
  },
  {
   "cell_type": "code",
   "execution_count": 5,
   "metadata": {},
   "outputs": [
    {
     "data": {
      "text/plain": [
       "True"
      ]
     },
     "execution_count": 5,
     "metadata": {},
     "output_type": "execute_result"
    }
   ],
   "source": [
    "s.endswith('.sh')"
   ]
  },
  {
   "cell_type": "code",
   "execution_count": 6,
   "metadata": {},
   "outputs": [
    {
     "data": {
      "text/plain": [
       "True"
      ]
     },
     "execution_count": 6,
     "metadata": {},
     "output_type": "execute_result"
    }
   ],
   "source": [
    "s.endswith(('.txt','.sh'))"
   ]
  },
  {
   "cell_type": "code",
   "execution_count": 7,
   "metadata": {},
   "outputs": [
    {
     "data": {
      "text/plain": [
       "['hamlet.txt',\n",
       " '判断字符串开头.ipynb',\n",
       " '历史记录.ipynb',\n",
       " '反向迭代.ipynb',\n",
       " '命名规范.ipynb',\n",
       " '多个字典的公共键.ipynb',\n",
       " '字典保持有序.ipynb',\n",
       " '拆分多种分隔符的字符串.ipynb',\n",
       " '数据筛选.ipynb',\n",
       " '文件切片操作.ipynb',\n",
       " '统计序列元素出现频度.ipynb',\n",
       " '迭代器.ipynb',\n",
       " '迭代多个可迭代对象.ipynb']"
      ]
     },
     "execution_count": 7,
     "metadata": {},
     "output_type": "execute_result"
    }
   ],
   "source": [
    "[name for name in os.listdir('.') if name.endswith(('.ipynb','.txt'))]"
   ]
  },
  {
   "cell_type": "code",
   "execution_count": 11,
   "metadata": {},
   "outputs": [
    {
     "data": {
      "text/plain": [
       "'0o100666'"
      ]
     },
     "execution_count": 11,
     "metadata": {},
     "output_type": "execute_result"
    }
   ],
   "source": [
    "oct(os.stat('hamlet.txt').st_mode)"
   ]
  },
  {
   "cell_type": "code",
   "execution_count": 12,
   "metadata": {},
   "outputs": [
    {
     "data": {
      "text/plain": [
       "64"
      ]
     },
     "execution_count": 12,
     "metadata": {},
     "output_type": "execute_result"
    }
   ],
   "source": [
    "stat.S_IXUSR"
   ]
  },
  {
   "cell_type": "code",
   "execution_count": 14,
   "metadata": {},
   "outputs": [],
   "source": [
    "os.chmod('hamlet.txt',os.stat('hamlet.txt').st_mode | stat.S_IXUSR)"
   ]
  }
 ],
 "metadata": {
  "kernelspec": {
   "display_name": "Python 3",
   "language": "python",
   "name": "python3"
  },
  "language_info": {
   "codemirror_mode": {
    "name": "ipython",
    "version": 3
   },
   "file_extension": ".py",
   "mimetype": "text/x-python",
   "name": "python",
   "nbconvert_exporter": "python",
   "pygments_lexer": "ipython3",
   "version": "3.7.1"
  }
 },
 "nbformat": 4,
 "nbformat_minor": 2
}
