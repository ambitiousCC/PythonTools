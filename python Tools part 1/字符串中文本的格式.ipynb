{
 "cells": [
  {
   "cell_type": "markdown",
   "metadata": {},
   "source": [
    "## 背景\n",
    "'xxxx-xx-xx' => 'xx/xx/xxxx'"
   ]
  },
  {
   "cell_type": "code",
   "execution_count": 18,
   "metadata": {},
   "outputs": [
    {
     "name": "stdout",
     "output_type": "stream",
     "text": [
      "2016-05-23 10:59:27 status half.configured libc-bin:amd64 2.19-0ubuntu6.5\n",
      "2016-05-23 10:59:27 status half.configured libc-bin:amd64 2.19-0ubuntu6.4\n",
      "2016-05-23 10:59:27 status half.configured libc-bin:amd64 2.19-0ubuntu6.3\n",
      "2016-05-23 10:59:27 status half.configured libc-bin:amd64 2.19-0ubuntu6.2\n",
      "2016-05-23 10:59:27 status half.configured libc-bin:amd64 2.19-0ubuntu6.1\n",
      "2016-05-23 10:59:27 status half.configured libc-bin:amd64 2.19-0ubuntu6.0\n",
      "2016-05-23 10:59:27 status half.configured libc-bin:amd64 2.19-0ubuntu5.9\n",
      "2016-05-23 10:59:27 status half.configured libc-bin:amd64 2.19-0ubuntu5.8\n",
      "2016-05-23 10:59:27 status half.configured libc-bin:amd64 2.19-0ubuntu5.7\n",
      "2016-05-23 10:59:27 status half.configured libc-bin:amd64 2.19-0ubuntu5.6\n",
      "2016-05-23 10:59:27 status half.configured libc-bin:amd64 2.19-0ubuntu5.5\n",
      "2016-05-23 10:59:27 status half.configured libc-bin:amd64 2.19-0ubuntu5.4\n",
      "\n"
     ]
    }
   ],
   "source": [
    "log = open('test.log').read()\n",
    "print(log)\n",
    "# log2 = open('hamlet.txt','rb')\n",
    "# log2"
   ]
  },
  {
   "cell_type": "code",
   "execution_count": 15,
   "metadata": {},
   "outputs": [],
   "source": [
    "import re"
   ]
  },
  {
   "cell_type": "markdown",
   "metadata": {},
   "source": [
    "### 正则表达式改变日期格式\n",
    "第一种：按照顺序编组"
   ]
  },
  {
   "cell_type": "code",
   "execution_count": 17,
   "metadata": {},
   "outputs": [
    {
     "name": "stdout",
     "output_type": "stream",
     "text": [
      "05/23/2016 10:59:27 status half.configured libc-bin:amd64 2.19-0ubuntu6.5\n",
      "05/23/2016 10:59:27 status half.configured libc-bin:amd64 2.19-0ubuntu6.4\n",
      "05/23/2016 10:59:27 status half.configured libc-bin:amd64 2.19-0ubuntu6.3\n",
      "05/23/2016 10:59:27 status half.configured libc-bin:amd64 2.19-0ubuntu6.2\n",
      "05/23/2016 10:59:27 status half.configured libc-bin:amd64 2.19-0ubuntu6.1\n",
      "05/23/2016 10:59:27 status half.configured libc-bin:amd64 2.19-0ubuntu6.0\n",
      "05/23/2016 10:59:27 status half.configured libc-bin:amd64 2.19-0ubuntu5.9\n",
      "05/23/2016 10:59:27 status half.configured libc-bin:amd64 2.19-0ubuntu5.8\n",
      "05/23/2016 10:59:27 status half.configured libc-bin:amd64 2.19-0ubuntu5.7\n",
      "05/23/2016 10:59:27 status half.configured libc-bin:amd64 2.19-0ubuntu5.6\n",
      "05/23/2016 10:59:27 status half.configured libc-bin:amd64 2.19-0ubuntu5.5\n",
      "05/23/2016 10:59:27 status half.configured libc-bin:amd64 2.19-0ubuntu5.4\n",
      "\n"
     ]
    }
   ],
   "source": [
    "print(re.sub('(\\d{4})-(\\d{2})-(\\d{2})',r'\\2/\\3/\\1',log))"
   ]
  },
  {
   "cell_type": "markdown",
   "metadata": {},
   "source": [
    "第二种：给每一组设置特定的名字"
   ]
  },
  {
   "cell_type": "code",
   "execution_count": 20,
   "metadata": {},
   "outputs": [
    {
     "name": "stdout",
     "output_type": "stream",
     "text": [
      "05/23/2016 10:59:27 status half.configured libc-bin:amd64 2.19-0ubuntu6.5\n",
      "05/23/2016 10:59:27 status half.configured libc-bin:amd64 2.19-0ubuntu6.4\n",
      "05/23/2016 10:59:27 status half.configured libc-bin:amd64 2.19-0ubuntu6.3\n",
      "05/23/2016 10:59:27 status half.configured libc-bin:amd64 2.19-0ubuntu6.2\n",
      "05/23/2016 10:59:27 status half.configured libc-bin:amd64 2.19-0ubuntu6.1\n",
      "05/23/2016 10:59:27 status half.configured libc-bin:amd64 2.19-0ubuntu6.0\n",
      "05/23/2016 10:59:27 status half.configured libc-bin:amd64 2.19-0ubuntu5.9\n",
      "05/23/2016 10:59:27 status half.configured libc-bin:amd64 2.19-0ubuntu5.8\n",
      "05/23/2016 10:59:27 status half.configured libc-bin:amd64 2.19-0ubuntu5.7\n",
      "05/23/2016 10:59:27 status half.configured libc-bin:amd64 2.19-0ubuntu5.6\n",
      "05/23/2016 10:59:27 status half.configured libc-bin:amd64 2.19-0ubuntu5.5\n",
      "05/23/2016 10:59:27 status half.configured libc-bin:amd64 2.19-0ubuntu5.4\n",
      "\n"
     ]
    }
   ],
   "source": [
    "print(re.sub('(?P<year>\\d{4})-(?P<month>\\d{2})-(?P<day>\\d{2})',r'\\g<month>/\\g<day>/\\g<year>',log))"
   ]
  },
  {
   "cell_type": "code",
   "execution_count": null,
   "metadata": {},
   "outputs": [],
   "source": []
  }
 ],
 "metadata": {
  "kernelspec": {
   "display_name": "Python 3",
   "language": "python",
   "name": "python3"
  },
  "language_info": {
   "codemirror_mode": {
    "name": "ipython",
    "version": 3
   },
   "file_extension": ".py",
   "mimetype": "text/x-python",
   "name": "python",
   "nbconvert_exporter": "python",
   "pygments_lexer": "ipython3",
   "version": "3.7.1"
  }
 },
 "nbformat": 4,
 "nbformat_minor": 2
}
