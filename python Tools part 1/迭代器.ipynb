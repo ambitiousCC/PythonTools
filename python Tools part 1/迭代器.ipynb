{
 "cells": [
  {
   "cell_type": "code",
   "execution_count": 1,
   "metadata": {},
   "outputs": [
    {
     "name": "stdout",
     "output_type": "stream",
     "text": [
      "1\n",
      "2\n",
      "3\n",
      "4\n",
      "a\n",
      "b\n",
      "c\n",
      "d\n"
     ]
    }
   ],
   "source": [
    "l = [1,2,3,4]\n",
    "s = 'abcd'\n",
    "for i in l:\n",
    "    print(i)\n",
    "for j in s:\n",
    "    print(j)"
   ]
  },
  {
   "cell_type": "markdown",
   "metadata": {},
   "source": [
    "## iter\n",
    "列表和字符串都是可迭代对象"
   ]
  },
  {
   "cell_type": "code",
   "execution_count": 6,
   "metadata": {},
   "outputs": [
    {
     "data": {
      "text/plain": [
       "1"
      ]
     },
     "execution_count": 6,
     "metadata": {},
     "output_type": "execute_result"
    }
   ],
   "source": [
    "t = iter(l)\n",
    "t.__next__()"
   ]
  },
  {
   "cell_type": "code",
   "execution_count": 7,
   "metadata": {},
   "outputs": [
    {
     "data": {
      "text/plain": [
       "2"
      ]
     },
     "execution_count": 7,
     "metadata": {},
     "output_type": "execute_result"
    }
   ],
   "source": [
    "t.__next__()"
   ]
  },
  {
   "cell_type": "markdown",
   "metadata": {},
   "source": [
    "整个列表迭代完成以后会报错"
   ]
  },
  {
   "cell_type": "code",
   "execution_count": 9,
   "metadata": {},
   "outputs": [
    {
     "name": "stdout",
     "output_type": "stream",
     "text": [
      "1\n",
      "2\n",
      "3\n",
      "4\n"
     ]
    }
   ],
   "source": [
    "for x in l: print(x)"
   ]
  },
  {
   "cell_type": "code",
   "execution_count": 15,
   "metadata": {},
   "outputs": [],
   "source": [
    "from collections import Iterable, Iterator"
   ]
  },
  {
   "cell_type": "code",
   "execution_count": 16,
   "metadata": {},
   "outputs": [
    {
     "data": {
      "text/plain": [
       "frozenset({'__iter__'})"
      ]
     },
     "execution_count": 16,
     "metadata": {},
     "output_type": "execute_result"
    }
   ],
   "source": [
    "Iterable.__abstractmethods__"
   ]
  },
  {
   "cell_type": "code",
   "execution_count": 17,
   "metadata": {},
   "outputs": [
    {
     "data": {
      "text/plain": [
       "frozenset({'__next__'})"
      ]
     },
     "execution_count": 17,
     "metadata": {},
     "output_type": "execute_result"
    }
   ],
   "source": [
    "Iterator.__abstractmethods__"
   ]
  },
  {
   "cell_type": "markdown",
   "metadata": {},
   "source": [
    "## 具体实例\n",
    "抓取各地的气温状况"
   ]
  },
  {
   "cell_type": "code",
   "execution_count": 54,
   "metadata": {},
   "outputs": [],
   "source": [
    "import requests\n",
    "from collections import Iterable, Iterator\n",
    "class WeatherIterator(Iterator):\n",
    "    def __init__(self,cities):\n",
    "        self.cities = cities\n",
    "        self.index = 0\n",
    "        \n",
    "    def getWeather(self,city):\n",
    "        r = requests.get(u'http://wthrcdn.etouch.cn/weather_mini?city=' + city)\n",
    "        data = r.json()['data']['forecast'][0]\n",
    "        return '%s:%s, %s' % (city, data['low'], data['high'])\n",
    "    \n",
    "    def __next__(self):\n",
    "        if self.index == len(self.cities):\n",
    "            raise StopIteration\n",
    "        city = self.cities[self.index]\n",
    "        self.index += 1\n",
    "        return self.getWeather(city)\n",
    "\n",
    "class WeatherIterable(Iterable):\n",
    "    def __init__(self, cities):\n",
    "        self.cities = cities\n",
    "    def __iter__(self):\n",
    "        return WeatherIterator(self.cities)"
   ]
  },
  {
   "cell_type": "code",
   "execution_count": 56,
   "metadata": {},
   "outputs": [
    {
     "name": "stdout",
     "output_type": "stream",
     "text": [
      "北京:低温 -8℃, 高温 2℃\n",
      "上海:低温 5℃, 高温 9℃\n",
      "广州:低温 13℃, 高温 21℃\n",
      "长春:低温 -20℃, 高温 -12℃\n",
      "濮阳:低温 -6℃, 高温 2℃\n",
      "长沙:低温 6℃, 高温 11℃\n",
      "常德:低温 5℃, 高温 10℃\n",
      "开封:低温 -3℃, 高温 4℃\n",
      "郑州:低温 -3℃, 高温 5℃\n"
     ]
    }
   ],
   "source": [
    "for x in WeatherIterable([u'北京',u'上海',u'广州',u'长春',u'濮阳',u'长沙',u'常德',u'开封','郑州']):\n",
    "    print(x)"
   ]
  }
 ],
 "metadata": {
  "kernelspec": {
   "display_name": "Python 3",
   "language": "python",
   "name": "python3"
  },
  "language_info": {
   "codemirror_mode": {
    "name": "ipython",
    "version": 3
   },
   "file_extension": ".py",
   "mimetype": "text/x-python",
   "name": "python",
   "nbconvert_exporter": "python",
   "pygments_lexer": "ipython3",
   "version": "3.7.1"
  }
 },
 "nbformat": 4,
 "nbformat_minor": 2
}
