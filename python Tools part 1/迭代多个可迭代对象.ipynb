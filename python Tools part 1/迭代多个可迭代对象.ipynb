{
 "cells": [
  {
   "cell_type": "markdown",
   "metadata": {},
   "source": [
    "## 场景1\n",
    "三科分别存储在是哪个列表中，并行计算每个学生的总分"
   ]
  },
  {
   "cell_type": "code",
   "execution_count": 2,
   "metadata": {},
   "outputs": [],
   "source": [
    "from random import randint"
   ]
  },
  {
   "cell_type": "code",
   "execution_count": 7,
   "metadata": {},
   "outputs": [],
   "source": [
    "math = [randint(60,100) for _ in range(40)]\n",
    "english = [randint(60,100) for _ in range(40)]\n",
    "chinese = [randint(60,100) for _ in range(40)]"
   ]
  },
  {
   "cell_type": "markdown",
   "metadata": {},
   "source": [
    "### zip\n",
    "可以实现多个列表或元祖的值的对应累加"
   ]
  },
  {
   "cell_type": "code",
   "execution_count": 8,
   "metadata": {},
   "outputs": [
    {
     "name": "stdout",
     "output_type": "stream",
     "text": [
      "<zip object at 0x000002D2E92C1BC8>\n",
      "<zip object at 0x000002D2E92C1BC8>\n",
      "<zip object at 0x000002D2E92C1BC8>\n",
      "<zip object at 0x000002D2E92C1BC8>\n"
     ]
    }
   ],
   "source": [
    "z = zip([1,2,3,4],('a','b','c','d'))\n",
    "for i in z:\n",
    "    print(z)"
   ]
  },
  {
   "cell_type": "code",
   "execution_count": 9,
   "metadata": {},
   "outputs": [],
   "source": [
    "total = []\n",
    "for c,m,e in zip(chinese,math,english):\n",
    "    total.append(c+m+e)"
   ]
  },
  {
   "cell_type": "code",
   "execution_count": 10,
   "metadata": {},
   "outputs": [
    {
     "name": "stdout",
     "output_type": "stream",
     "text": [
      "[245, 242, 258, 264, 251, 243, 252, 229, 232, 256, 248, 233, 215, 262, 244, 241, 286, 237, 251, 242, 214, 234, 217, 210, 280, 244, 204, 253, 248, 206, 255, 201, 237, 233, 233, 238, 206, 235, 212, 224]\n"
     ]
    }
   ],
   "source": [
    "print(total)"
   ]
  },
  {
   "cell_type": "markdown",
   "metadata": {},
   "source": [
    "## 场景2\n",
    "串行迭代\n",
    "一个学年的一个年级的各个班的某成绩的前多少人"
   ]
  },
  {
   "cell_type": "code",
   "execution_count": 11,
   "metadata": {},
   "outputs": [],
   "source": [
    "from itertools import chain"
   ]
  },
  {
   "cell_type": "code",
   "execution_count": 12,
   "metadata": {},
   "outputs": [
    {
     "name": "stdout",
     "output_type": "stream",
     "text": [
      "1\n",
      "2\n",
      "3\n",
      "4\n",
      "a\n",
      "b\n",
      "c\n"
     ]
    }
   ],
   "source": [
    "for x in chain([1,2,3,4],['a','b','c']):\n",
    "    print(x)"
   ]
  },
  {
   "cell_type": "code",
   "execution_count": 13,
   "metadata": {},
   "outputs": [],
   "source": [
    "e1 = [randint(60,100) for _ in range(42)]\n",
    "e3 = [randint(60,100) for _ in range(42)]\n",
    "e2 = [randint(60,100) for _ in range(42)]\n",
    "e4 = [randint(60,100) for _ in range(42)]"
   ]
  },
  {
   "cell_type": "code",
   "execution_count": 14,
   "metadata": {},
   "outputs": [],
   "source": [
    "count = 0"
   ]
  },
  {
   "cell_type": "code",
   "execution_count": 15,
   "metadata": {},
   "outputs": [
    {
     "name": "stdout",
     "output_type": "stream",
     "text": [
      "44\n"
     ]
    }
   ],
   "source": [
    "for s in chain(e1,e2,e3,e4):\n",
    "    if s>90:\n",
    "        count += 1\n",
    "print(count)"
   ]
  },
  {
   "cell_type": "markdown",
   "metadata": {},
   "source": [
    "### chain\n",
    "可以实现多个列表的串行累加"
   ]
  }
 ],
 "metadata": {
  "kernelspec": {
   "display_name": "Python 3",
   "language": "python",
   "name": "python3"
  },
  "language_info": {
   "codemirror_mode": {
    "name": "ipython",
    "version": 3
   },
   "file_extension": ".py",
   "mimetype": "text/x-python",
   "name": "python",
   "nbconvert_exporter": "python",
   "pygments_lexer": "ipython3",
   "version": "3.7.1"
  }
 },
 "nbformat": 4,
 "nbformat_minor": 2
}
