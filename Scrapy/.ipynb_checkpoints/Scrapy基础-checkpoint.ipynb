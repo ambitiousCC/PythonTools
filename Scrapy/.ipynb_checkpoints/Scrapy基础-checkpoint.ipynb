{
 "cells": [
  {
   "cell_type": "markdown",
   "metadata": {},
   "source": [
    "# Scrapy"
   ]
  },
  {
   "cell_type": "markdown",
   "metadata": {},
   "source": [
    "## 模块安装\n",
    "* 升级pip\n",
    "* 网络安装wheel\n",
    "* 下载安装lxml和Twisted\n",
    "* `pip install scrapy`\n",
    "* 下载安装pywin32\n",
    "    * 系统权限问题，会使.dll文件没有复制到windows->System32目录下\n",
    "    * 下载后找到两个.dll文件以后手动解决"
   ]
  },
  {
   "cell_type": "markdown",
   "metadata": {},
   "source": [
    "## 常见指令\n",
    "* 创建项目`scrapy startproject project_name*`\n",
    "* 查看爬虫模板 `scrapy genspider -l` \n",
    "    * basic (main)\n",
    "    * crawl\n",
    "    * csvfeed\n",
    "    * xmlfeed\n",
    "* 使用爬虫模板 `scrapy genspider -t basic file_name* baidu.com`\n",
    "* 查看可用爬虫文件 `scrapy list`\n",
    "* 运行 `scrapy crawl project_name*`"
   ]
  },
  {
   "cell_type": "markdown",
   "metadata": {},
   "source": [
    "## 项目目录\n",
    "* project_name*\n",
    "    * project_name*\n",
    "        * _pycache_\n",
    "        * spiders (存放爬虫文件)\n",
    "            * _pycache_\n",
    "            * _init.py_ \n",
    "        * _init.py_ (初始化文件)\n",
    "        * items.py (爬取内容)\n",
    "        * middlewares.py (中间介文件)\n",
    "        * pipelines.py (处理爬取以后的信息)\n",
    "        * settings.py (配置)\n",
    "    * scrapy.cfg\n",
    "\n",
    "注：后面有*为自定义文件名，后面有**为可选选项"
   ]
  },
  {
   "cell_type": "markdown",
   "metadata": {},
   "source": [
    "## 项目编写流程\n",
    "* 创建爬虫项目\n",
    "* 编写items\n",
    "* 创建爬虫文件\n",
    "* 编写爬虫文件\n",
    "* 编写pipelines\n",
    "* 配置settings"
   ]
  },
  {
   "cell_type": "markdown",
   "metadata": {},
   "source": [
    "## 存数据库实战\n",
    "* `pip install pymysql`\n",
    "    * 配置字符编码集\n",
    "* 分析url\n",
    "    * http://category.dangdang.com/pg1-cp01.54.06.00.00.00.html\n",
    "    * http://category.dangdang.com/pg2-cp01.54.06.00.00.00.html\n",
    "* 分析标签内容\n",
    "    * 标题+标签：`<a title=\" Python编程 从入门到实践 【图灵程序设计丛书】Python3.5编程入门图书 机器学习 数据处理 网络爬虫热门编程语言 从基本概念到完整项目开发 帮助零基础读者迅速掌握Python编程 附赠源代码文件\" href=\"http://product.dangdang.com/24003310.html\" ddclick=\"act=normalResult_title&pos=24003310_0_1_p\" name=\"itemlist-title\" dd_name=\"单品标题\" target=\"_blank\" > Python编程 从入门到实践 【图灵程序设计丛书】Python3.5编程入门图书 机器学习 数据处理 网络爬虫热门编程语言 从基本概念到完整项目开发 帮助零基础读者迅速掌握Python编程 附赠源代码文件</a>`\n",
    "    * 评论数：`<a href=\"http://product.dangdang.com/24003310.html?point=comment_point\" target=\"_blank\" name=\"itemlist-review\" dd_name=\"单品评论\" class=\"search_comment_num\" ddclick=\"act=click_review_count&pos=24003310_0_1_p\">123844条评论</a>`"
   ]
  },
  {
   "cell_type": "code",
   "execution_count": null,
   "metadata": {},
   "outputs": [],
   "source": []
  }
 ],
 "metadata": {
  "kernelspec": {
   "display_name": "Python 3",
   "language": "python",
   "name": "python3"
  },
  "language_info": {
   "codemirror_mode": {
    "name": "ipython",
    "version": 3
   },
   "file_extension": ".py",
   "mimetype": "text/x-python",
   "name": "python",
   "nbconvert_exporter": "python",
   "pygments_lexer": "ipython3",
   "version": "3.7.6"
  }
 },
 "nbformat": 4,
 "nbformat_minor": 2
}
