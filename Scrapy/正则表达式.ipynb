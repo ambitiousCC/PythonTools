{
 "cells": [
  {
   "cell_type": "markdown",
   "metadata": {},
   "source": [
    "# 正则表达式"
   ]
  },
  {
   "cell_type": "markdown",
   "metadata": {},
   "source": [
    "## 检查字符串\n",
    "* 检查电话号码\n",
    "* 检查邮件"
   ]
  },
  {
   "cell_type": "markdown",
   "metadata": {},
   "source": [
    "### 内置函数实例"
   ]
  },
  {
   "cell_type": "code",
   "execution_count": 17,
   "metadata": {},
   "outputs": [
    {
     "name": "stdout",
     "output_type": "stream",
     "text": [
      "True\n"
     ]
    }
   ],
   "source": [
    "a = 'C|Python|Java|PHP|Javascript'\n",
    "print(a.index('Python')>-1)"
   ]
  },
  {
   "cell_type": "code",
   "execution_count": 18,
   "metadata": {},
   "outputs": [
    {
     "name": "stdout",
     "output_type": "stream",
     "text": [
      "True\n"
     ]
    }
   ],
   "source": [
    "print('Python' in a)"
   ]
  },
  {
   "cell_type": "markdown",
   "metadata": {},
   "source": [
    "### 正则表达式实例"
   ]
  },
  {
   "cell_type": "code",
   "execution_count": 19,
   "metadata": {},
   "outputs": [],
   "source": [
    "import re"
   ]
  },
  {
   "cell_type": "code",
   "execution_count": 21,
   "metadata": {},
   "outputs": [
    {
     "name": "stdout",
     "output_type": "stream",
     "text": [
      "字符串包含Python\n",
      "['Python']\n"
     ]
    }
   ],
   "source": [
    "r = re.findall('Python',a)\n",
    "if len(r) != 0:\n",
    "    print('字符串包含Python')\n",
    "else:\n",
    "    print(None)\n",
    "print(r)"
   ]
  },
  {
   "cell_type": "markdown",
   "metadata": {},
   "source": [
    "规则，有意义的正则表达式\n",
    "* \\d 0~9"
   ]
  },
  {
   "cell_type": "code",
   "execution_count": 22,
   "metadata": {},
   "outputs": [
    {
     "name": "stdout",
     "output_type": "stream",
     "text": [
      "[]\n"
     ]
    }
   ],
   "source": [
    "r = re.findall('\\d',a)\n",
    "print(r)"
   ]
  },
  {
   "cell_type": "markdown",
   "metadata": {},
   "source": [
    "* 抽象字符集 \n",
    "* 使用 [] 来匹配多个不同字母\n",
    "* 使用 ^ 来否定匹配字符\n",
    "* 使用 - 来概括顺序字符，比如字母表和顺序数字"
   ]
  },
  {
   "cell_type": "code",
   "execution_count": 4,
   "metadata": {},
   "outputs": [
    {
     "name": "stdout",
     "output_type": "stream",
     "text": [
      "['afc', 'acc']\n",
      "-----\n",
      "['abc']\n"
     ]
    }
   ],
   "source": [
    "import re\n",
    "s = 'abc,abd,afc,acc'\n",
    "\n",
    "r = re.findall('a[cf]c',s)\n",
    "print(r)\n",
    "print('-----')\n",
    "r2 = re.findall('a[^cf]c',s)\n",
    "print(r2)"
   ]
  },
  {
   "cell_type": "code",
   "execution_count": null,
   "metadata": {},
   "outputs": [],
   "source": [
    "概括字符集\n",
    "* 字母，数字\\d，单词字符A-Z,a-z,0-9,_是\\w，\\n和空格是\\s\n",
    "* 匹配除了换行符\\n之外的所有字符 ."
   ]
  },
  {
   "cell_type": "code",
   "execution_count": 11,
   "metadata": {},
   "outputs": [
    {
     "name": "stdout",
     "output_type": "stream",
     "text": [
      "['p', 'y', 't', 'h', 'o', 'n', ' ', '\\n', 'j', 'a', 'v', 'a', '&', 'r', 'p']\n"
     ]
    }
   ],
   "source": [
    "import re\n",
    "a = 'python 11\\njava&222rp'\n",
    "\n",
    "r  = re.findall('\\D',a)\n",
    "print(r)"
   ]
  },
  {
   "cell_type": "markdown",
   "metadata": {},
   "source": [
    "数量词\n",
    "* 指明特定字符的数量可以搞定指定范围方式 {n,m} 贪婪性-->满足后会继续匹配\n",
    "* 非贪婪模式 ?\n",
    "    * \\*?\n",
    "    * +?"
   ]
  },
  {
   "cell_type": "code",
   "execution_count": 16,
   "metadata": {},
   "outputs": [
    {
     "name": "stdout",
     "output_type": "stream",
     "text": [
      "['python', 'java', 'php']\n",
      "----非贪婪模式------\n",
      "['pyt', 'hon', 'jav', 'php']\n"
     ]
    }
   ],
   "source": [
    "import re\n",
    "a = 'python 1111java&132php'\n",
    "\n",
    "r = re.findall('[a-z]{3,6}',a)\n",
    "print(r)\n",
    "print('----非贪婪模式------')\n",
    "r2 = re.findall('[a-z]{3,6}?',a)\n",
    "print(r2)"
   ]
  },
  {
   "cell_type": "code",
   "execution_count": null,
   "metadata": {},
   "outputs": [],
   "source": [
    "匹配0次或无数多次 *\n",
    "匹配1次或者无限次 +\n",
    "匹配0次或者1次 ? 重复的依旧会匹配"
   ]
  },
  {
   "cell_type": "code",
   "execution_count": 19,
   "metadata": {},
   "outputs": [
    {
     "name": "stdout",
     "output_type": "stream",
     "text": [
      "['pytho', 'python', 'pythonn']\n",
      "------\n",
      "['python', 'pythonn']\n",
      "-----\n",
      "['pytho', 'python', 'python']\n",
      "选择贪婪模式\n",
      "['python', 'pythonn']\n",
      "选择非贪婪模式\n",
      "['python', 'python']\n"
     ]
    }
   ],
   "source": [
    "import re\n",
    "a = 'pytho9python1pythonn2'\n",
    "\n",
    "r = re.findall('python*',a)\n",
    "print(r)\n",
    "print('------')\n",
    "r = re.findall('python+',a)\n",
    "print(r)\n",
    "print('-----')\n",
    "r = re.findall('python?',a)\n",
    "print(r)\n",
    "print('选择贪婪模式')\n",
    "r = re.findall('python{1,2}',a)\n",
    "print(r)\n",
    "print('选择非贪婪模式')\n",
    "r = re.findall('python{1,2}?',a)\n",
    "print(r)"
   ]
  },
  {
   "cell_type": "code",
   "execution_count": null,
   "metadata": {},
   "outputs": [],
   "source": [
    "边界匹配\n",
    "* 开头 ^\n",
    "* 结尾 &"
   ]
  },
  {
   "cell_type": "code",
   "execution_count": 23,
   "metadata": {},
   "outputs": [
    {
     "name": "stdout",
     "output_type": "stream",
     "text": [
      "['1297571059']\n"
     ]
    }
   ],
   "source": [
    "import re\n",
    "qq = '1297571059'\n",
    "\n",
    "r = re.findall('^\\d{4,10}&',qq) # 实际能匹配多一位\n",
    "print(r)"
   ]
  },
  {
   "cell_type": "markdown",
   "metadata": {},
   "source": [
    "情景\n",
    "* 判断重复字符串出现次数，使用 () 分组\n",
    "* 或关系 [] 且关系 () "
   ]
  },
  {
   "cell_type": "code",
   "execution_count": 28,
   "metadata": {},
   "outputs": [
    {
     "name": "stdout",
     "output_type": "stream",
     "text": [
      "[('Python', 'Js')]\n"
     ]
    }
   ],
   "source": [
    "import re\n",
    "a = 'PythonPythonPythonPythonJs'\n",
    "r = re.findall('(Python){3}(Js){1}',a)\n",
    "print(r)"
   ]
  },
  {
   "cell_type": "markdown",
   "metadata": {},
   "source": [
    "匹配模式\n",
    "* 忽略字母大小写，匹配模式 re.I(忽略大小写)、re.S(允许多行匹配)\n",
    "* 多个模式之间使用 | 分割\n",
    "* 原来的 . 也能匹配换行符\\n "
   ]
  },
  {
   "cell_type": "code",
   "execution_count": 31,
   "metadata": {},
   "outputs": [
    {
     "name": "stdout",
     "output_type": "stream",
     "text": [
      "['C#\\n']\n"
     ]
    }
   ],
   "source": [
    "import re\n",
    "language = 'PythonC#\\nJavaPHP'\n",
    "\n",
    "r = re.findall('c#.{1}',language,re.I | re.S)\n",
    "print(r)"
   ]
  },
  {
   "cell_type": "code",
   "execution_count": null,
   "metadata": {},
   "outputs": [],
   "source": [
    "re模块下的其他函数\n",
    "字符串的替换 re.sub 传入的第二个参数可以是函数\n",
    ".replace() 注意字符串是不可变的，只能生成新的字符串"
   ]
  },
  {
   "cell_type": "code",
   "execution_count": 38,
   "metadata": {},
   "outputs": [
    {
     "name": "stdout",
     "output_type": "stream",
     "text": [
      "PythonGoJavaGoPHPGo\n",
      "PythonGOJavaGOPHPGO\n",
      "Python!!C#!!Java!!C#!!PHP!!C#!!\n"
     ]
    }
   ],
   "source": [
    "import re\n",
    "language = 'PythonC#JavaC#PHPC#'\n",
    "\n",
    "def convert(value):\n",
    "    matched = value.group()\n",
    "    return '!!' + matched + '!!'\n",
    "\n",
    "r = re.sub('C#','Go',language,0) # 数字0 代表了提哈UN将无限的处理\n",
    "print(r)\n",
    "newStr = language.replace('C#','GO')\n",
    "print(newStr)\n",
    "r = re.sub('C#',convert,language) # 传入函数\n",
    "print(r)"
   ]
  },
  {
   "cell_type": "markdown",
   "metadata": {},
   "source": [
    "情景：\n",
    "* 匹配所有数字，并且所有大于6都替换成9,否则替换成0"
   ]
  },
  {
   "cell_type": "code",
   "execution_count": 40,
   "metadata": {},
   "outputs": [
    {
     "name": "stdout",
     "output_type": "stream",
     "text": [
      "ABC09000D99\n"
     ]
    }
   ],
   "source": [
    "import re\n",
    "s = 'ABC37210D86'\n",
    "\n",
    "def convert(value):\n",
    "    matched = value.group()\n",
    "    if int(matched) >= 6:\n",
    "        return str(9)\n",
    "    else:\n",
    "        return str(0)\n",
    "\n",
    "r = re.sub('\\d',convert,s)\n",
    "print(r)"
   ]
  },
  {
   "cell_type": "markdown",
   "metadata": {},
   "source": [
    "* 从头开始匹配，如果没有就返回None re.match\n",
    "* 返回范围，没有会报错 .span()\n",
    "* 搜索所有，直到第一个满足 re.search\n",
    "* 返回值 .group()"
   ]
  },
  {
   "cell_type": "code",
   "execution_count": 53,
   "metadata": {},
   "outputs": [
    {
     "name": "stdout",
     "output_type": "stream",
     "text": [
      "(0, 1)\n",
      "2\n",
      "['2', '1', '3', '2', '1', '3', '4']\n"
     ]
    }
   ],
   "source": [
    "import re\n",
    "s = '213SDF2134'\n",
    "\n",
    "r = re.match('\\d',s)\n",
    "print(r.span())\n",
    "r1 = re.search('\\d',s)\n",
    "print(r1.group())\n",
    "# 打印所有匹配结果\n",
    "r2 = re.findall('\\d',s)\n",
    "print(r2)"
   ]
  },
  {
   "cell_type": "code",
   "execution_count": 63,
   "metadata": {},
   "outputs": [
    {
     "name": "stdout",
     "output_type": "stream",
     "text": [
      "life is short, i use python, i love python\n",
      " is short, i use \n",
      ", i love \n",
      "[' is short, i use python, i love ']\n"
     ]
    }
   ],
   "source": [
    "import re\n",
    "s = 'life is short, i use python, i love python'\n",
    "r = re.search('life(.*)python(.*)python',s)\n",
    "print(r.group(0))\n",
    "print(r.group(1)) # 默认取值为 0 ,意味着完整匹配；1 为中间组的获取\n",
    "print(r.group(2))\n",
    "# 很明显这个更好，减少了参数的传入\n",
    "r = re.findall('life(.*)python',s) \n",
    "print(r)"
   ]
  },
  {
   "cell_type": "markdown",
   "metadata": {},
   "source": [
    "[常见的轮子](https://www.cnblogs.com/fozero/p/7868687.html)"
   ]
  },
  {
   "cell_type": "markdown",
   "metadata": {},
   "source": [
    "## 继续添加"
   ]
  },
  {
   "cell_type": "code",
   "execution_count": 11,
   "metadata": {},
   "outputs": [
    {
     "name": "stdout",
     "output_type": "stream",
     "text": [
      "[]   ['阿里云的大学生\\npython']\n"
     ]
    }
   ],
   "source": [
    "import re\n",
    "str = \"我是阿里云的大学生\\npython\"\n",
    "pat = \"阿里.*?python\"\n",
    "r = re.compile(pat).findall(str)\n",
    "R = re.compile(pat,re.S).findall(str)\n",
    "print(r,\" \",R)"
   ]
  }
 ],
 "metadata": {
  "kernelspec": {
   "display_name": "Python 3",
   "language": "python",
   "name": "python3"
  },
  "language_info": {
   "codemirror_mode": {
    "name": "ipython",
    "version": 3
   },
   "file_extension": ".py",
   "mimetype": "text/x-python",
   "name": "python",
   "nbconvert_exporter": "python",
   "pygments_lexer": "ipython3",
   "version": "3.7.3"
  }
 },
 "nbformat": 4,
 "nbformat_minor": 2
}
