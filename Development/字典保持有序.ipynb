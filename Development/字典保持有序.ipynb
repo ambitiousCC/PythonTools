{
 "cells": [
  {
   "cell_type": "code",
   "execution_count": 1,
   "metadata": {},
   "outputs": [],
   "source": [
    "d = {}"
   ]
  },
  {
   "cell_type": "code",
   "execution_count": 6,
   "metadata": {},
   "outputs": [
    {
     "name": "stdout",
     "output_type": "stream",
     "text": [
      "Cui Qin\n",
      "Derek Qin\n",
      "Mengjie Liu\n"
     ]
    }
   ],
   "source": [
    "d['Cui Qin'] = (1, 4)\n",
    "d['Mengjie Liu'] = (3, 6)\n",
    "d['Derek Qin'] = (2, 5)\n",
    "for k in d: print(k) # 输出明显是按照排序以后输出遍历"
   ]
  },
  {
   "cell_type": "code",
   "execution_count": 7,
   "metadata": {},
   "outputs": [],
   "source": [
    "from collections import OrderedDict"
   ]
  },
  {
   "cell_type": "code",
   "execution_count": 9,
   "metadata": {},
   "outputs": [
    {
     "name": "stdout",
     "output_type": "stream",
     "text": [
      "Cui Qin\n",
      "Mengjie Liu\n",
      "Derek Qin\n"
     ]
    }
   ],
   "source": [
    "d = OrderedDict()\n",
    "d['Cui Qin'] = (1, 4)\n",
    "d['Mengjie Liu'] = (3, 6)\n",
    "d['Derek Qin'] = (2, 5)\n",
    "for k in d: print(k) # 按照进入字典的顺序迭代"
   ]
  },
  {
   "cell_type": "markdown",
   "metadata": {},
   "source": [
    "## 实际应用"
   ]
  },
  {
   "cell_type": "code",
   "execution_count": 13,
   "metadata": {},
   "outputs": [],
   "source": [
    "import os\n",
    "from time import time\n",
    "from random import randint\n",
    "from collections import OrderedDict"
   ]
  },
  {
   "cell_type": "code",
   "execution_count": 16,
   "metadata": {},
   "outputs": [
    {
     "name": "stdout",
     "output_type": "stream",
     "text": [
      "\n",
      "1 f 1.809290885925293\n",
      "\n",
      "2 b 2.683539390563965\n",
      "\n",
      "3 g 3.2645938396453857\n",
      "\n",
      "4 d 3.8972299098968506\n",
      "\n",
      "5 a 4.565845489501953\n",
      "\n",
      "6 c 5.512389898300171\n",
      "\n",
      "7 e 5.706278324127197\n",
      "\n",
      "8 h 5.95313572883606\n",
      "\n",
      "--------------------\n",
      "f (1, 1.809290885925293)\n",
      "b (2, 2.683539390563965)\n",
      "g (3, 3.2645938396453857)\n",
      "d (4, 3.8972299098968506)\n",
      "a (5, 4.565845489501953)\n",
      "c (6, 5.512389898300171)\n",
      "e (7, 5.706278324127197)\n",
      "h (8, 5.95313572883606)\n"
     ]
    }
   ],
   "source": [
    "d = OrderedDict()\n",
    "players = list('abcdefgh')\n",
    "start = time()\n",
    "\n",
    "for i in range(8):\n",
    "    input() # 阻塞函数实现模拟\n",
    "    p = players.pop(randint(0, 7 - i)) # 随机选一个选手答题完毕\n",
    "    end = time()\n",
    "    print(i+1,p,end - start)\n",
    "    d[p] = (i+1, end - start)\n",
    "# 比赛结束，遍历\n",
    "print()\n",
    "print('-'*20)\n",
    "for k in d:\n",
    "    print(k,d[k])"
   ]
  },
  {
   "cell_type": "code",
   "execution_count": null,
   "metadata": {},
   "outputs": [],
   "source": []
  }
 ],
 "metadata": {
  "kernelspec": {
   "display_name": "Python 3",
   "language": "python",
   "name": "python3"
  },
  "language_info": {
   "codemirror_mode": {
    "name": "ipython",
    "version": 3
   },
   "file_extension": ".py",
   "mimetype": "text/x-python",
   "name": "python",
   "nbconvert_exporter": "python",
   "pygments_lexer": "ipython3",
   "version": "3.7.1"
  }
 },
 "nbformat": 4,
 "nbformat_minor": 2
}
