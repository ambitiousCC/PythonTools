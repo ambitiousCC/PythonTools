{
 "cells": [
  {
   "cell_type": "code",
   "execution_count": 1,
   "metadata": {},
   "outputs": [],
   "source": [
    "# 函数式编程 \n",
    "# 一切皆对象"
   ]
  },
  {
   "cell_type": "code",
   "execution_count": 2,
   "metadata": {},
   "outputs": [
    {
     "name": "stdout",
     "output_type": "stream",
     "text": [
      "<class 'function'>\n"
     ]
    }
   ],
   "source": [
    "def a():\n",
    "    pass\n",
    "print(type(a))"
   ]
  },
  {
   "cell_type": "code",
   "execution_count": 6,
   "metadata": {},
   "outputs": [
    {
     "name": "stdout",
     "output_type": "stream",
     "text": [
      "this is inside-fuc\n"
     ]
    }
   ],
   "source": [
    "def curve_pre():\n",
    "    def curve():\n",
    "        print(\"this is inside-fuc\")\n",
    "        pass\n",
    "    return curve\n",
    "    \n",
    "# 无法调用 内部函数 curve()\n",
    "# 除非\n",
    "f = curve_pre()\n",
    "f()"
   ]
  },
  {
   "cell_type": "code",
   "execution_count": null,
   "metadata": {},
   "outputs": [],
   "source": [
    "# 具体一点。"
   ]
  },
  {
   "cell_type": "code",
   "execution_count": 8,
   "metadata": {},
   "outputs": [
    {
     "name": "stdout",
     "output_type": "stream",
     "text": [
      "40\n"
     ]
    }
   ],
   "source": [
    "a = 10\n",
    "def f1(x):\n",
    "    return a*x*x\n",
    "\n",
    "print(f1(2)) # 如果找不到值，就从外面找"
   ]
  },
  {
   "cell_type": "markdown",
   "metadata": {},
   "source": [
    "## 闭包 = 函数+环境变量"
   ]
  },
  {
   "cell_type": "code",
   "execution_count": 13,
   "metadata": {},
   "outputs": [
    {
     "name": "stdout",
     "output_type": "stream",
     "text": [
      "100\n",
      "(<cell at 0x000002051233B888: int object at 0x00007FFB5BF19640>,)\n"
     ]
    }
   ],
   "source": [
    "def curve_pre():\n",
    "    a = 25 # 闭包！！！\n",
    "    def curve(x):\n",
    "        return a*x*x # 只会对函数内的环境变量\n",
    "    return curve\n",
    "    \n",
    "a = 10 # 无法覆盖内部变量\n",
    "f = curve_pre()\n",
    "print(f(2))\n",
    "print(f.__closure__)"
   ]
  },
  {
   "cell_type": "code",
   "execution_count": 18,
   "metadata": {},
   "outputs": [
    {
     "name": "stdout",
     "output_type": "stream",
     "text": [
      "<function f1.<locals>.f2 at 0x00000205123C3488>\n",
      "(<cell at 0x00000205123D9108: int object at 0x00007FFB5BF19460>,)\n"
     ]
    }
   ],
   "source": [
    "def f1():\n",
    "    a = 10\n",
    "    def f2():\n",
    "        # a = 20\n",
    "        # a被python认为是一个局部变量\n",
    "        c = 20 * a\n",
    "    return f2\n",
    "\n",
    "f = f1()\n",
    "print(f)\n",
    "print(f.__closure__)"
   ]
  },
  {
   "cell_type": "markdown",
   "metadata": {},
   "source": [
    "## global"
   ]
  },
  {
   "cell_type": "code",
   "execution_count": 27,
   "metadata": {},
   "outputs": [
    {
     "name": "stdout",
     "output_type": "stream",
     "text": [
      "2\n",
      "5\n",
      "11\n"
     ]
    }
   ],
   "source": [
    "origin = 0\n",
    "\n",
    "def go(step):\n",
    "    # 需要声明全局变量!!!!!\n",
    "    global origin\n",
    "    new_pos = origin + step # 在内部没有定义，所以会在全局去找\n",
    "    origin = new_pos # 如果在内部定义，那么就不会在全局执行执行\n",
    "    return new_pos\n",
    "\n",
    "print(go(2))\n",
    "print(go(3))\n",
    "print(go(6))"
   ]
  },
  {
   "cell_type": "markdown",
   "metadata": {},
   "source": [
    "## 闭包方式：nonlocal\n",
    "强制将变量声明为非局部变量<br>\n",
    "优点：不改变全局变量"
   ]
  },
  {
   "cell_type": "code",
   "execution_count": 37,
   "metadata": {},
   "outputs": [
    {
     "name": "stdout",
     "output_type": "stream",
     "text": [
      "2\n",
      "5\n",
      "10\n"
     ]
    }
   ],
   "source": [
    "origin = 0\n",
    "def factory(pos):\n",
    "    def go(step):\n",
    "        nonlocal pos\n",
    "        new_pos = pos + step\n",
    "        pos = new_pos\n",
    "        return new_pos\n",
    "    return go\n",
    "\n",
    "tourist = factory(origin)\n",
    "print(tourist(2))\n",
    "# print(tourist.__closure__[0].cell_contents) #打印\n",
    "print(tourist(3))\n",
    "print(tourist(5))"
   ]
  },
  {
   "cell_type": "code",
   "execution_count": null,
   "metadata": {},
   "outputs": [],
   "source": []
  }
 ],
 "metadata": {
  "kernelspec": {
   "display_name": "Python 3",
   "language": "python",
   "name": "python3"
  },
  "language_info": {
   "codemirror_mode": {
    "name": "ipython",
    "version": 3
   },
   "file_extension": ".py",
   "mimetype": "text/x-python",
   "name": "python",
   "nbconvert_exporter": "python",
   "pygments_lexer": "ipython3",
   "version": "3.7.3"
  }
 },
 "nbformat": 4,
 "nbformat_minor": 2
}
