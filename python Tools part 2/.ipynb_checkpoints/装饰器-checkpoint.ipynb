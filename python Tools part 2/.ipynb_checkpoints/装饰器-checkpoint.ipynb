{
 "cells": [
  {
   "cell_type": "markdown",
   "metadata": {},
   "source": [
    "# 装饰器"
   ]
  },
  {
   "cell_type": "code",
   "execution_count": 2,
   "metadata": {},
   "outputs": [
    {
     "name": "stdout",
     "output_type": "stream",
     "text": [
      "1582371362.5803218\n",
      "This is a function\n"
     ]
    }
   ],
   "source": [
    "import time\n",
    "\n",
    "def f1():\n",
    "    print(time.time())\n",
    "    print('This is a function')\n",
    "    \n",
    "f1()"
   ]
  },
  {
   "cell_type": "code",
   "execution_count": 26,
   "metadata": {},
   "outputs": [
    {
     "name": "stdout",
     "output_type": "stream",
     "text": [
      "1582373650.7331545\n",
      "this is a funcitontest var\n",
      "-----end------\n",
      "1582373650.7341516\n",
      "This is a function namedtest for more var\n",
      "This is a function named2test for more var2\n",
      "-----end------\n",
      "1582373650.7341516\n",
      "This is a function namedtest for more var\n",
      "This is a function named2test for more var2\n",
      "{'a': 1, 'b': 23, 'c': '23'}\n",
      "-----end------\n"
     ]
    }
   ],
   "source": [
    "import time\n",
    "\n",
    "def decorator(func):\n",
    "    #| key word\n",
    "    def wrapper(*args,**kw): # 通用函数参数列表,多参数使用**kw表示\n",
    "        # 共通内容\n",
    "        print(time.time())\n",
    "        # 函数模块\n",
    "        func(*args,**kw)\n",
    "        print('-----end------')\n",
    "    return wrapper\n",
    "\n",
    "@decorator # 装饰器name\n",
    "def f1(func_name):\n",
    "    print('this is a funciton' + func_name)\n",
    "@decorator\n",
    "def f2(func_name1,func_name2):\n",
    "    print('This is a function named'+func_name1)\n",
    "    print('This is a function named2'+func_name2)\n",
    "@decorator\n",
    "def f3(func_name1,func_name2,**kw):\n",
    "    print('This is a function named'+func_name1)\n",
    "    print('This is a function named2'+func_name2)\n",
    "    print(kw) # 多参数以列表的方式\n",
    "\n",
    "f1('test var')\n",
    "f2('test for more var','test for more var2')\n",
    "f3('test for more var','test for more var2',a=1,b=23,c='23')\n",
    "# f = decorator(f1)\n",
    "# f()"
   ]
  }
 ],
 "metadata": {
  "kernelspec": {
   "display_name": "Python 3",
   "language": "python",
   "name": "python3"
  },
  "language_info": {
   "codemirror_mode": {
    "name": "ipython",
    "version": 3
   },
   "file_extension": ".py",
   "mimetype": "text/x-python",
   "name": "python",
   "nbconvert_exporter": "python",
   "pygments_lexer": "ipython3",
   "version": "3.7.3"
  }
 },
 "nbformat": 4,
 "nbformat_minor": 2
}
