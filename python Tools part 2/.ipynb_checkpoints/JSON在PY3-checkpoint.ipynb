{
 "cells": [
  {
   "cell_type": "markdown",
   "metadata": {},
   "source": [
    "# JSON格式\n",
    "* JSON是一种数据格式\n",
    "* 字符串是JSON的表现形式\n",
    "* 符合格式的就叫做JSON字符串\n",
    "在python中json字符串中，里面的用 \" ,外面的用 '"
   ]
  },
  {
   "cell_type": "markdown",
   "metadata": {},
   "source": [
    "json|python\n",
    ":--:|:--:\n",
    "object|dict\n",
    "array|list\n",
    "string|str\n",
    "number|int\n",
    "number|float\n",
    "true|True\n",
    "false|False\n",
    "null|None"
   ]
  },
  {
   "cell_type": "code",
   "execution_count": 14,
   "metadata": {},
   "outputs": [
    {
     "name": "stdout",
     "output_type": "stream",
     "text": [
      "<class 'dict'>\n",
      "qiyue\n",
      "<class 'list'>\n",
      "[{'name': 'qiyue', 'age': 10}, {'name': 'qiyue', 'age': 10}]\n",
      "<class 'dict'>\n",
      "{'name': 'qiyue', 'age': 10, 'flag': True}\n",
      "<class 'str'>\n",
      "[{\"name\": \"cuiqin\", \"age\": 13}, {\"name\": \"liumengjie\", \"age\": 12, \"flag\": true}]\n"
     ]
    }
   ],
   "source": [
    "import json\n",
    "json_str = '{\"name\":\"qiyue\",\"age\":10}'\n",
    "\n",
    "# 反序列化：python数据格式和json字符串的转化\n",
    "student = json.loads(json_str)\n",
    "print(type(student))\n",
    "print(student['name'])\n",
    "\n",
    "json_str2 = '[{\"name\":\"qiyue\",\"age\":10},{\"name\":\"qiyue\",\"age\":10}]'\n",
    "students = json.loads(json_str2)\n",
    "print(type(students))\n",
    "print(students)\n",
    "\n",
    "json_str1 = '{\"name\":\"qiyue\",\"age\":10,\"flag\":true}'\n",
    "student1 = json.loads(json_str1)\n",
    "print(type(student1))\n",
    "print(student1)\n",
    "\n",
    "# 序列化，python向json数据格式转换\n",
    "student = [\n",
    "    {'name':'cuiqin','age':13},\n",
    "    {'name':'liumengjie','age':12,'flag':True}\n",
    "]\n",
    "json_str = json.dumps(student)\n",
    "print(type(json_str))\n",
    "print(json_str)"
   ]
  },
  {
   "cell_type": "markdown",
   "metadata": {},
   "source": [
    "* JSON对象 \n",
    "* JSON 数据交换的数据格式\n",
    "* JSON字符串 符合JSON格式的字符擦混"
   ]
  }
 ],
 "metadata": {
  "kernelspec": {
   "display_name": "Python 3",
   "language": "python",
   "name": "python3"
  },
  "language_info": {
   "codemirror_mode": {
    "name": "ipython",
    "version": 3
   },
   "file_extension": ".py",
   "mimetype": "text/x-python",
   "name": "python",
   "nbconvert_exporter": "python",
   "pygments_lexer": "ipython3",
   "version": "3.7.3"
  }
 },
 "nbformat": 4,
 "nbformat_minor": 2
}
