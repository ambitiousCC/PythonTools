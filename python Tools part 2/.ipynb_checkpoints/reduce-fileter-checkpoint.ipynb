{
 "cells": [
  {
   "cell_type": "markdown",
   "metadata": {},
   "source": [
    "# Reduce\n",
    "连续的计算"
   ]
  },
  {
   "cell_type": "code",
   "execution_count": 2,
   "metadata": {},
   "outputs": [
    {
     "name": "stdout",
     "output_type": "stream",
     "text": [
      "69\n"
     ]
    }
   ],
   "source": [
    "from functools import reduce\n",
    "\n",
    "# 这里的匿名函数必须要两个参数，并没有像map一样必须要制定参数\n",
    "list_x = [1,2,3,4,56,3]\n",
    "r = reduce(lambda x,y:x+y,list_x) # 最后一个参数是初始值\n",
    "# 计算过程：(((((1+2)+3)+4)+56)+3)\n",
    "print(r)"
   ]
  },
  {
   "cell_type": "markdown",
   "metadata": {},
   "source": [
    "# Filter\n",
    "过滤器，给出条件筛选出符合条件的元素"
   ]
  },
  {
   "cell_type": "code",
   "execution_count": 19,
   "metadata": {},
   "outputs": [
    {
     "name": "stdout",
     "output_type": "stream",
     "text": [
      "[1, 1, 1]\n",
      "['A', 'C', 'D']\n"
     ]
    }
   ],
   "source": [
    "list_x = [1,0,1,0,1,0]\n",
    "# r = filter(lambda x: True if x==1 else False, list_x)\n",
    "r = filter(lambda x: x,list_x)\n",
    "print(list(r))\n",
    "\n",
    "list_u = ['A','b','C','D']\n",
    "r = filter(lambda x: x.isupper(),list_u)\n",
    "print(list(r))"
   ]
  },
  {
   "cell_type": "markdown",
   "metadata": {},
   "source": [
    "总结：函数式编程的关键词为 map reduce filter lambda"
   ]
  }
 ],
 "metadata": {
  "kernelspec": {
   "display_name": "Python 3",
   "language": "python",
   "name": "python3"
  },
  "language_info": {
   "codemirror_mode": {
    "name": "ipython",
    "version": 3
   },
   "file_extension": ".py",
   "mimetype": "text/x-python",
   "name": "python",
   "nbconvert_exporter": "python",
   "pygments_lexer": "ipython3",
   "version": "3.7.3"
  }
 },
 "nbformat": 4,
 "nbformat_minor": 2
}
