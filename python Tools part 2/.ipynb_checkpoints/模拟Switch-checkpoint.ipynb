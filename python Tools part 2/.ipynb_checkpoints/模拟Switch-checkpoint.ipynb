{
 "cells": [
  {
   "cell_type": "markdown",
   "metadata": {},
   "source": [
    "## 模拟switch 语句\n",
    "字典映射模拟：由于switch写起来并不美观"
   ]
  },
  {
   "cell_type": "code",
   "execution_count": 7,
   "metadata": {},
   "outputs": [
    {
     "name": "stdout",
     "output_type": "stream",
     "text": [
      "Sunday\n"
     ]
    }
   ],
   "source": [
    "day = 0\n",
    "\n",
    "def get_sunday():\n",
    "    return 'Sunday'\n",
    "\n",
    "def get_monday():\n",
    "    return 'Monday'\n",
    "\n",
    "def get_tuesday():\n",
    "    return 'Tuesday'\n",
    "\n",
    "def get_default():\n",
    "    return 'Default'\n",
    "\n",
    "switcher = {\n",
    "    0:get_sunday,\n",
    "    1:get_monday,\n",
    "    2:get_tuesday\n",
    "}\n",
    "\n",
    "\n",
    "day_name = switcher.get(day,get_default)()\n",
    "print(day_name)"
   ]
  }
 ],
 "metadata": {
  "kernelspec": {
   "display_name": "Python 3",
   "language": "python",
   "name": "python3"
  },
  "language_info": {
   "codemirror_mode": {
    "name": "ipython",
    "version": 3
   },
   "file_extension": ".py",
   "mimetype": "text/x-python",
   "name": "python",
   "nbconvert_exporter": "python",
   "pygments_lexer": "ipython3",
   "version": "3.7.3"
  }
 },
 "nbformat": 4,
 "nbformat_minor": 2
}
