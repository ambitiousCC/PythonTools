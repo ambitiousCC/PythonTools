{
 "cells": [
  {
   "cell_type": "markdown",
   "metadata": {},
   "source": [
    "# Urlib模块"
   ]
  },
  {
   "cell_type": "markdown",
   "metadata": {},
   "source": [
    "## 简单应用"
   ]
  },
  {
   "cell_type": "code",
   "execution_count": 20,
   "metadata": {},
   "outputs": [],
   "source": [
    "import urllib.request\n",
    "import re\n",
    "\n",
    "url = 'http://www.jd.com'\n",
    "# 解码忽略细节\n",
    "data = urllib.request.urlopen(url).read().decode('utf-8','ignore')\n",
    "len(data)\n",
    "pat = '<title>(.*)?</title>'\n",
    "r = re.compile(pat,re.S).findall(data)"
   ]
  },
  {
   "cell_type": "markdown",
   "metadata": {},
   "source": [
    "## 写入文件"
   ]
  },
  {
   "cell_type": "code",
   "execution_count": 24,
   "metadata": {},
   "outputs": [
    {
     "data": {
      "text/plain": [
       "('C:\\\\Users\\\\CuiQinPlus\\\\Documents\\\\Python-study-work\\\\Scrapy\\\\京东.html',\n",
       " <http.client.HTTPMessage at 0x1aec903bac8>)"
      ]
     },
     "execution_count": 24,
     "metadata": {},
     "output_type": "execute_result"
    }
   ],
   "source": [
    "import urllib\n",
    "\n",
    "url = 'http://www.jd.com'\n",
    "filename = \"C:\\\\Users\\\\CuiQinPlus\\\\Documents\\\\Python-study-work\\\\Scrapy\\\\京东.html\"\n",
    "urllib.request.urlretrieve(url,filename=filename)"
   ]
  },
  {
   "cell_type": "markdown",
   "metadata": {},
   "source": [
    "## 伪装浏览器"
   ]
  },
  {
   "cell_type": "code",
   "execution_count": 28,
   "metadata": {},
   "outputs": [
    {
     "data": {
      "text/plain": [
       "('C:\\\\Users\\\\CuiQinPlus\\\\Documents\\\\Python-study-work\\\\Scrapy\\\\糗事百科.html',\n",
       " <http.client.HTTPMessage at 0x1aec903ce80>)"
      ]
     },
     "execution_count": 28,
     "metadata": {},
     "output_type": "execute_result"
    }
   ],
   "source": [
    "import urllib.request\n",
    "\n",
    "opener = urllib.request.build_opener()\n",
    "UA = (\"User-Agent\",\"Mozilla/5.0 (Windows NT 10.0; Win64; x64) AppleWebKit/537.36 (KHTML, like Gecko) Chrome/77.0.3865.90 Safari/537.36\")\n",
    "\n",
    "# 地址和信息\n",
    "url = 'http://www.qiushibaike.com'\n",
    "filename = \"C:\\\\Users\\\\CuiQinPlus\\\\Documents\\\\Python-study-work\\\\Scrapy\\\\糗事百科.html\"\n",
    "\n",
    "# 将信息放入全局，注意这个addheaders\n",
    "opener.addheaders = [UA]\n",
    "urllib.request.install_opener(opener)\n",
    "data = urllib.request.urlretrieve(url,filename=filename)\n",
    "data"
   ]
  },
  {
   "cell_type": "markdown",
   "metadata": {},
   "source": [
    "## 用户代理池\n",
    "* 频繁访问某一个网站\n",
    "* 多个浏览器标识构成代理池"
   ]
  },
  {
   "cell_type": "code",
   "execution_count": 31,
   "metadata": {},
   "outputs": [
    {
     "name": "stdout",
     "output_type": "stream",
     "text": [
      "当前使用:Mozilla/5.0 (Windows NT 6.1) AppleWebKit/536.5\n",
      "9869\n",
      "当前使用:Mozilla/5.0 (Windows NT 6.1) AppleWebKit/536.5\n",
      "9869\n",
      "当前使用:Mozilla/5.0 (Windows NT 6.1; WOW64; rv:48.0) Gecko/20100101 Firefox/48.0\n",
      "9869\n",
      "当前使用:Mozilla/5.0 (Windows NT 6.1; WOW64; rv:48.0) Gecko/20100101 Firefox/48.0\n",
      "9869\n",
      "当前使用:Mozilla/5.0 (Windows NT 6.1; WOW64; rv:48.0) Gecko/20100101 Firefox/48.0\n",
      "9869\n",
      "当前使用:Mozilla/5.0 (Windows NT 6.1; WOW64; rv:48.0) Gecko/20100101 Firefox/48.0\n",
      "9869\n",
      "当前使用:Mozilla/5.0 (Windows NT 10.0; Win64; x64; rv:60.0) Gecko/20100101 Firefox/60.0\n",
      "9869\n",
      "当前使用:Mozilla/5.0 (Windows NT 6.1; WOW64; rv:48.0) Gecko/20100101 Firefox/48.0\n",
      "9869\n",
      "当前使用:Mozilla/4.0 (compatible; MISE 7.0; Windows NT 5.1; Maxthon 2.0)\n",
      "9869\n",
      "当前使用:Mozilla/5.0 (Windows NT 6.1) AppleWebKit/536.5\n",
      "9869\n"
     ]
    }
   ],
   "source": [
    "import urllib.request\n",
    "import random\n",
    "\n",
    "uapools = UAPOOL = [\n",
    "    \"Mozilla/5.0 (Windows NT 10.0; Win64; x64; rv:60.0) Gecko/20100101 Firefox/60.0\",\n",
    "    \"Mozilla/5.0 (Windows NT 6.1) AppleWebKit/536.5\",\n",
    "    \"Mozilla/5.0 (Windows NT 6.1; WOW64; rv:48.0) Gecko/20100101 Firefox/48.0\",\n",
    "    \"Mozilla/4.0 (compatible; MISE 7.0; Windows NT 5.1; Maxthon 2.0)\"\n",
    "]\n",
    "\n",
    "# 实现用户代理\n",
    "def UA():\n",
    "    opener = urllib.request.build_opener()\n",
    "    thisua = random.choice(uapools)\n",
    "    ua = (\"User-Agent\",thisua)\n",
    "    opener.addheaders = [ua]\n",
    "    urllib.request.install_opener(opener)\n",
    "    print(\"当前使用:\"+str(thisua))\n",
    "    \n",
    "url = \"https://www.qiushibaike.com\"\n",
    "for i in range(0,10):\n",
    "    # 可以在这里使用，爬几次就换 if i%n ==3:\n",
    "    UA()\n",
    "    data = urllib.request.urlopen(url).read().decode('utf-8','ignore')\n",
    "    print(len(data))"
   ]
  },
  {
   "cell_type": "markdown",
   "metadata": {},
   "source": [
    "## 实现翻页\n",
    "* 原网址 已经挂了\n",
    "\n",
    "```python\n",
    "import urllib.request\n",
    "import re\n",
    "import random\n",
    "import time\n",
    "\n",
    "uapools = []\n",
    "\n",
    "def UA():\n",
    "    opener = urllib.request.build_opener()\n",
    "    thisua = random.choice(uapools)\n",
    "    ua = (\"User-Agent\",thisua)\n",
    "    opener.addheaders = [ua]\n",
    "    urllib.request.install_opener(opener)\n",
    "for i in range(0,n):\n",
    "    UA()\n",
    "    \n",
    "    # 放入网址：根据翻页网址的变化使用正则表达式\n",
    "    thisurl = \"https://www.xx.com/xx/xx/\"+str(i+1)+\"/xxx\"\n",
    "    \n",
    "    # 如果出现问题\n",
    "    try:\n",
    "        data = urllib.request.urlopen(thisurl).read().decode(\"utf-8\",\"ignore\")\n",
    "        pat = '<div class=\"content\">.*?<span>(.*?)</span>.*?</div>'\n",
    "        rst = re.compile(pat,re.S).findall(data)\n",
    "        for j in range(0,len(rst)):\n",
    "            print(rst[j])\n",
    "            print(\"--------\")\n",
    "    except Exception as err:\n",
    "        pass\n",
    "```"
   ]
  },
  {
   "cell_type": "code",
   "execution_count": 35,
   "metadata": {},
   "outputs": [
    {
     "name": "stdout",
     "output_type": "stream",
     "text": [
      "链接成功\n",
      "链接成功\n",
      "[]\n"
     ]
    }
   ],
   "source": [
    "# import requests\n",
    "# import os\n",
    "# import re\n",
    " \n",
    "# def get_page(url,page_num):\n",
    "#     pageList =[]\n",
    "#     for i in range(1,page_num +1):\n",
    "#         formdata ={'type':'index' ,\n",
    "#                    'paged': i}\n",
    "#         try:\n",
    "#             r = requests.post(url,data =formdata)\n",
    "#             r.raise_for_status()\n",
    "#             r.encoding = r.apparent_encoding\n",
    "#             print('链接成功')\n",
    "#             p = re.compile(r'href=\"(https://www.jdlingyu.mobi/\\d{5}/)\"')\n",
    "#             tempList = re.findall(p,r.text)\n",
    "#             for each in tempList:\n",
    "#                 pageList.append(each)\n",
    "#                 print('保存页面成功')\n",
    "#             tempList = []\n",
    "#         except:\n",
    "#             print('链接失败')\n",
    "#     print(pageList)\n",
    "#     return pageList\n",
    " \n",
    "# def get_picure(pageList):\n",
    "#     picList = []\n",
    "#     for each in pageList:\n",
    "#         try:\n",
    "#             r = requests.get(each,headers = kv)\n",
    "#             r.raise_for_status()\n",
    "#             r.encoding = r.apparent_encoding\n",
    "#             p = re.compile('http://img.jdlingyu.net/images/.*?.jpg')\n",
    "#             tempList = re.findall(p,r.text)\n",
    "#             for each in tempList:\n",
    "#                 picList.append(each)\n",
    "#                 print('保存图片链接成功')\n",
    "#             tempList = []\n",
    "#         except:\n",
    "#             print('保存图片链接失败')\n",
    "#     return picList\n",
    "# def down_picture(picList,root):\n",
    "#     picList = list(set(picList))\n",
    "#     if not os.path.exists(root):\n",
    "#         os.mkdir(root)\n",
    "#     for each in picList:\n",
    "#         path = root + each.split('/')[-1]\n",
    "#         if not os.path.exists(path):\n",
    "#             r = requests.get(each,headers = kv)\n",
    "#             r.raise_for_status()\n",
    "#             with open(path,'wb') as f:\n",
    "#                 f.write(r.content)\n",
    "#                 print('动图已保存')\n",
    "#         else:\n",
    "#             print('动图已存在')\n",
    " \n",
    "# url = 'https://www.jdlingyu.mobi/'\n",
    "# kv = {'User-Agent':'Mozilla/5.0 (Windows NT 6.3; WOW64) AppleWebKit/537.36 (KHTML, like Gecko) Chrome/49.0.2623.221 Safari/537.36 SE 2.X MetaSr 1.0'}\n",
    "# root = 'D://绝对领域//'\n",
    "# pageList = get_page(url,2)\n",
    "# picList = get_picure(pageList)\n",
    "# down_picture(picList,root)"
   ]
  }
 ],
 "metadata": {
  "kernelspec": {
   "display_name": "Python 3",
   "language": "python",
   "name": "python3"
  },
  "language_info": {
   "codemirror_mode": {
    "name": "ipython",
    "version": 3
   },
   "file_extension": ".py",
   "mimetype": "text/x-python",
   "name": "python",
   "nbconvert_exporter": "python",
   "pygments_lexer": "ipython3",
   "version": "3.7.6"
  }
 },
 "nbformat": 4,
 "nbformat_minor": 2
}
