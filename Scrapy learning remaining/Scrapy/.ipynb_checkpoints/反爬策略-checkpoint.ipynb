{
 "cells": [
  {
   "cell_type": "code",
   "execution_count": 1,
   "metadata": {},
   "outputs": [
    {
     "ename": "SyntaxError",
     "evalue": "invalid syntax (<ipython-input-1-f4ba633e3f4e>, line 1)",
     "output_type": "error",
     "traceback": [
      "\u001b[1;36m  File \u001b[1;32m\"<ipython-input-1-f4ba633e3f4e>\"\u001b[1;36m, line \u001b[1;32m1\u001b[0m\n\u001b[1;33m    1. 通过UA限制或者其他头信息限制\u001b[0m\n\u001b[1;37m                     ^\u001b[0m\n\u001b[1;31mSyntaxError\u001b[0m\u001b[1;31m:\u001b[0m invalid syntax\n"
     ]
    }
   ],
   "source": [
    "1. 通过UA限制或者其他头信息限制\n",
    "：构建用户代理池\n",
    "2. 通过访问者IP限制\n",
    "：构建IP代理池，讯代理可以获取api\n",
    "3. 通过验证码限制\n",
    "：手工打码、验证码接口自动识别或者通过机器学习自动识别\n",
    "，自动识别，云打码可以获取自动识别api接口\n",
    "4. 通过数据的异步加载限制\n",
    "：抓包分析或者使用PhantomJS\n",
    "5. 通过Cookie限制\n",
    "：进行Cookie处理\n",
    "6. 通过JS限制（例如：请求的数据通过JS随机生成\n",
    "：分析JS解密或者使用PhantomJS"
   ]
  },
  {
   "cell_type": "code",
   "execution_count": 8,
   "metadata": {},
   "outputs": [],
   "source": [
    "# 在需要时直接导入所有模块\n",
    "import time\n",
    "# 同时使用用户代理池河IP代理池\n",
    "def ua_ip(ippools,myurl,thisapi):\n",
    "    import random\n",
    "    uapools = [\n",
    "        \"\",\n",
    "        \"\",\n",
    "        \"\",\n",
    "    ]\n",
    "    import urllib.request\n",
    "    def api(thisapi):\n",
    "        print(\"调用了接口\")\n",
    "        import urllib.request\n",
    "        urllib.request.urlcleanup()\n",
    "        thisall = urllib.reqeust.urlopen(thisapi).read().decode(\"utf-8\",\"ignore\")\n",
    "        print(\"接口调用完成\")\n",
    "        return thisall\n",
    "    def ip(ippools,uapools):\n",
    "        thisua = random.choice(uapools)\n",
    "        print(thisua)\n",
    "        headers = (\"User-Agent\",thisua)\n",
    "        thisip = ippools\n",
    "        print(\"当前使用的ip是\"+thisip)\n",
    "        proxy = urllib.request.ProxyHandler({\"http\":thisip})\n",
    "        opener = urllib.request.build_opener(proxy,urllib.request.HTTPHandler)\n",
    "        opener.addheaders=[headers]\n",
    "        urllib.request.install_opener(opener)\n",
    "    if(ippools==0):\n",
    "        while True:\n",
    "            ippools = api(thisapi)\n",
    "            print(\"提取IP完成\")\n",
    "            ip(ippools,uapools)\n",
    "            print(\"正在验证IP有效性\")\n",
    "            data1 = urllib.request.urlopen(\"http://www.baidu.com\").read().decode(\"utf-8\",\"ignore\")\n",
    "            if(len(data1)>5000):\n",
    "                print(\"当前IP有效\")\n",
    "                break\n",
    "            else:\n",
    "                print(\"当前IP无效\")\n",
    "                time.sleep(60)\n",
    "    url = myurl\n",
    "    data1 = urllib.request.urlopen(url).read()\n",
    "    data = data1.decode(\"utf-8\",\"ignore\")\n",
    "    return ippools,data"
   ]
  },
  {
   "cell_type": "code",
   "execution_count": null,
   "metadata": {},
   "outputs": [],
   "source": []
  },
  {
   "cell_type": "code",
   "execution_count": null,
   "metadata": {},
   "outputs": [],
   "source": []
  },
  {
   "cell_type": "code",
   "execution_count": null,
   "metadata": {},
   "outputs": [],
   "source": []
  },
  {
   "cell_type": "code",
   "execution_count": null,
   "metadata": {},
   "outputs": [],
   "source": []
  },
  {
   "cell_type": "code",
   "execution_count": null,
   "metadata": {},
   "outputs": [],
   "source": []
  },
  {
   "cell_type": "code",
   "execution_count": null,
   "metadata": {},
   "outputs": [],
   "source": []
  }
 ],
 "metadata": {
  "kernelspec": {
   "display_name": "Python 3",
   "language": "python",
   "name": "python3"
  },
  "language_info": {
   "codemirror_mode": {
    "name": "ipython",
    "version": 3
   },
   "file_extension": ".py",
   "mimetype": "text/x-python",
   "name": "python",
   "nbconvert_exporter": "python",
   "pygments_lexer": "ipython3",
   "version": "3.7.4"
  }
 },
 "nbformat": 4,
 "nbformat_minor": 2
}
