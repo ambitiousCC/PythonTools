{
 "cells": [
  {
   "cell_type": "code",
   "execution_count": 10,
   "metadata": {},
   "outputs": [
    {
     "name": "stdout",
     "output_type": "stream",
     "text": [
      "\n",
      "*****************************************************\n",
      "*                                                   *\n",
      "****************    Code By yzddMr6   ***************\n",
      "*                                                   *\n",
      "*****************************************************\n",
      "\n",
      "File or Url:\n",
      "http://192.168.124.1/router_password_mobile.asp\n",
      "未识别出当前所使用cms\n",
      "cms_id= 0\n",
      "captchas ['验证码', '验 证 码', '点击更换', '点击刷新', '看不清', '认证码', '安全问题']\n",
      "title H3C Magic R100&nbsp路由器登录\n"
     ]
    }
   ],
   "source": [
    "run ./webcrack.py"
   ]
  },
  {
   "cell_type": "code",
   "execution_count": null,
   "metadata": {},
   "outputs": [],
   "source": []
  }
 ],
 "metadata": {
  "kernelspec": {
   "display_name": "Python 3",
   "language": "python",
   "name": "python3"
  },
  "language_info": {
   "codemirror_mode": {
    "name": "ipython",
    "version": 3
   },
   "file_extension": ".py",
   "mimetype": "text/x-python",
   "name": "python",
   "nbconvert_exporter": "python",
   "pygments_lexer": "ipython3",
   "version": "3.7.4"
  }
 },
 "nbformat": 4,
 "nbformat_minor": 2
}
